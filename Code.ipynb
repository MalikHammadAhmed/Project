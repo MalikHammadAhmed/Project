{
 "cells": [
  {
   "cell_type": "code",
   "execution_count": 64,
   "id": "8132629e",
   "metadata": {},
   "outputs": [],
   "source": [
    "import pandas as pd\n",
    "import numpy as np\n",
    "#import glob\n",
    "#import os\n",
    "import matplotlib.pyplot as plt\n",
    "from datetime import datetime, timedelta\n",
    "from wordcloud import WordCloud"
   ]
  },
  {
   "cell_type": "markdown",
   "id": "a9a9ac24",
   "metadata": {},
   "source": [
    "# Working on Tweets Dataset"
   ]
  },
  {
   "cell_type": "code",
   "execution_count": 65,
   "id": "2e2908a4",
   "metadata": {},
   "outputs": [],
   "source": [
    "#all_tweets = glob.glob(\"/home/hammad/Workdir/FYP/Dataset/Tweets/*.csv\")"
   ]
  },
  {
   "cell_type": "code",
   "execution_count": 66,
   "id": "ca18ab45",
   "metadata": {},
   "outputs": [],
   "source": [
    "#tweets_dataset = pd.concat((pd.read_csv(f) for f in all_tweets))\n",
    "tweets_dataset= pd.read_csv('/home/hammad/Dropbox/University of Hertfordshire/FYP Project/Dataset/elonmusk_tweets.csv', parse_dates=[\"created_at\"])\n"
   ]
  },
  {
   "cell_type": "code",
   "execution_count": 67,
   "id": "1831515a",
   "metadata": {},
   "outputs": [
    {
     "data": {
      "text/html": [
       "<div>\n",
       "<style scoped>\n",
       "    .dataframe tbody tr th:only-of-type {\n",
       "        vertical-align: middle;\n",
       "    }\n",
       "\n",
       "    .dataframe tbody tr th {\n",
       "        vertical-align: top;\n",
       "    }\n",
       "\n",
       "    .dataframe thead th {\n",
       "        text-align: right;\n",
       "    }\n",
       "</style>\n",
       "<table border=\"1\" class=\"dataframe\">\n",
       "  <thead>\n",
       "    <tr style=\"text-align: right;\">\n",
       "      <th></th>\n",
       "      <th>id</th>\n",
       "      <th>created_at</th>\n",
       "      <th>text</th>\n",
       "    </tr>\n",
       "  </thead>\n",
       "  <tbody>\n",
       "    <tr>\n",
       "      <th>0</th>\n",
       "      <td>849636868052275200</td>\n",
       "      <td>2017-04-05 14:56:29</td>\n",
       "      <td>b'And so the robots spared humanity ... https:...</td>\n",
       "    </tr>\n",
       "    <tr>\n",
       "      <th>1</th>\n",
       "      <td>848988730585096192</td>\n",
       "      <td>2017-04-03 20:01:01</td>\n",
       "      <td>b\"@ForIn2020 @waltmossberg @mims @defcon_5 Exa...</td>\n",
       "    </tr>\n",
       "    <tr>\n",
       "      <th>2</th>\n",
       "      <td>848943072423497728</td>\n",
       "      <td>2017-04-03 16:59:35</td>\n",
       "      <td>b'@waltmossberg @mims @defcon_5 Et tu, Walt?'</td>\n",
       "    </tr>\n",
       "    <tr>\n",
       "      <th>3</th>\n",
       "      <td>848935705057280001</td>\n",
       "      <td>2017-04-03 16:30:19</td>\n",
       "      <td>b'Stormy weather in Shortville ...'</td>\n",
       "    </tr>\n",
       "    <tr>\n",
       "      <th>4</th>\n",
       "      <td>848416049573658624</td>\n",
       "      <td>2017-04-02 06:05:23</td>\n",
       "      <td>b\"@DaveLeeBBC @verge Coal is dying due to nat ...</td>\n",
       "    </tr>\n",
       "  </tbody>\n",
       "</table>\n",
       "</div>"
      ],
      "text/plain": [
       "                   id          created_at  \\\n",
       "0  849636868052275200 2017-04-05 14:56:29   \n",
       "1  848988730585096192 2017-04-03 20:01:01   \n",
       "2  848943072423497728 2017-04-03 16:59:35   \n",
       "3  848935705057280001 2017-04-03 16:30:19   \n",
       "4  848416049573658624 2017-04-02 06:05:23   \n",
       "\n",
       "                                                text  \n",
       "0  b'And so the robots spared humanity ... https:...  \n",
       "1  b\"@ForIn2020 @waltmossberg @mims @defcon_5 Exa...  \n",
       "2      b'@waltmossberg @mims @defcon_5 Et tu, Walt?'  \n",
       "3                b'Stormy weather in Shortville ...'  \n",
       "4  b\"@DaveLeeBBC @verge Coal is dying due to nat ...  "
      ]
     },
     "execution_count": 67,
     "metadata": {},
     "output_type": "execute_result"
    }
   ],
   "source": [
    "tweets_dataset.head()"
   ]
  },
  {
   "cell_type": "code",
   "execution_count": 68,
   "id": "5ea9b143",
   "metadata": {},
   "outputs": [
    {
     "name": "stdout",
     "output_type": "stream",
     "text": [
      "<class 'pandas.core.frame.DataFrame'>\n",
      "RangeIndex: 2819 entries, 0 to 2818\n",
      "Data columns (total 3 columns):\n",
      " #   Column      Non-Null Count  Dtype         \n",
      "---  ------      --------------  -----         \n",
      " 0   id          2819 non-null   int64         \n",
      " 1   created_at  2819 non-null   datetime64[ns]\n",
      " 2   text        2819 non-null   object        \n",
      "dtypes: datetime64[ns](1), int64(1), object(1)\n",
      "memory usage: 66.2+ KB\n"
     ]
    }
   ],
   "source": [
    "tweets_dataset.info()"
   ]
  },
  {
   "cell_type": "code",
   "execution_count": 69,
   "id": "53999b23",
   "metadata": {},
   "outputs": [],
   "source": [
    "#tweets_data = tweets_dataset[['date','tweet']]\n",
    "tweets_data = tweets_dataset[['created_at','text']] # drop the id column"
   ]
  },
  {
   "cell_type": "code",
   "execution_count": 70,
   "id": "df774d9a",
   "metadata": {},
   "outputs": [
    {
     "data": {
      "text/html": [
       "<div>\n",
       "<style scoped>\n",
       "    .dataframe tbody tr th:only-of-type {\n",
       "        vertical-align: middle;\n",
       "    }\n",
       "\n",
       "    .dataframe tbody tr th {\n",
       "        vertical-align: top;\n",
       "    }\n",
       "\n",
       "    .dataframe thead th {\n",
       "        text-align: right;\n",
       "    }\n",
       "</style>\n",
       "<table border=\"1\" class=\"dataframe\">\n",
       "  <thead>\n",
       "    <tr style=\"text-align: right;\">\n",
       "      <th></th>\n",
       "      <th>created_at</th>\n",
       "      <th>text</th>\n",
       "    </tr>\n",
       "  </thead>\n",
       "  <tbody>\n",
       "    <tr>\n",
       "      <th>0</th>\n",
       "      <td>2017-04-05 14:56:29</td>\n",
       "      <td>b'And so the robots spared humanity ... https:...</td>\n",
       "    </tr>\n",
       "    <tr>\n",
       "      <th>1</th>\n",
       "      <td>2017-04-03 20:01:01</td>\n",
       "      <td>b\"@ForIn2020 @waltmossberg @mims @defcon_5 Exa...</td>\n",
       "    </tr>\n",
       "    <tr>\n",
       "      <th>2</th>\n",
       "      <td>2017-04-03 16:59:35</td>\n",
       "      <td>b'@waltmossberg @mims @defcon_5 Et tu, Walt?'</td>\n",
       "    </tr>\n",
       "    <tr>\n",
       "      <th>3</th>\n",
       "      <td>2017-04-03 16:30:19</td>\n",
       "      <td>b'Stormy weather in Shortville ...'</td>\n",
       "    </tr>\n",
       "    <tr>\n",
       "      <th>4</th>\n",
       "      <td>2017-04-02 06:05:23</td>\n",
       "      <td>b\"@DaveLeeBBC @verge Coal is dying due to nat ...</td>\n",
       "    </tr>\n",
       "  </tbody>\n",
       "</table>\n",
       "</div>"
      ],
      "text/plain": [
       "           created_at                                               text\n",
       "0 2017-04-05 14:56:29  b'And so the robots spared humanity ... https:...\n",
       "1 2017-04-03 20:01:01  b\"@ForIn2020 @waltmossberg @mims @defcon_5 Exa...\n",
       "2 2017-04-03 16:59:35      b'@waltmossberg @mims @defcon_5 Et tu, Walt?'\n",
       "3 2017-04-03 16:30:19                b'Stormy weather in Shortville ...'\n",
       "4 2017-04-02 06:05:23  b\"@DaveLeeBBC @verge Coal is dying due to nat ..."
      ]
     },
     "execution_count": 70,
     "metadata": {},
     "output_type": "execute_result"
    }
   ],
   "source": [
    "tweets_data.head()"
   ]
  },
  {
   "cell_type": "code",
   "execution_count": 71,
   "id": "1a9e581d",
   "metadata": {},
   "outputs": [],
   "source": [
    "#tweets_data['datetime'] = pd.to_datetime(tweets_data['created_at'])"
   ]
  },
  {
   "cell_type": "code",
   "execution_count": 72,
   "id": "ed8196e9",
   "metadata": {},
   "outputs": [
    {
     "name": "stdout",
     "output_type": "stream",
     "text": [
      "<class 'pandas.core.frame.DataFrame'>\n",
      "RangeIndex: 2819 entries, 0 to 2818\n",
      "Data columns (total 2 columns):\n",
      " #   Column      Non-Null Count  Dtype         \n",
      "---  ------      --------------  -----         \n",
      " 0   created_at  2819 non-null   datetime64[ns]\n",
      " 1   text        2819 non-null   object        \n",
      "dtypes: datetime64[ns](1), object(1)\n",
      "memory usage: 44.2+ KB\n"
     ]
    }
   ],
   "source": [
    "tweets_data.info()"
   ]
  },
  {
   "cell_type": "code",
   "execution_count": 73,
   "id": "83b2934e",
   "metadata": {},
   "outputs": [],
   "source": [
    "df =  tweets_data"
   ]
  },
  {
   "cell_type": "code",
   "execution_count": 74,
   "id": "33579288",
   "metadata": {},
   "outputs": [],
   "source": [
    "df['Index'] = df.index"
   ]
  },
  {
   "cell_type": "code",
   "execution_count": 75,
   "id": "14acdb65",
   "metadata": {},
   "outputs": [],
   "source": [
    "df = tweets_data.set_index('created_at')"
   ]
  },
  {
   "cell_type": "code",
   "execution_count": 76,
   "id": "e0c2e875",
   "metadata": {},
   "outputs": [
    {
     "data": {
      "text/html": [
       "<div>\n",
       "<style scoped>\n",
       "    .dataframe tbody tr th:only-of-type {\n",
       "        vertical-align: middle;\n",
       "    }\n",
       "\n",
       "    .dataframe tbody tr th {\n",
       "        vertical-align: top;\n",
       "    }\n",
       "\n",
       "    .dataframe thead th {\n",
       "        text-align: right;\n",
       "    }\n",
       "</style>\n",
       "<table border=\"1\" class=\"dataframe\">\n",
       "  <thead>\n",
       "    <tr style=\"text-align: right;\">\n",
       "      <th></th>\n",
       "      <th>text</th>\n",
       "      <th>Index</th>\n",
       "    </tr>\n",
       "    <tr>\n",
       "      <th>created_at</th>\n",
       "      <th></th>\n",
       "      <th></th>\n",
       "    </tr>\n",
       "  </thead>\n",
       "  <tbody>\n",
       "    <tr>\n",
       "      <th>2017-04-05 14:56:29</th>\n",
       "      <td>b'And so the robots spared humanity ... https:...</td>\n",
       "      <td>0</td>\n",
       "    </tr>\n",
       "    <tr>\n",
       "      <th>2017-04-03 20:01:01</th>\n",
       "      <td>b\"@ForIn2020 @waltmossberg @mims @defcon_5 Exa...</td>\n",
       "      <td>1</td>\n",
       "    </tr>\n",
       "    <tr>\n",
       "      <th>2017-04-03 16:59:35</th>\n",
       "      <td>b'@waltmossberg @mims @defcon_5 Et tu, Walt?'</td>\n",
       "      <td>2</td>\n",
       "    </tr>\n",
       "    <tr>\n",
       "      <th>2017-04-03 16:30:19</th>\n",
       "      <td>b'Stormy weather in Shortville ...'</td>\n",
       "      <td>3</td>\n",
       "    </tr>\n",
       "    <tr>\n",
       "      <th>2017-04-02 06:05:23</th>\n",
       "      <td>b\"@DaveLeeBBC @verge Coal is dying due to nat ...</td>\n",
       "      <td>4</td>\n",
       "    </tr>\n",
       "    <tr>\n",
       "      <th>...</th>\n",
       "      <td>...</td>\n",
       "      <td>...</td>\n",
       "    </tr>\n",
       "    <tr>\n",
       "      <th>2011-12-03 08:22:07</th>\n",
       "      <td>b'That was a total non sequitur btw'</td>\n",
       "      <td>2814</td>\n",
       "    </tr>\n",
       "    <tr>\n",
       "      <th>2011-12-03 08:20:28</th>\n",
       "      <td>b'Great Voltaire quote, arguably better than T...</td>\n",
       "      <td>2815</td>\n",
       "    </tr>\n",
       "    <tr>\n",
       "      <th>2011-12-01 10:29:04</th>\n",
       "      <td>b'I made the volume on the Model S http://t.co...</td>\n",
       "      <td>2816</td>\n",
       "    </tr>\n",
       "    <tr>\n",
       "      <th>2011-12-01 09:55:11</th>\n",
       "      <td>b\"Went to Iceland on Sat to ride bumper cars o...</td>\n",
       "      <td>2817</td>\n",
       "    </tr>\n",
       "    <tr>\n",
       "      <th>2010-06-04 18:31:57</th>\n",
       "      <td>b'Please ignore prior tweets, as that was some...</td>\n",
       "      <td>2818</td>\n",
       "    </tr>\n",
       "  </tbody>\n",
       "</table>\n",
       "<p>2819 rows × 2 columns</p>\n",
       "</div>"
      ],
      "text/plain": [
       "                                                                  text  Index\n",
       "created_at                                                                   \n",
       "2017-04-05 14:56:29  b'And so the robots spared humanity ... https:...      0\n",
       "2017-04-03 20:01:01  b\"@ForIn2020 @waltmossberg @mims @defcon_5 Exa...      1\n",
       "2017-04-03 16:59:35      b'@waltmossberg @mims @defcon_5 Et tu, Walt?'      2\n",
       "2017-04-03 16:30:19                b'Stormy weather in Shortville ...'      3\n",
       "2017-04-02 06:05:23  b\"@DaveLeeBBC @verge Coal is dying due to nat ...      4\n",
       "...                                                                ...    ...\n",
       "2011-12-03 08:22:07               b'That was a total non sequitur btw'   2814\n",
       "2011-12-03 08:20:28  b'Great Voltaire quote, arguably better than T...   2815\n",
       "2011-12-01 10:29:04  b'I made the volume on the Model S http://t.co...   2816\n",
       "2011-12-01 09:55:11  b\"Went to Iceland on Sat to ride bumper cars o...   2817\n",
       "2010-06-04 18:31:57  b'Please ignore prior tweets, as that was some...   2818\n",
       "\n",
       "[2819 rows x 2 columns]"
      ]
     },
     "execution_count": 76,
     "metadata": {},
     "output_type": "execute_result"
    }
   ],
   "source": [
    "df"
   ]
  },
  {
   "cell_type": "code",
   "execution_count": 77,
   "id": "67c644cc",
   "metadata": {},
   "outputs": [
    {
     "data": {
      "text/html": [
       "<div>\n",
       "<style scoped>\n",
       "    .dataframe tbody tr th:only-of-type {\n",
       "        vertical-align: middle;\n",
       "    }\n",
       "\n",
       "    .dataframe tbody tr th {\n",
       "        vertical-align: top;\n",
       "    }\n",
       "\n",
       "    .dataframe thead th {\n",
       "        text-align: right;\n",
       "    }\n",
       "</style>\n",
       "<table border=\"1\" class=\"dataframe\">\n",
       "  <thead>\n",
       "    <tr style=\"text-align: right;\">\n",
       "      <th></th>\n",
       "      <th>text</th>\n",
       "      <th>Index</th>\n",
       "    </tr>\n",
       "    <tr>\n",
       "      <th>created_at</th>\n",
       "      <th></th>\n",
       "      <th></th>\n",
       "    </tr>\n",
       "  </thead>\n",
       "  <tbody>\n",
       "    <tr>\n",
       "      <th>2017-04-03 20:01:01</th>\n",
       "      <td>b\"@ForIn2020 @waltmossberg @mims @defcon_5 Exa...</td>\n",
       "      <td>1</td>\n",
       "    </tr>\n",
       "    <tr>\n",
       "      <th>2017-04-03 16:59:35</th>\n",
       "      <td>b'@waltmossberg @mims @defcon_5 Et tu, Walt?'</td>\n",
       "      <td>2</td>\n",
       "    </tr>\n",
       "    <tr>\n",
       "      <th>2017-04-03 16:30:19</th>\n",
       "      <td>b'Stormy weather in Shortville ...'</td>\n",
       "      <td>3</td>\n",
       "    </tr>\n",
       "    <tr>\n",
       "      <th>2017-04-01 18:44:01</th>\n",
       "      <td>b\"Why did we waste so much time developing sil...</td>\n",
       "      <td>8</td>\n",
       "    </tr>\n",
       "    <tr>\n",
       "      <th>2017-04-01 18:39:09</th>\n",
       "      <td>b'Technology breakthrough: turns out chemtrail...</td>\n",
       "      <td>9</td>\n",
       "    </tr>\n",
       "    <tr>\n",
       "      <th>...</th>\n",
       "      <td>...</td>\n",
       "      <td>...</td>\n",
       "    </tr>\n",
       "    <tr>\n",
       "      <th>2011-12-27 19:54:15</th>\n",
       "      <td>b'RT @TheOnion: Vending Machine Attendant Admi...</td>\n",
       "      <td>2793</td>\n",
       "    </tr>\n",
       "    <tr>\n",
       "      <th>2011-12-26 16:29:50</th>\n",
       "      <td>b'Walked around a neighborhood recently rebuil...</td>\n",
       "      <td>2794</td>\n",
       "    </tr>\n",
       "    <tr>\n",
       "      <th>2011-12-26 16:23:04</th>\n",
       "      <td>b\"It was Xmas, so we brought presents for the ...</td>\n",
       "      <td>2795</td>\n",
       "    </tr>\n",
       "    <tr>\n",
       "      <th>2011-12-21 23:17:11</th>\n",
       "      <td>b'Yum! Even better than deep fried butter: htt...</td>\n",
       "      <td>2806</td>\n",
       "    </tr>\n",
       "    <tr>\n",
       "      <th>2010-06-04 18:31:57</th>\n",
       "      <td>b'Please ignore prior tweets, as that was some...</td>\n",
       "      <td>2818</td>\n",
       "    </tr>\n",
       "  </tbody>\n",
       "</table>\n",
       "<p>1381 rows × 2 columns</p>\n",
       "</div>"
      ],
      "text/plain": [
       "                                                                  text  Index\n",
       "created_at                                                                   \n",
       "2017-04-03 20:01:01  b\"@ForIn2020 @waltmossberg @mims @defcon_5 Exa...      1\n",
       "2017-04-03 16:59:35      b'@waltmossberg @mims @defcon_5 Et tu, Walt?'      2\n",
       "2017-04-03 16:30:19                b'Stormy weather in Shortville ...'      3\n",
       "2017-04-01 18:44:01  b\"Why did we waste so much time developing sil...      8\n",
       "2017-04-01 18:39:09  b'Technology breakthrough: turns out chemtrail...      9\n",
       "...                                                                ...    ...\n",
       "2011-12-27 19:54:15  b'RT @TheOnion: Vending Machine Attendant Admi...   2793\n",
       "2011-12-26 16:29:50  b'Walked around a neighborhood recently rebuil...   2794\n",
       "2011-12-26 16:23:04  b\"It was Xmas, so we brought presents for the ...   2795\n",
       "2011-12-21 23:17:11  b'Yum! Even better than deep fried butter: htt...   2806\n",
       "2010-06-04 18:31:57  b'Please ignore prior tweets, as that was some...   2818\n",
       "\n",
       "[1381 rows x 2 columns]"
      ]
     },
     "execution_count": 77,
     "metadata": {},
     "output_type": "execute_result"
    }
   ],
   "source": [
    "df1 = df.between_time('16:00', '00:00')\n",
    "df1"
   ]
  },
  {
   "cell_type": "code",
   "execution_count": 78,
   "id": "5fb80bc2",
   "metadata": {},
   "outputs": [],
   "source": [
    "#df2=tweets_data.between_time('00:01', '09:00')\n",
    "#df2"
   ]
  },
  {
   "cell_type": "code",
   "execution_count": 79,
   "id": "11c31095",
   "metadata": {},
   "outputs": [],
   "source": [
    "#df = pd.concat([df1, df2])"
   ]
  },
  {
   "cell_type": "code",
   "execution_count": 80,
   "id": "23781b52",
   "metadata": {},
   "outputs": [
    {
     "name": "stderr",
     "output_type": "stream",
     "text": [
      "/tmp/ipykernel_4589/1703534820.py:2: SettingWithCopyWarning: \n",
      "A value is trying to be set on a copy of a slice from a DataFrame.\n",
      "Try using .loc[row_indexer,col_indexer] = value instead\n",
      "\n",
      "See the caveats in the documentation: https://pandas.pydata.org/pandas-docs/stable/user_guide/indexing.html#returning-a-view-versus-a-copy\n",
      "  df1['created_at']=df1.index # copying all the index values in to new column named created_at\n"
     ]
    }
   ],
   "source": [
    "df['created_at']=df.index # copying all the index values in to new column named created_at\n",
    "df1['created_at']=df1.index # copying all the index values in to new column named created_at\n",
    "df=df.set_index('Index') # Setting Index column as index\n",
    "df1=df1.set_index('Index') # Setting Index column as index"
   ]
  },
  {
   "cell_type": "code",
   "execution_count": 81,
   "id": "4357b41e",
   "metadata": {},
   "outputs": [
    {
     "data": {
      "text/html": [
       "<div>\n",
       "<style scoped>\n",
       "    .dataframe tbody tr th:only-of-type {\n",
       "        vertical-align: middle;\n",
       "    }\n",
       "\n",
       "    .dataframe tbody tr th {\n",
       "        vertical-align: top;\n",
       "    }\n",
       "\n",
       "    .dataframe thead th {\n",
       "        text-align: right;\n",
       "    }\n",
       "</style>\n",
       "<table border=\"1\" class=\"dataframe\">\n",
       "  <thead>\n",
       "    <tr style=\"text-align: right;\">\n",
       "      <th></th>\n",
       "      <th>created_at</th>\n",
       "      <th>text</th>\n",
       "    </tr>\n",
       "    <tr>\n",
       "      <th>Index</th>\n",
       "      <th></th>\n",
       "      <th></th>\n",
       "    </tr>\n",
       "  </thead>\n",
       "  <tbody>\n",
       "    <tr>\n",
       "      <th>0</th>\n",
       "      <td>2017-04-05 14:56:29</td>\n",
       "      <td>b'And so the robots spared humanity ... https:...</td>\n",
       "    </tr>\n",
       "    <tr>\n",
       "      <th>1</th>\n",
       "      <td>2017-04-03 20:01:01</td>\n",
       "      <td>b\"@ForIn2020 @waltmossberg @mims @defcon_5 Exa...</td>\n",
       "    </tr>\n",
       "    <tr>\n",
       "      <th>2</th>\n",
       "      <td>2017-04-03 16:59:35</td>\n",
       "      <td>b'@waltmossberg @mims @defcon_5 Et tu, Walt?'</td>\n",
       "    </tr>\n",
       "    <tr>\n",
       "      <th>3</th>\n",
       "      <td>2017-04-03 16:30:19</td>\n",
       "      <td>b'Stormy weather in Shortville ...'</td>\n",
       "    </tr>\n",
       "    <tr>\n",
       "      <th>4</th>\n",
       "      <td>2017-04-02 06:05:23</td>\n",
       "      <td>b\"@DaveLeeBBC @verge Coal is dying due to nat ...</td>\n",
       "    </tr>\n",
       "    <tr>\n",
       "      <th>...</th>\n",
       "      <td>...</td>\n",
       "      <td>...</td>\n",
       "    </tr>\n",
       "    <tr>\n",
       "      <th>2814</th>\n",
       "      <td>2011-12-03 08:22:07</td>\n",
       "      <td>b'That was a total non sequitur btw'</td>\n",
       "    </tr>\n",
       "    <tr>\n",
       "      <th>2815</th>\n",
       "      <td>2011-12-03 08:20:28</td>\n",
       "      <td>b'Great Voltaire quote, arguably better than T...</td>\n",
       "    </tr>\n",
       "    <tr>\n",
       "      <th>2816</th>\n",
       "      <td>2011-12-01 10:29:04</td>\n",
       "      <td>b'I made the volume on the Model S http://t.co...</td>\n",
       "    </tr>\n",
       "    <tr>\n",
       "      <th>2817</th>\n",
       "      <td>2011-12-01 09:55:11</td>\n",
       "      <td>b\"Went to Iceland on Sat to ride bumper cars o...</td>\n",
       "    </tr>\n",
       "    <tr>\n",
       "      <th>2818</th>\n",
       "      <td>2010-06-04 18:31:57</td>\n",
       "      <td>b'Please ignore prior tweets, as that was some...</td>\n",
       "    </tr>\n",
       "  </tbody>\n",
       "</table>\n",
       "<p>2819 rows × 2 columns</p>\n",
       "</div>"
      ],
      "text/plain": [
       "               created_at                                               text\n",
       "Index                                                                       \n",
       "0     2017-04-05 14:56:29  b'And so the robots spared humanity ... https:...\n",
       "1     2017-04-03 20:01:01  b\"@ForIn2020 @waltmossberg @mims @defcon_5 Exa...\n",
       "2     2017-04-03 16:59:35      b'@waltmossberg @mims @defcon_5 Et tu, Walt?'\n",
       "3     2017-04-03 16:30:19                b'Stormy weather in Shortville ...'\n",
       "4     2017-04-02 06:05:23  b\"@DaveLeeBBC @verge Coal is dying due to nat ...\n",
       "...                   ...                                                ...\n",
       "2814  2011-12-03 08:22:07               b'That was a total non sequitur btw'\n",
       "2815  2011-12-03 08:20:28  b'Great Voltaire quote, arguably better than T...\n",
       "2816  2011-12-01 10:29:04  b'I made the volume on the Model S http://t.co...\n",
       "2817  2011-12-01 09:55:11  b\"Went to Iceland on Sat to ride bumper cars o...\n",
       "2818  2010-06-04 18:31:57  b'Please ignore prior tweets, as that was some...\n",
       "\n",
       "[2819 rows x 2 columns]"
      ]
     },
     "execution_count": 81,
     "metadata": {},
     "output_type": "execute_result"
    }
   ],
   "source": [
    "df = df[['created_at', 'text']]\n",
    "df"
   ]
  },
  {
   "cell_type": "code",
   "execution_count": 82,
   "id": "227f3d4a",
   "metadata": {},
   "outputs": [
    {
     "data": {
      "text/html": [
       "<div>\n",
       "<style scoped>\n",
       "    .dataframe tbody tr th:only-of-type {\n",
       "        vertical-align: middle;\n",
       "    }\n",
       "\n",
       "    .dataframe tbody tr th {\n",
       "        vertical-align: top;\n",
       "    }\n",
       "\n",
       "    .dataframe thead th {\n",
       "        text-align: right;\n",
       "    }\n",
       "</style>\n",
       "<table border=\"1\" class=\"dataframe\">\n",
       "  <thead>\n",
       "    <tr style=\"text-align: right;\">\n",
       "      <th></th>\n",
       "      <th>created_at</th>\n",
       "      <th>text</th>\n",
       "    </tr>\n",
       "    <tr>\n",
       "      <th>Index</th>\n",
       "      <th></th>\n",
       "      <th></th>\n",
       "    </tr>\n",
       "  </thead>\n",
       "  <tbody>\n",
       "    <tr>\n",
       "      <th>1</th>\n",
       "      <td>2017-04-03 20:01:01</td>\n",
       "      <td>b\"@ForIn2020 @waltmossberg @mims @defcon_5 Exa...</td>\n",
       "    </tr>\n",
       "    <tr>\n",
       "      <th>2</th>\n",
       "      <td>2017-04-03 16:59:35</td>\n",
       "      <td>b'@waltmossberg @mims @defcon_5 Et tu, Walt?'</td>\n",
       "    </tr>\n",
       "    <tr>\n",
       "      <th>3</th>\n",
       "      <td>2017-04-03 16:30:19</td>\n",
       "      <td>b'Stormy weather in Shortville ...'</td>\n",
       "    </tr>\n",
       "    <tr>\n",
       "      <th>8</th>\n",
       "      <td>2017-04-01 18:44:01</td>\n",
       "      <td>b\"Why did we waste so much time developing sil...</td>\n",
       "    </tr>\n",
       "    <tr>\n",
       "      <th>9</th>\n",
       "      <td>2017-04-01 18:39:09</td>\n",
       "      <td>b'Technology breakthrough: turns out chemtrail...</td>\n",
       "    </tr>\n",
       "    <tr>\n",
       "      <th>...</th>\n",
       "      <td>...</td>\n",
       "      <td>...</td>\n",
       "    </tr>\n",
       "    <tr>\n",
       "      <th>2793</th>\n",
       "      <td>2011-12-27 19:54:15</td>\n",
       "      <td>b'RT @TheOnion: Vending Machine Attendant Admi...</td>\n",
       "    </tr>\n",
       "    <tr>\n",
       "      <th>2794</th>\n",
       "      <td>2011-12-26 16:29:50</td>\n",
       "      <td>b'Walked around a neighborhood recently rebuil...</td>\n",
       "    </tr>\n",
       "    <tr>\n",
       "      <th>2795</th>\n",
       "      <td>2011-12-26 16:23:04</td>\n",
       "      <td>b\"It was Xmas, so we brought presents for the ...</td>\n",
       "    </tr>\n",
       "    <tr>\n",
       "      <th>2806</th>\n",
       "      <td>2011-12-21 23:17:11</td>\n",
       "      <td>b'Yum! Even better than deep fried butter: htt...</td>\n",
       "    </tr>\n",
       "    <tr>\n",
       "      <th>2818</th>\n",
       "      <td>2010-06-04 18:31:57</td>\n",
       "      <td>b'Please ignore prior tweets, as that was some...</td>\n",
       "    </tr>\n",
       "  </tbody>\n",
       "</table>\n",
       "<p>1381 rows × 2 columns</p>\n",
       "</div>"
      ],
      "text/plain": [
       "               created_at                                               text\n",
       "Index                                                                       \n",
       "1     2017-04-03 20:01:01  b\"@ForIn2020 @waltmossberg @mims @defcon_5 Exa...\n",
       "2     2017-04-03 16:59:35      b'@waltmossberg @mims @defcon_5 Et tu, Walt?'\n",
       "3     2017-04-03 16:30:19                b'Stormy weather in Shortville ...'\n",
       "8     2017-04-01 18:44:01  b\"Why did we waste so much time developing sil...\n",
       "9     2017-04-01 18:39:09  b'Technology breakthrough: turns out chemtrail...\n",
       "...                   ...                                                ...\n",
       "2793  2011-12-27 19:54:15  b'RT @TheOnion: Vending Machine Attendant Admi...\n",
       "2794  2011-12-26 16:29:50  b'Walked around a neighborhood recently rebuil...\n",
       "2795  2011-12-26 16:23:04  b\"It was Xmas, so we brought presents for the ...\n",
       "2806  2011-12-21 23:17:11  b'Yum! Even better than deep fried butter: htt...\n",
       "2818  2010-06-04 18:31:57  b'Please ignore prior tweets, as that was some...\n",
       "\n",
       "[1381 rows x 2 columns]"
      ]
     },
     "execution_count": 82,
     "metadata": {},
     "output_type": "execute_result"
    }
   ],
   "source": [
    "df1 = df1[['created_at', 'text']]\n",
    "df1"
   ]
  },
  {
   "cell_type": "code",
   "execution_count": 85,
   "id": "2f5af8c7",
   "metadata": {},
   "outputs": [],
   "source": [
    "df2 = df1['created_at'] + timedelta(days=1) - timedelta(hours=9) # changing date to next day and shifting hours back to 4PM"
   ]
  },
  {
   "cell_type": "code",
   "execution_count": 86,
   "id": "1144fbaf",
   "metadata": {},
   "outputs": [
    {
     "data": {
      "text/plain": [
       "Index\n",
       "1      2017-04-04 11:01:01\n",
       "2      2017-04-04 07:59:35\n",
       "3      2017-04-04 07:30:19\n",
       "8      2017-04-02 09:44:01\n",
       "9      2017-04-02 09:39:09\n",
       "               ...        \n",
       "2793   2011-12-28 10:54:15\n",
       "2794   2011-12-27 07:29:50\n",
       "2795   2011-12-27 07:23:04\n",
       "2806   2011-12-22 14:17:11\n",
       "2818   2010-06-05 09:31:57\n",
       "Name: created_at, Length: 1381, dtype: datetime64[ns]"
      ]
     },
     "execution_count": 86,
     "metadata": {},
     "output_type": "execute_result"
    }
   ],
   "source": [
    "df2"
   ]
  },
  {
   "cell_type": "code",
   "execution_count": 87,
   "id": "c876ffb6",
   "metadata": {},
   "outputs": [],
   "source": [
    "tweets_data.update(df2)"
   ]
  },
  {
   "cell_type": "code",
   "execution_count": 12,
   "id": "0f1c7861",
   "metadata": {},
   "outputs": [],
   "source": [
    "#tweets_data[\"created_at\"].min() , tweets_data[\"created_at\"].max()"
   ]
  },
  {
   "cell_type": "code",
   "execution_count": 13,
   "id": "6a3c7a77",
   "metadata": {},
   "outputs": [],
   "source": [
    "#tweets_data[\"created_at\"].max()-tweets_data[\"created_at\"].min()"
   ]
  },
  {
   "cell_type": "code",
   "execution_count": 14,
   "id": "3de23459",
   "metadata": {},
   "outputs": [],
   "source": [
    "#days = tweets_data['created_at'].dt.day_name()"
   ]
  },
  {
   "cell_type": "code",
   "execution_count": 15,
   "id": "cc7bd723",
   "metadata": {},
   "outputs": [],
   "source": [
    "#days_index = tweets_data['created_at'].dt.dayofweek\n",
    "#tweets_data['days_name'] = days\n",
    "#tweets_data['dayofWeek_index'] = days_index\n",
    "#"
   ]
  },
  {
   "cell_type": "code",
   "execution_count": 16,
   "id": "23cdeaf8",
   "metadata": {},
   "outputs": [],
   "source": [
    "#tweets_data.head()"
   ]
  },
  {
   "cell_type": "code",
   "execution_count": 17,
   "id": "51285b86",
   "metadata": {},
   "outputs": [],
   "source": [
    "#Sunday = tweets_data['created_at'].dt.dayofweek == 2\n",
    "\n",
    "\n",
    "\n",
    "\n",
    "\n",
    "#result = tweets_data['created_at'].dt.dayofweek\n",
    "#df10 =tweets_data[tweets_data.dt.dayofweek == 6] \n",
    "#tweets_data[tweets_data.index.dayofweek == 6]\n",
    "#df10"
   ]
  },
  {
   "cell_type": "code",
   "execution_count": 18,
   "id": "123756e0",
   "metadata": {},
   "outputs": [],
   "source": [
    "saturday = pd.DataFrame() # created empty dataframe\n",
    "sunday = pd.DataFrame() # created empty dataframe\n",
    "saturday = tweets_data.loc[(tweets_data['created_at'].dt.dayofweek==5)] # separated all the saturday tweets\n",
    "sunday = tweets_data.loc[(tweets_data['created_at'].dt.dayofweek==6)] # separated all the sunday tweets\n",
    "#temp_df = tweets_data['created_at']"
   ]
  },
  {
   "cell_type": "code",
   "execution_count": 19,
   "id": "73eaaf9d",
   "metadata": {},
   "outputs": [
    {
     "data": {
      "text/html": [
       "<div>\n",
       "<style scoped>\n",
       "    .dataframe tbody tr th:only-of-type {\n",
       "        vertical-align: middle;\n",
       "    }\n",
       "\n",
       "    .dataframe tbody tr th {\n",
       "        vertical-align: top;\n",
       "    }\n",
       "\n",
       "    .dataframe thead th {\n",
       "        text-align: right;\n",
       "    }\n",
       "</style>\n",
       "<table border=\"1\" class=\"dataframe\">\n",
       "  <thead>\n",
       "    <tr style=\"text-align: right;\">\n",
       "      <th></th>\n",
       "      <th>created_at</th>\n",
       "      <th>text</th>\n",
       "    </tr>\n",
       "  </thead>\n",
       "  <tbody>\n",
       "    <tr>\n",
       "      <th>8</th>\n",
       "      <td>2017-04-01 18:44:01</td>\n",
       "      <td>b\"Why did we waste so much time developing sil...</td>\n",
       "    </tr>\n",
       "    <tr>\n",
       "      <th>9</th>\n",
       "      <td>2017-04-01 18:39:09</td>\n",
       "      <td>b'Technology breakthrough: turns out chemtrail...</td>\n",
       "    </tr>\n",
       "    <tr>\n",
       "      <th>10</th>\n",
       "      <td>2017-04-01 18:25:33</td>\n",
       "      <td>b\"RT @OpenAI: We've created the world's first ...</td>\n",
       "    </tr>\n",
       "    <tr>\n",
       "      <th>11</th>\n",
       "      <td>2017-04-01 18:24:30</td>\n",
       "      <td>b'RT @ProfBrianCox: This is extremely importan...</td>\n",
       "    </tr>\n",
       "    <tr>\n",
       "      <th>12</th>\n",
       "      <td>2017-04-01 04:55:23</td>\n",
       "      <td>b'@adamsbj Def P100D with Ludicrous+, although...</td>\n",
       "    </tr>\n",
       "    <tr>\n",
       "      <th>...</th>\n",
       "      <td>...</td>\n",
       "      <td>...</td>\n",
       "    </tr>\n",
       "    <tr>\n",
       "      <th>2800</th>\n",
       "      <td>2011-12-24 01:41:33</td>\n",
       "      <td>b'The Russians are having some challenges with...</td>\n",
       "    </tr>\n",
       "    <tr>\n",
       "      <th>2801</th>\n",
       "      <td>2011-12-24 01:33:35</td>\n",
       "      <td>b'We had a long and interesting conversation o...</td>\n",
       "    </tr>\n",
       "    <tr>\n",
       "      <th>2802</th>\n",
       "      <td>2011-12-24 01:29:19</td>\n",
       "      <td>b'Kanye stopped by the SpaceX rocket factory t...</td>\n",
       "    </tr>\n",
       "    <tr>\n",
       "      <th>2814</th>\n",
       "      <td>2011-12-03 08:22:07</td>\n",
       "      <td>b'That was a total non sequitur btw'</td>\n",
       "    </tr>\n",
       "    <tr>\n",
       "      <th>2815</th>\n",
       "      <td>2011-12-03 08:20:28</td>\n",
       "      <td>b'Great Voltaire quote, arguably better than T...</td>\n",
       "    </tr>\n",
       "  </tbody>\n",
       "</table>\n",
       "<p>426 rows × 2 columns</p>\n",
       "</div>"
      ],
      "text/plain": [
       "              created_at                                               text\n",
       "8    2017-04-01 18:44:01  b\"Why did we waste so much time developing sil...\n",
       "9    2017-04-01 18:39:09  b'Technology breakthrough: turns out chemtrail...\n",
       "10   2017-04-01 18:25:33  b\"RT @OpenAI: We've created the world's first ...\n",
       "11   2017-04-01 18:24:30  b'RT @ProfBrianCox: This is extremely importan...\n",
       "12   2017-04-01 04:55:23  b'@adamsbj Def P100D with Ludicrous+, although...\n",
       "...                  ...                                                ...\n",
       "2800 2011-12-24 01:41:33  b'The Russians are having some challenges with...\n",
       "2801 2011-12-24 01:33:35  b'We had a long and interesting conversation o...\n",
       "2802 2011-12-24 01:29:19  b'Kanye stopped by the SpaceX rocket factory t...\n",
       "2814 2011-12-03 08:22:07               b'That was a total non sequitur btw'\n",
       "2815 2011-12-03 08:20:28  b'Great Voltaire quote, arguably better than T...\n",
       "\n",
       "[426 rows x 2 columns]"
      ]
     },
     "execution_count": 19,
     "metadata": {},
     "output_type": "execute_result"
    }
   ],
   "source": [
    "saturday"
   ]
  },
  {
   "cell_type": "code",
   "execution_count": 20,
   "id": "6a1d877c",
   "metadata": {},
   "outputs": [],
   "source": [
    "#saturday=tweets_data[tweets_data.days_name=='Saturday']\n",
    "#sunday=tweets_data[tweets_data.days_name=='Sunday']\n"
   ]
  },
  {
   "cell_type": "code",
   "execution_count": 21,
   "id": "bf4ca02c",
   "metadata": {},
   "outputs": [
    {
     "data": {
      "text/html": [
       "<div>\n",
       "<style scoped>\n",
       "    .dataframe tbody tr th:only-of-type {\n",
       "        vertical-align: middle;\n",
       "    }\n",
       "\n",
       "    .dataframe tbody tr th {\n",
       "        vertical-align: top;\n",
       "    }\n",
       "\n",
       "    .dataframe thead th {\n",
       "        text-align: right;\n",
       "    }\n",
       "</style>\n",
       "<table border=\"1\" class=\"dataframe\">\n",
       "  <thead>\n",
       "    <tr style=\"text-align: right;\">\n",
       "      <th></th>\n",
       "      <th>created_at</th>\n",
       "      <th>text</th>\n",
       "    </tr>\n",
       "  </thead>\n",
       "  <tbody>\n",
       "    <tr>\n",
       "      <th>4</th>\n",
       "      <td>2017-04-02 06:05:23</td>\n",
       "      <td>b\"@DaveLeeBBC @verge Coal is dying due to nat ...</td>\n",
       "    </tr>\n",
       "    <tr>\n",
       "      <th>5</th>\n",
       "      <td>2017-04-02 06:04:07</td>\n",
       "      <td>b\"@Lexxxzis It's just a helicopter in helicopt...</td>\n",
       "    </tr>\n",
       "    <tr>\n",
       "      <th>6</th>\n",
       "      <td>2017-04-02 06:02:38</td>\n",
       "      <td>b\"@verge It won't matter\"</td>\n",
       "    </tr>\n",
       "    <tr>\n",
       "      <th>7</th>\n",
       "      <td>2017-04-02 04:57:31</td>\n",
       "      <td>b'@SuperCoolCube Pretty good'</td>\n",
       "    </tr>\n",
       "    <tr>\n",
       "      <th>103</th>\n",
       "      <td>2017-03-19 16:50:10</td>\n",
       "      <td>b'RT @SpaceX: Recovery teams en route to Drago...</td>\n",
       "    </tr>\n",
       "    <tr>\n",
       "      <th>...</th>\n",
       "      <td>...</td>\n",
       "      <td>...</td>\n",
       "    </tr>\n",
       "    <tr>\n",
       "      <th>2770</th>\n",
       "      <td>2012-01-01 20:33:16</td>\n",
       "      <td>b'We built powerful information weapons to fig...</td>\n",
       "    </tr>\n",
       "    <tr>\n",
       "      <th>2771</th>\n",
       "      <td>2012-01-01 16:54:27</td>\n",
       "      <td>b\"@FareedZakaria However, China's real estate ...</td>\n",
       "    </tr>\n",
       "    <tr>\n",
       "      <th>2772</th>\n",
       "      <td>2012-01-01 16:49:40</td>\n",
       "      <td>b\"@FareedZakaria Yeah, 2012 will be great for ...</td>\n",
       "    </tr>\n",
       "    <tr>\n",
       "      <th>2773</th>\n",
       "      <td>2012-01-01 16:40:27</td>\n",
       "      <td>b'My first prediction of 2012 has come true: o...</td>\n",
       "    </tr>\n",
       "    <tr>\n",
       "      <th>2813</th>\n",
       "      <td>2011-12-04 03:33:52</td>\n",
       "      <td>b'Am reading a great biography of Ben Franklin...</td>\n",
       "    </tr>\n",
       "  </tbody>\n",
       "</table>\n",
       "<p>422 rows × 2 columns</p>\n",
       "</div>"
      ],
      "text/plain": [
       "              created_at                                               text\n",
       "4    2017-04-02 06:05:23  b\"@DaveLeeBBC @verge Coal is dying due to nat ...\n",
       "5    2017-04-02 06:04:07  b\"@Lexxxzis It's just a helicopter in helicopt...\n",
       "6    2017-04-02 06:02:38                          b\"@verge It won't matter\"\n",
       "7    2017-04-02 04:57:31                      b'@SuperCoolCube Pretty good'\n",
       "103  2017-03-19 16:50:10  b'RT @SpaceX: Recovery teams en route to Drago...\n",
       "...                  ...                                                ...\n",
       "2770 2012-01-01 20:33:16  b'We built powerful information weapons to fig...\n",
       "2771 2012-01-01 16:54:27  b\"@FareedZakaria However, China's real estate ...\n",
       "2772 2012-01-01 16:49:40  b\"@FareedZakaria Yeah, 2012 will be great for ...\n",
       "2773 2012-01-01 16:40:27  b'My first prediction of 2012 has come true: o...\n",
       "2813 2011-12-04 03:33:52  b'Am reading a great biography of Ben Franklin...\n",
       "\n",
       "[422 rows x 2 columns]"
      ]
     },
     "execution_count": 21,
     "metadata": {},
     "output_type": "execute_result"
    }
   ],
   "source": [
    "sunday"
   ]
  },
  {
   "cell_type": "code",
   "execution_count": 22,
   "id": "76c16b2d",
   "metadata": {},
   "outputs": [],
   "source": [
    "#sunday = sunday.drop(['days_name', 'dayofWeek_index'], axis=1)\n",
    "#saturday = saturday.drop(['days_name', 'dayofWeek_index'], axis=1)"
   ]
  },
  {
   "cell_type": "code",
   "execution_count": 23,
   "id": "c2fba271",
   "metadata": {},
   "outputs": [],
   "source": [
    "\n",
    "#from dateutil.parser import parse\n",
    "\n"
   ]
  },
  {
   "cell_type": "code",
   "execution_count": 24,
   "id": "6ef97d45",
   "metadata": {},
   "outputs": [],
   "source": [
    "newsundaydates = sunday['created_at'] + timedelta(days=1) # change the sunday date to monday\n",
    "newsaturdaydates = saturday['created_at'] + timedelta(days=2) # change the saturday date to monday"
   ]
  },
  {
   "cell_type": "code",
   "execution_count": 25,
   "id": "2ead0101",
   "metadata": {},
   "outputs": [
    {
     "name": "stderr",
     "output_type": "stream",
     "text": [
      "/tmp/ipykernel_6349/3256950631.py:1: SettingWithCopyWarning: \n",
      "A value is trying to be set on a copy of a slice from a DataFrame.\n",
      "Try using .loc[row_indexer,col_indexer] = value instead\n",
      "\n",
      "See the caveats in the documentation: https://pandas.pydata.org/pandas-docs/stable/user_guide/indexing.html#returning-a-view-versus-a-copy\n",
      "  sunday['created_at'] = newsundaydates.values # updated the sunday new dates to dataframe\n",
      "/tmp/ipykernel_6349/3256950631.py:2: SettingWithCopyWarning: \n",
      "A value is trying to be set on a copy of a slice from a DataFrame.\n",
      "Try using .loc[row_indexer,col_indexer] = value instead\n",
      "\n",
      "See the caveats in the documentation: https://pandas.pydata.org/pandas-docs/stable/user_guide/indexing.html#returning-a-view-versus-a-copy\n",
      "  saturday['created_at'] = newsaturdaydates.values # updated the saturday dates to dataframe\n"
     ]
    }
   ],
   "source": [
    "sunday['created_at'] = newsundaydates.values # updated the sunday new dates to dataframe \n",
    "saturday['created_at'] = newsaturdaydates.values # updated the saturday dates to dataframe"
   ]
  },
  {
   "cell_type": "code",
   "execution_count": 26,
   "id": "d72843fe",
   "metadata": {},
   "outputs": [
    {
     "data": {
      "text/html": [
       "<div>\n",
       "<style scoped>\n",
       "    .dataframe tbody tr th:only-of-type {\n",
       "        vertical-align: middle;\n",
       "    }\n",
       "\n",
       "    .dataframe tbody tr th {\n",
       "        vertical-align: top;\n",
       "    }\n",
       "\n",
       "    .dataframe thead th {\n",
       "        text-align: right;\n",
       "    }\n",
       "</style>\n",
       "<table border=\"1\" class=\"dataframe\">\n",
       "  <thead>\n",
       "    <tr style=\"text-align: right;\">\n",
       "      <th></th>\n",
       "      <th>created_at</th>\n",
       "      <th>text</th>\n",
       "    </tr>\n",
       "  </thead>\n",
       "  <tbody>\n",
       "    <tr>\n",
       "      <th>8</th>\n",
       "      <td>2017-04-03 18:44:01</td>\n",
       "      <td>b\"Why did we waste so much time developing sil...</td>\n",
       "    </tr>\n",
       "    <tr>\n",
       "      <th>9</th>\n",
       "      <td>2017-04-03 18:39:09</td>\n",
       "      <td>b'Technology breakthrough: turns out chemtrail...</td>\n",
       "    </tr>\n",
       "    <tr>\n",
       "      <th>10</th>\n",
       "      <td>2017-04-03 18:25:33</td>\n",
       "      <td>b\"RT @OpenAI: We've created the world's first ...</td>\n",
       "    </tr>\n",
       "    <tr>\n",
       "      <th>11</th>\n",
       "      <td>2017-04-03 18:24:30</td>\n",
       "      <td>b'RT @ProfBrianCox: This is extremely importan...</td>\n",
       "    </tr>\n",
       "    <tr>\n",
       "      <th>12</th>\n",
       "      <td>2017-04-03 04:55:23</td>\n",
       "      <td>b'@adamsbj Def P100D with Ludicrous+, although...</td>\n",
       "    </tr>\n",
       "    <tr>\n",
       "      <th>...</th>\n",
       "      <td>...</td>\n",
       "      <td>...</td>\n",
       "    </tr>\n",
       "    <tr>\n",
       "      <th>2800</th>\n",
       "      <td>2011-12-26 01:41:33</td>\n",
       "      <td>b'The Russians are having some challenges with...</td>\n",
       "    </tr>\n",
       "    <tr>\n",
       "      <th>2801</th>\n",
       "      <td>2011-12-26 01:33:35</td>\n",
       "      <td>b'We had a long and interesting conversation o...</td>\n",
       "    </tr>\n",
       "    <tr>\n",
       "      <th>2802</th>\n",
       "      <td>2011-12-26 01:29:19</td>\n",
       "      <td>b'Kanye stopped by the SpaceX rocket factory t...</td>\n",
       "    </tr>\n",
       "    <tr>\n",
       "      <th>2814</th>\n",
       "      <td>2011-12-05 08:22:07</td>\n",
       "      <td>b'That was a total non sequitur btw'</td>\n",
       "    </tr>\n",
       "    <tr>\n",
       "      <th>2815</th>\n",
       "      <td>2011-12-05 08:20:28</td>\n",
       "      <td>b'Great Voltaire quote, arguably better than T...</td>\n",
       "    </tr>\n",
       "  </tbody>\n",
       "</table>\n",
       "<p>426 rows × 2 columns</p>\n",
       "</div>"
      ],
      "text/plain": [
       "              created_at                                               text\n",
       "8    2017-04-03 18:44:01  b\"Why did we waste so much time developing sil...\n",
       "9    2017-04-03 18:39:09  b'Technology breakthrough: turns out chemtrail...\n",
       "10   2017-04-03 18:25:33  b\"RT @OpenAI: We've created the world's first ...\n",
       "11   2017-04-03 18:24:30  b'RT @ProfBrianCox: This is extremely importan...\n",
       "12   2017-04-03 04:55:23  b'@adamsbj Def P100D with Ludicrous+, although...\n",
       "...                  ...                                                ...\n",
       "2800 2011-12-26 01:41:33  b'The Russians are having some challenges with...\n",
       "2801 2011-12-26 01:33:35  b'We had a long and interesting conversation o...\n",
       "2802 2011-12-26 01:29:19  b'Kanye stopped by the SpaceX rocket factory t...\n",
       "2814 2011-12-05 08:22:07               b'That was a total non sequitur btw'\n",
       "2815 2011-12-05 08:20:28  b'Great Voltaire quote, arguably better than T...\n",
       "\n",
       "[426 rows x 2 columns]"
      ]
     },
     "execution_count": 26,
     "metadata": {},
     "output_type": "execute_result"
    }
   ],
   "source": [
    "saturday"
   ]
  },
  {
   "cell_type": "code",
   "execution_count": 27,
   "id": "6334877b",
   "metadata": {},
   "outputs": [
    {
     "data": {
      "text/html": [
       "<div>\n",
       "<style scoped>\n",
       "    .dataframe tbody tr th:only-of-type {\n",
       "        vertical-align: middle;\n",
       "    }\n",
       "\n",
       "    .dataframe tbody tr th {\n",
       "        vertical-align: top;\n",
       "    }\n",
       "\n",
       "    .dataframe thead th {\n",
       "        text-align: right;\n",
       "    }\n",
       "</style>\n",
       "<table border=\"1\" class=\"dataframe\">\n",
       "  <thead>\n",
       "    <tr style=\"text-align: right;\">\n",
       "      <th></th>\n",
       "      <th>created_at</th>\n",
       "      <th>text</th>\n",
       "    </tr>\n",
       "  </thead>\n",
       "  <tbody>\n",
       "    <tr>\n",
       "      <th>4</th>\n",
       "      <td>2017-04-03 06:05:23</td>\n",
       "      <td>b\"@DaveLeeBBC @verge Coal is dying due to nat ...</td>\n",
       "    </tr>\n",
       "    <tr>\n",
       "      <th>5</th>\n",
       "      <td>2017-04-03 06:04:07</td>\n",
       "      <td>b\"@Lexxxzis It's just a helicopter in helicopt...</td>\n",
       "    </tr>\n",
       "    <tr>\n",
       "      <th>6</th>\n",
       "      <td>2017-04-03 06:02:38</td>\n",
       "      <td>b\"@verge It won't matter\"</td>\n",
       "    </tr>\n",
       "    <tr>\n",
       "      <th>7</th>\n",
       "      <td>2017-04-03 04:57:31</td>\n",
       "      <td>b'@SuperCoolCube Pretty good'</td>\n",
       "    </tr>\n",
       "    <tr>\n",
       "      <th>103</th>\n",
       "      <td>2017-03-20 16:50:10</td>\n",
       "      <td>b'RT @SpaceX: Recovery teams en route to Drago...</td>\n",
       "    </tr>\n",
       "    <tr>\n",
       "      <th>...</th>\n",
       "      <td>...</td>\n",
       "      <td>...</td>\n",
       "    </tr>\n",
       "    <tr>\n",
       "      <th>2770</th>\n",
       "      <td>2012-01-02 20:33:16</td>\n",
       "      <td>b'We built powerful information weapons to fig...</td>\n",
       "    </tr>\n",
       "    <tr>\n",
       "      <th>2771</th>\n",
       "      <td>2012-01-02 16:54:27</td>\n",
       "      <td>b\"@FareedZakaria However, China's real estate ...</td>\n",
       "    </tr>\n",
       "    <tr>\n",
       "      <th>2772</th>\n",
       "      <td>2012-01-02 16:49:40</td>\n",
       "      <td>b\"@FareedZakaria Yeah, 2012 will be great for ...</td>\n",
       "    </tr>\n",
       "    <tr>\n",
       "      <th>2773</th>\n",
       "      <td>2012-01-02 16:40:27</td>\n",
       "      <td>b'My first prediction of 2012 has come true: o...</td>\n",
       "    </tr>\n",
       "    <tr>\n",
       "      <th>2813</th>\n",
       "      <td>2011-12-05 03:33:52</td>\n",
       "      <td>b'Am reading a great biography of Ben Franklin...</td>\n",
       "    </tr>\n",
       "  </tbody>\n",
       "</table>\n",
       "<p>422 rows × 2 columns</p>\n",
       "</div>"
      ],
      "text/plain": [
       "              created_at                                               text\n",
       "4    2017-04-03 06:05:23  b\"@DaveLeeBBC @verge Coal is dying due to nat ...\n",
       "5    2017-04-03 06:04:07  b\"@Lexxxzis It's just a helicopter in helicopt...\n",
       "6    2017-04-03 06:02:38                          b\"@verge It won't matter\"\n",
       "7    2017-04-03 04:57:31                      b'@SuperCoolCube Pretty good'\n",
       "103  2017-03-20 16:50:10  b'RT @SpaceX: Recovery teams en route to Drago...\n",
       "...                  ...                                                ...\n",
       "2770 2012-01-02 20:33:16  b'We built powerful information weapons to fig...\n",
       "2771 2012-01-02 16:54:27  b\"@FareedZakaria However, China's real estate ...\n",
       "2772 2012-01-02 16:49:40  b\"@FareedZakaria Yeah, 2012 will be great for ...\n",
       "2773 2012-01-02 16:40:27  b'My first prediction of 2012 has come true: o...\n",
       "2813 2011-12-05 03:33:52  b'Am reading a great biography of Ben Franklin...\n",
       "\n",
       "[422 rows x 2 columns]"
      ]
     },
     "execution_count": 27,
     "metadata": {},
     "output_type": "execute_result"
    }
   ],
   "source": [
    "sunday"
   ]
  },
  {
   "cell_type": "code",
   "execution_count": 28,
   "id": "18c0a24a",
   "metadata": {},
   "outputs": [],
   "source": [
    "#tweets_data = tweets_data.drop(['days_name', 'dayofWeek_index'], axis=1)"
   ]
  },
  {
   "cell_type": "code",
   "execution_count": 29,
   "id": "8577f257",
   "metadata": {},
   "outputs": [],
   "source": [
    "#tweets = pd.concat()"
   ]
  },
  {
   "cell_type": "code",
   "execution_count": 30,
   "id": "7b45af9f",
   "metadata": {},
   "outputs": [
    {
     "name": "stderr",
     "output_type": "stream",
     "text": [
      "/tmp/ipykernel_6349/2931647585.py:1: SettingWithCopyWarning: \n",
      "A value is trying to be set on a copy of a slice from a DataFrame.\n",
      "Try using .loc[row_indexer,col_indexer] = value instead\n",
      "\n",
      "See the caveats in the documentation: https://pandas.pydata.org/pandas-docs/stable/user_guide/indexing.html#returning-a-view-versus-a-copy\n",
      "  tweets_data.update(newsundaydates) # updated the dataframe with new values\n",
      "/tmp/ipykernel_6349/2931647585.py:2: SettingWithCopyWarning: \n",
      "A value is trying to be set on a copy of a slice from a DataFrame.\n",
      "Try using .loc[row_indexer,col_indexer] = value instead\n",
      "\n",
      "See the caveats in the documentation: https://pandas.pydata.org/pandas-docs/stable/user_guide/indexing.html#returning-a-view-versus-a-copy\n",
      "  tweets_data.update(newsaturdaydates)\n"
     ]
    }
   ],
   "source": [
    "tweets_data.update(newsundaydates) # updated the dataframe with new values\n",
    "tweets_data.update(newsaturdaydates)\n",
    "#tweets_data['created_at'] = newsundaydates.values\n",
    "#tweets_data['created_at'] = newsaturdaydates.values"
   ]
  },
  {
   "cell_type": "code",
   "execution_count": 31,
   "id": "5f8fdd9c",
   "metadata": {},
   "outputs": [
    {
     "data": {
      "text/html": [
       "<div>\n",
       "<style scoped>\n",
       "    .dataframe tbody tr th:only-of-type {\n",
       "        vertical-align: middle;\n",
       "    }\n",
       "\n",
       "    .dataframe tbody tr th {\n",
       "        vertical-align: top;\n",
       "    }\n",
       "\n",
       "    .dataframe thead th {\n",
       "        text-align: right;\n",
       "    }\n",
       "</style>\n",
       "<table border=\"1\" class=\"dataframe\">\n",
       "  <thead>\n",
       "    <tr style=\"text-align: right;\">\n",
       "      <th></th>\n",
       "      <th>created_at</th>\n",
       "      <th>text</th>\n",
       "    </tr>\n",
       "  </thead>\n",
       "  <tbody>\n",
       "    <tr>\n",
       "      <th>0</th>\n",
       "      <td>2017-04-05 14:56:29</td>\n",
       "      <td>b'And so the robots spared humanity ... https:...</td>\n",
       "    </tr>\n",
       "    <tr>\n",
       "      <th>1</th>\n",
       "      <td>2017-04-03 20:01:01</td>\n",
       "      <td>b\"@ForIn2020 @waltmossberg @mims @defcon_5 Exa...</td>\n",
       "    </tr>\n",
       "    <tr>\n",
       "      <th>2</th>\n",
       "      <td>2017-04-03 16:59:35</td>\n",
       "      <td>b'@waltmossberg @mims @defcon_5 Et tu, Walt?'</td>\n",
       "    </tr>\n",
       "    <tr>\n",
       "      <th>3</th>\n",
       "      <td>2017-04-03 16:30:19</td>\n",
       "      <td>b'Stormy weather in Shortville ...'</td>\n",
       "    </tr>\n",
       "    <tr>\n",
       "      <th>4</th>\n",
       "      <td>2017-04-03 06:05:23</td>\n",
       "      <td>b\"@DaveLeeBBC @verge Coal is dying due to nat ...</td>\n",
       "    </tr>\n",
       "    <tr>\n",
       "      <th>...</th>\n",
       "      <td>...</td>\n",
       "      <td>...</td>\n",
       "    </tr>\n",
       "    <tr>\n",
       "      <th>2814</th>\n",
       "      <td>2011-12-05 08:22:07</td>\n",
       "      <td>b'That was a total non sequitur btw'</td>\n",
       "    </tr>\n",
       "    <tr>\n",
       "      <th>2815</th>\n",
       "      <td>2011-12-05 08:20:28</td>\n",
       "      <td>b'Great Voltaire quote, arguably better than T...</td>\n",
       "    </tr>\n",
       "    <tr>\n",
       "      <th>2816</th>\n",
       "      <td>2011-12-01 10:29:04</td>\n",
       "      <td>b'I made the volume on the Model S http://t.co...</td>\n",
       "    </tr>\n",
       "    <tr>\n",
       "      <th>2817</th>\n",
       "      <td>2011-12-01 09:55:11</td>\n",
       "      <td>b\"Went to Iceland on Sat to ride bumper cars o...</td>\n",
       "    </tr>\n",
       "    <tr>\n",
       "      <th>2818</th>\n",
       "      <td>2010-06-04 18:31:57</td>\n",
       "      <td>b'Please ignore prior tweets, as that was some...</td>\n",
       "    </tr>\n",
       "  </tbody>\n",
       "</table>\n",
       "<p>2819 rows × 2 columns</p>\n",
       "</div>"
      ],
      "text/plain": [
       "              created_at                                               text\n",
       "0    2017-04-05 14:56:29  b'And so the robots spared humanity ... https:...\n",
       "1    2017-04-03 20:01:01  b\"@ForIn2020 @waltmossberg @mims @defcon_5 Exa...\n",
       "2    2017-04-03 16:59:35      b'@waltmossberg @mims @defcon_5 Et tu, Walt?'\n",
       "3    2017-04-03 16:30:19                b'Stormy weather in Shortville ...'\n",
       "4    2017-04-03 06:05:23  b\"@DaveLeeBBC @verge Coal is dying due to nat ...\n",
       "...                  ...                                                ...\n",
       "2814 2011-12-05 08:22:07               b'That was a total non sequitur btw'\n",
       "2815 2011-12-05 08:20:28  b'Great Voltaire quote, arguably better than T...\n",
       "2816 2011-12-01 10:29:04  b'I made the volume on the Model S http://t.co...\n",
       "2817 2011-12-01 09:55:11  b\"Went to Iceland on Sat to ride bumper cars o...\n",
       "2818 2010-06-04 18:31:57  b'Please ignore prior tweets, as that was some...\n",
       "\n",
       "[2819 rows x 2 columns]"
      ]
     },
     "execution_count": 31,
     "metadata": {},
     "output_type": "execute_result"
    }
   ],
   "source": [
    "tweets_data # updated dataframe with no saturday and sunday dates"
   ]
  },
  {
   "cell_type": "code",
   "execution_count": 126,
   "id": "4dd2fb03",
   "metadata": {},
   "outputs": [],
   "source": [
    "tweets_data = tweets_data.set_index('created_at')"
   ]
  },
  {
   "cell_type": "code",
   "execution_count": 127,
   "id": "9e51c7cd",
   "metadata": {},
   "outputs": [
    {
     "data": {
      "text/html": [
       "<div>\n",
       "<style scoped>\n",
       "    .dataframe tbody tr th:only-of-type {\n",
       "        vertical-align: middle;\n",
       "    }\n",
       "\n",
       "    .dataframe tbody tr th {\n",
       "        vertical-align: top;\n",
       "    }\n",
       "\n",
       "    .dataframe thead th {\n",
       "        text-align: right;\n",
       "    }\n",
       "</style>\n",
       "<table border=\"1\" class=\"dataframe\">\n",
       "  <thead>\n",
       "    <tr style=\"text-align: right;\">\n",
       "      <th></th>\n",
       "      <th>text</th>\n",
       "    </tr>\n",
       "    <tr>\n",
       "      <th>created_at</th>\n",
       "      <th></th>\n",
       "    </tr>\n",
       "  </thead>\n",
       "  <tbody>\n",
       "    <tr>\n",
       "      <th>2017-04-05 14:56:29</th>\n",
       "      <td>robot spared humanity</td>\n",
       "    </tr>\n",
       "    <tr>\n",
       "      <th>2017-04-03 20:01:01</th>\n",
       "      <td>orin efcon exactly tesla absurdly overvalued b...</td>\n",
       "    </tr>\n",
       "    <tr>\n",
       "      <th>2017-04-03 16:59:35</th>\n",
       "      <td>efcon walt</td>\n",
       "    </tr>\n",
       "    <tr>\n",
       "      <th>2017-04-03 16:30:19</th>\n",
       "      <td>stormy weather shortville</td>\n",
       "    </tr>\n",
       "    <tr>\n",
       "      <th>2017-04-03 06:05:23</th>\n",
       "      <td>erge coal dying nat gas fracking basically dead</td>\n",
       "    </tr>\n",
       "    <tr>\n",
       "      <th>...</th>\n",
       "      <td>...</td>\n",
       "    </tr>\n",
       "    <tr>\n",
       "      <th>2011-12-05 08:22:07</th>\n",
       "      <td>total sequitur</td>\n",
       "    </tr>\n",
       "    <tr>\n",
       "      <th>2011-12-05 08:20:28</th>\n",
       "      <td>great voltaire quote arguably better twain hea...</td>\n",
       "    </tr>\n",
       "    <tr>\n",
       "      <th>2011-12-01 10:29:04</th>\n",
       "      <td>made volume model go now just need work miniat...</td>\n",
       "    </tr>\n",
       "    <tr>\n",
       "      <th>2011-12-01 09:55:11</th>\n",
       "      <td>went iceland ride bumper car ice no not countr...</td>\n",
       "    </tr>\n",
       "    <tr>\n",
       "      <th>2010-06-04 18:31:57</th>\n",
       "      <td>please ignore prior tweet someone pretending a...</td>\n",
       "    </tr>\n",
       "  </tbody>\n",
       "</table>\n",
       "<p>2819 rows × 1 columns</p>\n",
       "</div>"
      ],
      "text/plain": [
       "                                                                  text\n",
       "created_at                                                            \n",
       "2017-04-05 14:56:29                              robot spared humanity\n",
       "2017-04-03 20:01:01  orin efcon exactly tesla absurdly overvalued b...\n",
       "2017-04-03 16:59:35                                         efcon walt\n",
       "2017-04-03 16:30:19                          stormy weather shortville\n",
       "2017-04-03 06:05:23    erge coal dying nat gas fracking basically dead\n",
       "...                                                                ...\n",
       "2011-12-05 08:22:07                                     total sequitur\n",
       "2011-12-05 08:20:28  great voltaire quote arguably better twain hea...\n",
       "2011-12-01 10:29:04  made volume model go now just need work miniat...\n",
       "2011-12-01 09:55:11  went iceland ride bumper car ice no not countr...\n",
       "2010-06-04 18:31:57  please ignore prior tweet someone pretending a...\n",
       "\n",
       "[2819 rows x 1 columns]"
      ]
     },
     "execution_count": 127,
     "metadata": {},
     "output_type": "execute_result"
    }
   ],
   "source": [
    "tweets_data"
   ]
  },
  {
   "cell_type": "code",
   "execution_count": null,
   "id": "000dcbf1",
   "metadata": {},
   "outputs": [],
   "source": []
  },
  {
   "cell_type": "code",
   "execution_count": null,
   "id": "dedf3fdc",
   "metadata": {},
   "outputs": [],
   "source": []
  },
  {
   "cell_type": "code",
   "execution_count": null,
   "id": "4be1308b",
   "metadata": {},
   "outputs": [],
   "source": []
  },
  {
   "cell_type": "code",
   "execution_count": null,
   "id": "cbe4eee7",
   "metadata": {},
   "outputs": [],
   "source": []
  },
  {
   "cell_type": "code",
   "execution_count": null,
   "id": "c426ba1a",
   "metadata": {},
   "outputs": [],
   "source": []
  },
  {
   "cell_type": "code",
   "execution_count": null,
   "id": "fb67e0fa",
   "metadata": {},
   "outputs": [],
   "source": []
  },
  {
   "cell_type": "code",
   "execution_count": null,
   "id": "74a408dc",
   "metadata": {},
   "outputs": [],
   "source": []
  },
  {
   "cell_type": "code",
   "execution_count": null,
   "id": "934ac2aa",
   "metadata": {},
   "outputs": [],
   "source": []
  },
  {
   "cell_type": "code",
   "execution_count": null,
   "id": "35013910",
   "metadata": {},
   "outputs": [],
   "source": []
  },
  {
   "cell_type": "code",
   "execution_count": 32,
   "id": "198caaa1",
   "metadata": {},
   "outputs": [
    {
     "name": "stderr",
     "output_type": "stream",
     "text": [
      "[nltk_data] Downloading package stopwords to /home/hammad/nltk_data...\n",
      "[nltk_data]   Package stopwords is already up-to-date!\n",
      "[nltk_data] Downloading package wordnet to /home/hammad/nltk_data...\n",
      "[nltk_data]   Package wordnet is already up-to-date!\n",
      "[nltk_data] Downloading package omw-1.4 to /home/hammad/nltk_data...\n",
      "[nltk_data]   Package omw-1.4 is already up-to-date!\n"
     ]
    }
   ],
   "source": [
    "import re\n",
    "import nltk\n",
    "nltk.download('stopwords')\n",
    "nltk.download('wordnet')\n",
    "nltk.download('omw-1.4')\n",
    "from nltk.corpus import stopwords\n",
    "from nltk.stem.porter import PorterStemmer"
   ]
  },
  {
   "cell_type": "code",
   "execution_count": 117,
   "id": "cd68d810",
   "metadata": {},
   "outputs": [],
   "source": [
    "#print(stopwords.words('english'))\n",
    "#print(len(stopwords.words('english')))\n",
    "StopWords = stopwords.words('english')\n",
    "\n",
    "removewords = ['but','because','until','during','before','after','more','most','no','not','nor', 'only','own','same',\n",
    "         'very','can','wil','just',\"don't\",'should','now', \"couldn't\",\"didn't\", \"doesn't\",\"hadn't\", 'won']\n",
    "for words in removewords:\n",
    "    if words in StopWords:\n",
    "        StopWords.remove(words)\n",
    "\n",
    "StopWords.extend(['due', 'et','sat','http', 'https', 'com', '@[\\w]+','b', 'none', 'non', 'jujqwfcv', 'basically'\n",
    "                  'btw', 'altmossberg', 'aveleebbc', 'ims', 'co','dtype','hea','tu', 'v', 'wmcnt'])       \n",
    "#print('#########################################')\n",
    "#print(StopWords)\n",
    "#print(len(StopWords))\n"
   ]
  },
  {
   "cell_type": "code",
   "execution_count": 118,
   "id": "1923a0d5",
   "metadata": {},
   "outputs": [],
   "source": [
    "# This function will remove the unnecessary symbols, stopwords, and stem the words to tokens.\n",
    "def clean_string(review):\n",
    "    review = re.sub('@[a-zA-Z]', ' ', review) # remove hastags with @\n",
    "    review = re.sub('#[a-zA-Z]', ' ', review) # remove hastags with #\n",
    "    review = re.sub('[^a-zA-Z]', ' ', review) # remove every thing except alphabets \n",
    "    review = review.lower() # lower case all the tweets\n",
    "    review = review.split()\n",
    "    #ps = PorterStemmer()\n",
    "    wnl = nltk.WordNetLemmatizer()\n",
    "    review = [wnl.lemmatize(word) for word in review if not word in set(StopWords)]\n",
    "    review = ' '.join(review)\n",
    "    return review"
   ]
  },
  {
   "cell_type": "code",
   "execution_count": 119,
   "id": "34469f43",
   "metadata": {},
   "outputs": [],
   "source": [
    "corpus = tweets_data['text'].apply(clean_string) # applying the cleaning function"
   ]
  },
  {
   "cell_type": "code",
   "execution_count": 120,
   "id": "fb050879",
   "metadata": {},
   "outputs": [
    {
     "name": "stdout",
     "output_type": "stream",
     "text": [
      "0                                   robot spared humanity\n",
      "1       orin efcon exactly tesla absurdly overvalued b...\n",
      "2                                              efcon walt\n",
      "3                               stormy weather shortville\n",
      "4         erge coal dying nat gas fracking basically dead\n",
      "                              ...                        \n",
      "2814                                       total sequitur\n",
      "2815    great voltaire quote arguably better twain hea...\n",
      "2816    made volume model go now just need work miniat...\n",
      "2817    went iceland ride bumper car ice no not countr...\n",
      "2818    please ignore prior tweet someone pretending a...\n",
      "Name: text, Length: 2819, dtype: object\n"
     ]
    }
   ],
   "source": [
    "print(corpus)\n",
    "type(corpus)\n",
    "string = str(corpus)"
   ]
  },
  {
   "cell_type": "code",
   "execution_count": 121,
   "id": "e14e71e7",
   "metadata": {},
   "outputs": [
    {
     "name": "stderr",
     "output_type": "stream",
     "text": [
      "/tmp/ipykernel_6349/2394790757.py:1: SettingWithCopyWarning: \n",
      "A value is trying to be set on a copy of a slice from a DataFrame.\n",
      "Try using .loc[row_indexer,col_indexer] = value instead\n",
      "\n",
      "See the caveats in the documentation: https://pandas.pydata.org/pandas-docs/stable/user_guide/indexing.html#returning-a-view-versus-a-copy\n",
      "  tweets_data.update(corpus)\n"
     ]
    }
   ],
   "source": [
    "tweets_data.update(corpus)\n"
   ]
  },
  {
   "cell_type": "code",
   "execution_count": 122,
   "id": "2d9b64aa",
   "metadata": {},
   "outputs": [
    {
     "data": {
      "text/html": [
       "<div>\n",
       "<style scoped>\n",
       "    .dataframe tbody tr th:only-of-type {\n",
       "        vertical-align: middle;\n",
       "    }\n",
       "\n",
       "    .dataframe tbody tr th {\n",
       "        vertical-align: top;\n",
       "    }\n",
       "\n",
       "    .dataframe thead th {\n",
       "        text-align: right;\n",
       "    }\n",
       "</style>\n",
       "<table border=\"1\" class=\"dataframe\">\n",
       "  <thead>\n",
       "    <tr style=\"text-align: right;\">\n",
       "      <th></th>\n",
       "      <th>created_at</th>\n",
       "      <th>text</th>\n",
       "    </tr>\n",
       "  </thead>\n",
       "  <tbody>\n",
       "    <tr>\n",
       "      <th>0</th>\n",
       "      <td>2017-04-05 14:56:29</td>\n",
       "      <td>robot spared humanity</td>\n",
       "    </tr>\n",
       "    <tr>\n",
       "      <th>1</th>\n",
       "      <td>2017-04-03 20:01:01</td>\n",
       "      <td>orin efcon exactly tesla absurdly overvalued b...</td>\n",
       "    </tr>\n",
       "    <tr>\n",
       "      <th>2</th>\n",
       "      <td>2017-04-03 16:59:35</td>\n",
       "      <td>efcon walt</td>\n",
       "    </tr>\n",
       "    <tr>\n",
       "      <th>3</th>\n",
       "      <td>2017-04-03 16:30:19</td>\n",
       "      <td>stormy weather shortville</td>\n",
       "    </tr>\n",
       "    <tr>\n",
       "      <th>4</th>\n",
       "      <td>2017-04-03 06:05:23</td>\n",
       "      <td>erge coal dying nat gas fracking basically dead</td>\n",
       "    </tr>\n",
       "    <tr>\n",
       "      <th>...</th>\n",
       "      <td>...</td>\n",
       "      <td>...</td>\n",
       "    </tr>\n",
       "    <tr>\n",
       "      <th>2814</th>\n",
       "      <td>2011-12-05 08:22:07</td>\n",
       "      <td>total sequitur</td>\n",
       "    </tr>\n",
       "    <tr>\n",
       "      <th>2815</th>\n",
       "      <td>2011-12-05 08:20:28</td>\n",
       "      <td>great voltaire quote arguably better twain hea...</td>\n",
       "    </tr>\n",
       "    <tr>\n",
       "      <th>2816</th>\n",
       "      <td>2011-12-01 10:29:04</td>\n",
       "      <td>made volume model go now just need work miniat...</td>\n",
       "    </tr>\n",
       "    <tr>\n",
       "      <th>2817</th>\n",
       "      <td>2011-12-01 09:55:11</td>\n",
       "      <td>went iceland ride bumper car ice no not countr...</td>\n",
       "    </tr>\n",
       "    <tr>\n",
       "      <th>2818</th>\n",
       "      <td>2010-06-04 18:31:57</td>\n",
       "      <td>please ignore prior tweet someone pretending a...</td>\n",
       "    </tr>\n",
       "  </tbody>\n",
       "</table>\n",
       "<p>2819 rows × 2 columns</p>\n",
       "</div>"
      ],
      "text/plain": [
       "              created_at                                               text\n",
       "0    2017-04-05 14:56:29                              robot spared humanity\n",
       "1    2017-04-03 20:01:01  orin efcon exactly tesla absurdly overvalued b...\n",
       "2    2017-04-03 16:59:35                                         efcon walt\n",
       "3    2017-04-03 16:30:19                          stormy weather shortville\n",
       "4    2017-04-03 06:05:23    erge coal dying nat gas fracking basically dead\n",
       "...                  ...                                                ...\n",
       "2814 2011-12-05 08:22:07                                     total sequitur\n",
       "2815 2011-12-05 08:20:28  great voltaire quote arguably better twain hea...\n",
       "2816 2011-12-01 10:29:04  made volume model go now just need work miniat...\n",
       "2817 2011-12-01 09:55:11  went iceland ride bumper car ice no not countr...\n",
       "2818 2010-06-04 18:31:57  please ignore prior tweet someone pretending a...\n",
       "\n",
       "[2819 rows x 2 columns]"
      ]
     },
     "execution_count": 122,
     "metadata": {},
     "output_type": "execute_result"
    }
   ],
   "source": [
    "tweets_data"
   ]
  },
  {
   "cell_type": "code",
   "execution_count": 123,
   "id": "38a1ccef",
   "metadata": {},
   "outputs": [],
   "source": [
    "word_cloud = WordCloud(collocations = False, background_color = 'white').generate(string)"
   ]
  },
  {
   "cell_type": "code",
   "execution_count": 124,
   "id": "2d4431cb",
   "metadata": {},
   "outputs": [
    {
     "data": {
      "image/png": "[encoded data removed]",
      "text/plain": [
       "<Figure size 432x288 with 1 Axes>"
      ]
     },
     "metadata": {
      "needs_background": "light"
     },
     "output_type": "display_data"
    }
   ],
   "source": [
    "plt.imshow(word_cloud, interpolation='bilinear')\n",
    "plt.axis(\"off\")\n",
    "plt.show() "
   ]
  },
  {
   "cell_type": "code",
   "execution_count": null,
   "id": "ab020ea6",
   "metadata": {},
   "outputs": [],
   "source": [
    "#days = tweets_data['created_at'].dt.day_name()\n",
    "#days_index = tweets_data['created_at'].dt.dayofweek\n",
    "#tweets_data['days_name'] = days\n",
    "#tweets_data['dayofWeek_index'] = days_index\n"
   ]
  },
  {
   "cell_type": "code",
   "execution_count": null,
   "id": "fba873e7",
   "metadata": {},
   "outputs": [],
   "source": []
  },
  {
   "cell_type": "code",
   "execution_count": null,
   "id": "e1560586",
   "metadata": {},
   "outputs": [],
   "source": []
  },
  {
   "cell_type": "markdown",
   "id": "b4ac555b",
   "metadata": {},
   "source": [
    "# Working on Stock Dataset"
   ]
  },
  {
   "cell_type": "code",
   "execution_count": null,
   "id": "3710b928",
   "metadata": {},
   "outputs": [],
   "source": [
    "stock_dataset = pd.read_csv('/home/hammad/Dropbox/University of Hertfordshire/FYP Project/Dataset/TSLA.csv')"
   ]
  },
  {
   "cell_type": "code",
   "execution_count": null,
   "id": "a14e13c1",
   "metadata": {},
   "outputs": [],
   "source": [
    "stock_dataset.head()"
   ]
  },
  {
   "cell_type": "code",
   "execution_count": null,
   "id": "39f84fcd",
   "metadata": {},
   "outputs": [],
   "source": [
    "stock_dataset.info()"
   ]
  },
  {
   "cell_type": "code",
   "execution_count": null,
   "id": "368d3e57",
   "metadata": {},
   "outputs": [],
   "source": [
    "stock_dataset.describe()"
   ]
  }
 ],
 "metadata": {
  "kernelspec": {
   "display_name": "Python 3 (ipykernel)",
   "language": "python",
   "name": "python3"
  },
  "language_info": {
   "codemirror_mode": {
    "name": "ipython",
    "version": 3
   },
   "file_extension": ".py",
   "mimetype": "text/x-python",
   "name": "python",
   "nbconvert_exporter": "python",
   "pygments_lexer": "ipython3",
   "version": "3.9.12"
  }
 },
 "nbformat": 4,
 "nbformat_minor": 5
}

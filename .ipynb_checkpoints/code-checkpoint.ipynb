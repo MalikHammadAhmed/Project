{
 "cells": [
  {
   "cell_type": "code",
   "execution_count": 47,
   "id": "8132629e",
   "metadata": {},
   "outputs": [
    {
     "ename": "ModuleNotFoundError",
     "evalue": "No module named 'List'",
     "output_type": "error",
     "traceback": [
      "\u001b[1;31m---------------------------------------------------------------------------\u001b[0m",
      "\u001b[1;31mModuleNotFoundError\u001b[0m                       Traceback (most recent call last)",
      "\u001b[1;32m~\\AppData\\Local\\Temp/ipykernel_10056/411912140.py\u001b[0m in \u001b[0;36m<module>\u001b[1;34m\u001b[0m\n\u001b[0;32m      6\u001b[0m \u001b[1;32mfrom\u001b[0m \u001b[0mdatetime\u001b[0m \u001b[1;32mimport\u001b[0m \u001b[0mdatetime\u001b[0m\u001b[1;33m,\u001b[0m \u001b[0mtimedelta\u001b[0m\u001b[1;33m\u001b[0m\u001b[1;33m\u001b[0m\u001b[0m\n\u001b[0;32m      7\u001b[0m \u001b[1;32mfrom\u001b[0m \u001b[0mwordcloud\u001b[0m \u001b[1;32mimport\u001b[0m \u001b[0mWordCloud\u001b[0m\u001b[1;33m\u001b[0m\u001b[1;33m\u001b[0m\u001b[0m\n\u001b[1;32m----> 8\u001b[1;33m \u001b[1;32mimport\u001b[0m \u001b[0mList\u001b[0m\u001b[1;33m\u001b[0m\u001b[1;33m\u001b[0m\u001b[0m\n\u001b[0m",
      "\u001b[1;31mModuleNotFoundError\u001b[0m: No module named 'List'"
     ]
    }
   ],
   "source": [
    "import pandas as pd\n",
    "import numpy as np\n",
    "#import glob\n",
    "#import os\n",
    "import matplotlib.pyplot as plt\n",
    "from datetime import datetime, timedelta\n",
    "from wordcloud import WordCloud"
   ]
  },
  {
   "cell_type": "markdown",
   "id": "a9a9ac24",
   "metadata": {},
   "source": [
    "# Working on Tweets Dataset"
   ]
  },
  {
   "cell_type": "code",
   "execution_count": null,
   "id": "2e2908a4",
   "metadata": {},
   "outputs": [],
   "source": [
    "#all_tweets = glob.glob(\"/home/hammad/Workdir/FYP/Dataset/Tweets/*.csv\")"
   ]
  },
  {
   "cell_type": "code",
   "execution_count": null,
   "id": "ca18ab45",
   "metadata": {},
   "outputs": [],
   "source": [
    "#tweets_dataset = pd.concat((pd.read_csv(f) for f in all_tweets))\n",
    "#tweets_dataset= pd.read_csv('/home/hammad/Dropbox/University of Hertfordshire/FYP Project/Dataset/elonmusk_tweets.csv', parse_dates=[\"created_at\"])\n",
    "tweets_dataset= pd.read_csv('C:/Users/malik/Dropbox/University of Hertfordshire/FYP Project/Dataset/elonmusk_tweets.csv', parse_dates=[\"created_at\"])"
   ]
  },
  {
   "cell_type": "code",
   "execution_count": null,
   "id": "1831515a",
   "metadata": {},
   "outputs": [],
   "source": [
    "tweets_dataset.head()"
   ]
  },
  {
   "cell_type": "code",
   "execution_count": null,
   "id": "5ea9b143",
   "metadata": {},
   "outputs": [],
   "source": [
    "tweets_dataset.info()"
   ]
  },
  {
   "cell_type": "code",
   "execution_count": null,
   "id": "53999b23",
   "metadata": {},
   "outputs": [],
   "source": [
    "#tweets_data = tweets_dataset[['date','tweet']]\n",
    "tweets_data = tweets_dataset[['created_at','text']] # drop the id column"
   ]
  },
  {
   "cell_type": "code",
   "execution_count": null,
   "id": "df774d9a",
   "metadata": {},
   "outputs": [],
   "source": [
    "tweets_data.head()"
   ]
  },
  {
   "cell_type": "code",
   "execution_count": null,
   "id": "1a9e581d",
   "metadata": {},
   "outputs": [],
   "source": [
    "#tweets_data['datetime'] = pd.to_datetime(tweets_data['created_at'])"
   ]
  },
  {
   "cell_type": "code",
   "execution_count": null,
   "id": "ed8196e9",
   "metadata": {},
   "outputs": [],
   "source": [
    "tweets_data.info()"
   ]
  },
  {
   "cell_type": "code",
   "execution_count": null,
   "id": "83b2934e",
   "metadata": {},
   "outputs": [],
   "source": [
    "df =  tweets_data # copying dataframe into df "
   ]
  },
  {
   "cell_type": "code",
   "execution_count": null,
   "id": "33579288",
   "metadata": {},
   "outputs": [],
   "source": [
    "df['Index'] = df.index # creating new index column and copying all index values into that column"
   ]
  },
  {
   "cell_type": "code",
   "execution_count": null,
   "id": "14acdb65",
   "metadata": {},
   "outputs": [],
   "source": [
    "df = tweets_data.set_index('created_at') # setting datetime column as index"
   ]
  },
  {
   "cell_type": "code",
   "execution_count": null,
   "id": "e0c2e875",
   "metadata": {},
   "outputs": [],
   "source": [
    "df"
   ]
  },
  {
   "cell_type": "code",
   "execution_count": null,
   "id": "67c644cc",
   "metadata": {},
   "outputs": [],
   "source": [
    "df1 = df.between_time('16:00', '00:00') # separating all the tweets which are post after 4PM\n",
    "df1"
   ]
  },
  {
   "cell_type": "code",
   "execution_count": null,
   "id": "5fb80bc2",
   "metadata": {},
   "outputs": [],
   "source": [
    "#df2=tweets_data.between_time('00:01', '09:00')\n",
    "#df2"
   ]
  },
  {
   "cell_type": "code",
   "execution_count": null,
   "id": "11c31095",
   "metadata": {},
   "outputs": [],
   "source": [
    "#df = pd.concat([df1, df2])"
   ]
  },
  {
   "cell_type": "code",
   "execution_count": null,
   "id": "23781b52",
   "metadata": {},
   "outputs": [],
   "source": [
    "#df['created_at']=df.index # copying all the index values in to new column named created_at\n",
    "df1['created_at']=df1.index # copying all the index values in to new column named created_at\n",
    "#df=df.set_index('Index') # Setting Index column as index\n",
    "df1=df1.set_index('Index') # Setting Index column as index"
   ]
  },
  {
   "cell_type": "code",
   "execution_count": null,
   "id": "4357b41e",
   "metadata": {},
   "outputs": [],
   "source": [
    "#df = df[['created_at', 'text']] # changing the column position\n",
    "#df"
   ]
  },
  {
   "cell_type": "code",
   "execution_count": null,
   "id": "227f3d4a",
   "metadata": {},
   "outputs": [],
   "source": [
    "df1 = df1[['created_at', 'text']] # changing the column position\n",
    "df1"
   ]
  },
  {
   "cell_type": "code",
   "execution_count": null,
   "id": "2f5af8c7",
   "metadata": {},
   "outputs": [],
   "source": [
    "df2 = df1['created_at'] + timedelta(days=1) - timedelta(hours=9) # changing date to next day and shifting hours back to 4PM"
   ]
  },
  {
   "cell_type": "code",
   "execution_count": null,
   "id": "1144fbaf",
   "metadata": {},
   "outputs": [],
   "source": [
    "df2"
   ]
  },
  {
   "cell_type": "code",
   "execution_count": null,
   "id": "c876ffb6",
   "metadata": {},
   "outputs": [],
   "source": [
    "tweets_data.update(df2) #update the df2 values into original dataset"
   ]
  },
  {
   "cell_type": "code",
   "execution_count": null,
   "id": "0f1c7861",
   "metadata": {},
   "outputs": [],
   "source": [
    "#tweets_data[\"created_at\"].min() , tweets_data[\"created_at\"].max()"
   ]
  },
  {
   "cell_type": "code",
   "execution_count": null,
   "id": "6a3c7a77",
   "metadata": {},
   "outputs": [],
   "source": [
    "#tweets_data[\"created_at\"].max()-tweets_data[\"created_at\"].min()"
   ]
  },
  {
   "cell_type": "code",
   "execution_count": null,
   "id": "3de23459",
   "metadata": {},
   "outputs": [],
   "source": [
    "#days = tweets_data['created_at'].dt.day_name()"
   ]
  },
  {
   "cell_type": "code",
   "execution_count": null,
   "id": "cc7bd723",
   "metadata": {},
   "outputs": [],
   "source": [
    "#days_index = tweets_data['created_at'].dt.dayofweek\n",
    "#tweets_data['days_name'] = days\n",
    "#tweets_data['dayofWeek_index'] = days_index\n",
    "#"
   ]
  },
  {
   "cell_type": "code",
   "execution_count": null,
   "id": "23cdeaf8",
   "metadata": {},
   "outputs": [],
   "source": [
    "#tweets_data.head()"
   ]
  },
  {
   "cell_type": "code",
   "execution_count": null,
   "id": "51285b86",
   "metadata": {},
   "outputs": [],
   "source": [
    "#Sunday = tweets_data['created_at'].dt.dayofweek == 2\n",
    "\n",
    "\n",
    "\n",
    "\n",
    "\n",
    "#result = tweets_data['created_at'].dt.dayofweek\n",
    "#df10 =tweets_data[tweets_data.dt.dayofweek == 6] \n",
    "#tweets_data[tweets_data.index.dayofweek == 6]\n",
    "#df10"
   ]
  },
  {
   "cell_type": "code",
   "execution_count": null,
   "id": "123756e0",
   "metadata": {},
   "outputs": [],
   "source": [
    "saturday = pd.DataFrame() # created empty dataframe\n",
    "sunday = pd.DataFrame() # created empty dataframe\n",
    "saturday = tweets_data.loc[(tweets_data['created_at'].dt.dayofweek==5)] # separated all the saturday tweets\n",
    "sunday = tweets_data.loc[(tweets_data['created_at'].dt.dayofweek==6)] # separated all the sunday tweets\n",
    "#temp_df = tweets_data['created_at']"
   ]
  },
  {
   "cell_type": "code",
   "execution_count": null,
   "id": "73eaaf9d",
   "metadata": {},
   "outputs": [],
   "source": [
    "saturday"
   ]
  },
  {
   "cell_type": "code",
   "execution_count": null,
   "id": "6a1d877c",
   "metadata": {},
   "outputs": [],
   "source": [
    "#saturday=tweets_data[tweets_data.days_name=='Saturday']\n",
    "#sunday=tweets_data[tweets_data.days_name=='Sunday']\n"
   ]
  },
  {
   "cell_type": "code",
   "execution_count": null,
   "id": "bf4ca02c",
   "metadata": {},
   "outputs": [],
   "source": [
    "sunday"
   ]
  },
  {
   "cell_type": "code",
   "execution_count": null,
   "id": "76c16b2d",
   "metadata": {},
   "outputs": [],
   "source": [
    "#sunday = sunday.drop(['days_name', 'dayofWeek_index'], axis=1)\n",
    "#saturday = saturday.drop(['days_name', 'dayofWeek_index'], axis=1)"
   ]
  },
  {
   "cell_type": "code",
   "execution_count": null,
   "id": "c2fba271",
   "metadata": {},
   "outputs": [],
   "source": [
    "\n",
    "#from dateutil.parser import parse\n",
    "\n"
   ]
  },
  {
   "cell_type": "code",
   "execution_count": null,
   "id": "6ef97d45",
   "metadata": {},
   "outputs": [],
   "source": [
    "newsundaydates = sunday['created_at'] + timedelta(days=1) # change the sunday date to monday\n",
    "newsaturdaydates = saturday['created_at'] + timedelta(days=2) # change the saturday date to monday"
   ]
  },
  {
   "cell_type": "code",
   "execution_count": null,
   "id": "2ead0101",
   "metadata": {},
   "outputs": [],
   "source": [
    "sunday['created_at'] = newsundaydates.values # updated the sunday new dates to dataframe \n",
    "saturday['created_at'] = newsaturdaydates.values # updated the saturday dates to dataframe"
   ]
  },
  {
   "cell_type": "code",
   "execution_count": null,
   "id": "d72843fe",
   "metadata": {},
   "outputs": [],
   "source": [
    "saturday"
   ]
  },
  {
   "cell_type": "code",
   "execution_count": null,
   "id": "6334877b",
   "metadata": {},
   "outputs": [],
   "source": [
    "sunday"
   ]
  },
  {
   "cell_type": "code",
   "execution_count": null,
   "id": "18c0a24a",
   "metadata": {},
   "outputs": [],
   "source": [
    "#tweets_data = tweets_data.drop(['days_name', 'dayofWeek_index'], axis=1)"
   ]
  },
  {
   "cell_type": "code",
   "execution_count": null,
   "id": "8577f257",
   "metadata": {},
   "outputs": [],
   "source": [
    "#tweets = pd.concat()"
   ]
  },
  {
   "cell_type": "code",
   "execution_count": null,
   "id": "7b45af9f",
   "metadata": {},
   "outputs": [],
   "source": [
    "tweets_data.update(newsundaydates) # updated the dataframe with new values\n",
    "tweets_data.update(newsaturdaydates)\n",
    "#tweets_data['created_at'] = newsundaydates.values\n",
    "#tweets_data['created_at'] = newsaturdaydates.values"
   ]
  },
  {
   "cell_type": "code",
   "execution_count": null,
   "id": "5f8fdd9c",
   "metadata": {},
   "outputs": [],
   "source": [
    "tweets_data # updated dataframe with no saturday and sunday dates"
   ]
  },
  {
   "cell_type": "code",
   "execution_count": null,
   "id": "4dd2fb03",
   "metadata": {},
   "outputs": [],
   "source": [
    "tweets_data = tweets_data[['created_at','text']]# droping index column"
   ]
  },
  {
   "cell_type": "code",
   "execution_count": null,
   "id": "9e51c7cd",
   "metadata": {},
   "outputs": [],
   "source": [
    "tweets_data # clean dataset with no tweets on saturday, sunday and after 4PM"
   ]
  },
  {
   "cell_type": "code",
   "execution_count": null,
   "id": "198caaa1",
   "metadata": {},
   "outputs": [],
   "source": [
    "import re\n",
    "import nltk\n",
    "nltk.download('stopwords')\n",
    "nltk.download('wordnet')\n",
    "nltk.download('omw-1.4')\n",
    "from nltk.corpus import stopwords\n",
    "from nltk.stem.porter import PorterStemmer"
   ]
  },
  {
   "cell_type": "code",
   "execution_count": null,
   "id": "cd68d810",
   "metadata": {},
   "outputs": [],
   "source": [
    "#print(stopwords.words('english'))\n",
    "#print(len(stopwords.words('english')))\n",
    "StopWords = stopwords.words('english')\n",
    "\n",
    "removewords = ['but','because','until','during','before','after','more','most','no','not','nor', 'only','own','same',\n",
    "         'very','can','wil','just',\"don't\",'should','now', \"couldn't\",\"didn't\", \"doesn't\",\"hadn't\", 'won']\n",
    "for words in removewords:\n",
    "    if words in StopWords:\n",
    "        StopWords.remove(words)\n",
    "\n",
    "StopWords.extend(['due', 'et','sat','http', 'https', 'com', '@[\\w]+','b', 'none', 'non', 'jujqwfcv', 'basically'\n",
    "                  'btw', 'altmossberg', 'aveleebbc', 'ims', 'co','dtype','hea','tu', 'v', 'wmcnt'])       \n",
    "#print('#########################################')\n",
    "#print(StopWords)\n",
    "#print(len(StopWords))\n"
   ]
  },
  {
   "cell_type": "code",
   "execution_count": null,
   "id": "1923a0d5",
   "metadata": {},
   "outputs": [],
   "source": [
    "# This function will remove the unnecessary symbols, stopwords, and stem the words to tokens.\n",
    "def clean_string(review):\n",
    "    review = re.sub('@[a-zA-Z]', ' ', review) # remove hastags with @\n",
    "    review = re.sub('#[a-zA-Z]', ' ', review) # remove hastags with #\n",
    "    review = re.sub('[^a-zA-Z]', ' ', review) # remove every thing except alphabets \n",
    "    review = review.lower() # lower case all the tweets\n",
    "    review = review.split()\n",
    "    #ps = PorterStemmer()\n",
    "    wnl = nltk.WordNetLemmatizer()\n",
    "    review = [wnl.lemmatize(word) for word in review if not word in set(StopWords)]\n",
    "    review = ' '.join(review)\n",
    "    return review"
   ]
  },
  {
   "cell_type": "code",
   "execution_count": null,
   "id": "34469f43",
   "metadata": {},
   "outputs": [],
   "source": [
    "corpus = tweets_data['text'].apply(clean_string) # applying the cleaning function"
   ]
  },
  {
   "cell_type": "code",
   "execution_count": null,
   "id": "fb050879",
   "metadata": {},
   "outputs": [],
   "source": [
    "print(corpus)\n",
    "type(corpus)\n",
    "string = str(corpus)"
   ]
  },
  {
   "cell_type": "code",
   "execution_count": null,
   "id": "e14e71e7",
   "metadata": {},
   "outputs": [],
   "source": [
    "tweets_data.update(corpus)\n"
   ]
  },
  {
   "cell_type": "code",
   "execution_count": null,
   "id": "2d9b64aa",
   "metadata": {},
   "outputs": [],
   "source": [
    "tweets_data"
   ]
  },
  {
   "cell_type": "code",
   "execution_count": null,
   "id": "38a1ccef",
   "metadata": {},
   "outputs": [],
   "source": [
    "word_cloud = WordCloud(collocations = False, background_color = 'white').generate(string)"
   ]
  },
  {
   "cell_type": "code",
   "execution_count": null,
   "id": "2d4431cb",
   "metadata": {},
   "outputs": [],
   "source": [
    "plt.imshow(word_cloud, interpolation='bilinear')\n",
    "plt.axis(\"off\")\n",
    "plt.show() "
   ]
  },
  {
   "cell_type": "code",
   "execution_count": null,
   "id": "ab020ea6",
   "metadata": {},
   "outputs": [],
   "source": [
    "#days = tweets_data['created_at'].dt.day_name()\n",
    "#days_index = tweets_data['created_at'].dt.dayofweek\n",
    "#tweets_data['days_name'] = days\n",
    "#tweets_data['dayofWeek_index'] = days_index\n"
   ]
  },
  {
   "cell_type": "markdown",
   "id": "b4ac555b",
   "metadata": {},
   "source": [
    "# Working on Stock Dataset"
   ]
  },
  {
   "cell_type": "code",
   "execution_count": 25,
   "id": "3710b928",
   "metadata": {},
   "outputs": [],
   "source": [
    "#stock_dataset = pd.read_csv('/home/hammad/Dropbox/University of Hertfordshire/FYP Project/Dataset/TSLA.csv')\n",
    "stock_dataset = pd.read_csv('C:/Users/malik/Dropbox/University of Hertfordshire/FYP Project/Dataset/TSLA.csv')"
   ]
  },
  {
   "cell_type": "code",
   "execution_count": 26,
   "id": "a14e13c1",
   "metadata": {},
   "outputs": [
    {
     "data": {
      "text/html": [
       "<div>\n",
       "<style scoped>\n",
       "    .dataframe tbody tr th:only-of-type {\n",
       "        vertical-align: middle;\n",
       "    }\n",
       "\n",
       "    .dataframe tbody tr th {\n",
       "        vertical-align: top;\n",
       "    }\n",
       "\n",
       "    .dataframe thead th {\n",
       "        text-align: right;\n",
       "    }\n",
       "</style>\n",
       "<table border=\"1\" class=\"dataframe\">\n",
       "  <thead>\n",
       "    <tr style=\"text-align: right;\">\n",
       "      <th></th>\n",
       "      <th>Date</th>\n",
       "      <th>Open</th>\n",
       "      <th>High</th>\n",
       "      <th>Low</th>\n",
       "      <th>Close</th>\n",
       "      <th>Adj Close</th>\n",
       "      <th>Volume</th>\n",
       "    </tr>\n",
       "  </thead>\n",
       "  <tbody>\n",
       "    <tr>\n",
       "      <th>0</th>\n",
       "      <td>2010-07-01</td>\n",
       "      <td>5.000</td>\n",
       "      <td>5.184</td>\n",
       "      <td>4.054</td>\n",
       "      <td>4.392</td>\n",
       "      <td>4.392</td>\n",
       "      <td>41094000</td>\n",
       "    </tr>\n",
       "    <tr>\n",
       "      <th>1</th>\n",
       "      <td>2010-07-02</td>\n",
       "      <td>4.600</td>\n",
       "      <td>4.620</td>\n",
       "      <td>3.742</td>\n",
       "      <td>3.840</td>\n",
       "      <td>3.840</td>\n",
       "      <td>25699000</td>\n",
       "    </tr>\n",
       "    <tr>\n",
       "      <th>2</th>\n",
       "      <td>2010-07-06</td>\n",
       "      <td>4.000</td>\n",
       "      <td>4.000</td>\n",
       "      <td>3.166</td>\n",
       "      <td>3.222</td>\n",
       "      <td>3.222</td>\n",
       "      <td>34334500</td>\n",
       "    </tr>\n",
       "    <tr>\n",
       "      <th>3</th>\n",
       "      <td>2010-07-07</td>\n",
       "      <td>3.280</td>\n",
       "      <td>3.326</td>\n",
       "      <td>2.996</td>\n",
       "      <td>3.160</td>\n",
       "      <td>3.160</td>\n",
       "      <td>34608500</td>\n",
       "    </tr>\n",
       "    <tr>\n",
       "      <th>4</th>\n",
       "      <td>2010-07-08</td>\n",
       "      <td>3.228</td>\n",
       "      <td>3.504</td>\n",
       "      <td>3.114</td>\n",
       "      <td>3.492</td>\n",
       "      <td>3.492</td>\n",
       "      <td>38557000</td>\n",
       "    </tr>\n",
       "  </tbody>\n",
       "</table>\n",
       "</div>"
      ],
      "text/plain": [
       "         Date   Open   High    Low  Close  Adj Close    Volume\n",
       "0  2010-07-01  5.000  5.184  4.054  4.392      4.392  41094000\n",
       "1  2010-07-02  4.600  4.620  3.742  3.840      3.840  25699000\n",
       "2  2010-07-06  4.000  4.000  3.166  3.222      3.222  34334500\n",
       "3  2010-07-07  3.280  3.326  2.996  3.160      3.160  34608500\n",
       "4  2010-07-08  3.228  3.504  3.114  3.492      3.492  38557000"
      ]
     },
     "execution_count": 26,
     "metadata": {},
     "output_type": "execute_result"
    }
   ],
   "source": [
    "stock_dataset.head()"
   ]
  },
  {
   "cell_type": "code",
   "execution_count": 27,
   "id": "39f84fcd",
   "metadata": {},
   "outputs": [
    {
     "name": "stdout",
     "output_type": "stream",
     "text": [
      "<class 'pandas.core.frame.DataFrame'>\n",
      "RangeIndex: 3020 entries, 0 to 3019\n",
      "Data columns (total 7 columns):\n",
      " #   Column     Non-Null Count  Dtype  \n",
      "---  ------     --------------  -----  \n",
      " 0   Date       3020 non-null   object \n",
      " 1   Open       3020 non-null   float64\n",
      " 2   High       3020 non-null   float64\n",
      " 3   Low        3020 non-null   float64\n",
      " 4   Close      3020 non-null   float64\n",
      " 5   Adj Close  3020 non-null   float64\n",
      " 6   Volume     3020 non-null   int64  \n",
      "dtypes: float64(5), int64(1), object(1)\n",
      "memory usage: 165.3+ KB\n"
     ]
    }
   ],
   "source": [
    "stock_dataset.info()"
   ]
  },
  {
   "cell_type": "code",
   "execution_count": 28,
   "id": "368d3e57",
   "metadata": {},
   "outputs": [
    {
     "data": {
      "text/html": [
       "<div>\n",
       "<style scoped>\n",
       "    .dataframe tbody tr th:only-of-type {\n",
       "        vertical-align: middle;\n",
       "    }\n",
       "\n",
       "    .dataframe tbody tr th {\n",
       "        vertical-align: top;\n",
       "    }\n",
       "\n",
       "    .dataframe thead th {\n",
       "        text-align: right;\n",
       "    }\n",
       "</style>\n",
       "<table border=\"1\" class=\"dataframe\">\n",
       "  <thead>\n",
       "    <tr style=\"text-align: right;\">\n",
       "      <th></th>\n",
       "      <th>Open</th>\n",
       "      <th>High</th>\n",
       "      <th>Low</th>\n",
       "      <th>Close</th>\n",
       "      <th>Adj Close</th>\n",
       "      <th>Volume</th>\n",
       "    </tr>\n",
       "  </thead>\n",
       "  <tbody>\n",
       "    <tr>\n",
       "      <th>count</th>\n",
       "      <td>3020.000000</td>\n",
       "      <td>3020.000000</td>\n",
       "      <td>3020.000000</td>\n",
       "      <td>3020.000000</td>\n",
       "      <td>3020.000000</td>\n",
       "      <td>3.020000e+03</td>\n",
       "    </tr>\n",
       "    <tr>\n",
       "      <th>mean</th>\n",
       "      <td>154.251962</td>\n",
       "      <td>157.730617</td>\n",
       "      <td>150.459072</td>\n",
       "      <td>154.186139</td>\n",
       "      <td>154.186139</td>\n",
       "      <td>3.122409e+07</td>\n",
       "    </tr>\n",
       "    <tr>\n",
       "      <th>std</th>\n",
       "      <td>269.125203</td>\n",
       "      <td>275.426172</td>\n",
       "      <td>262.039222</td>\n",
       "      <td>268.820431</td>\n",
       "      <td>268.820431</td>\n",
       "      <td>2.766592e+07</td>\n",
       "    </tr>\n",
       "    <tr>\n",
       "      <th>min</th>\n",
       "      <td>3.228000</td>\n",
       "      <td>3.326000</td>\n",
       "      <td>2.996000</td>\n",
       "      <td>3.160000</td>\n",
       "      <td>3.160000</td>\n",
       "      <td>5.925000e+05</td>\n",
       "    </tr>\n",
       "    <tr>\n",
       "      <th>25%</th>\n",
       "      <td>22.500499</td>\n",
       "      <td>23.776000</td>\n",
       "      <td>21.430499</td>\n",
       "      <td>22.802500</td>\n",
       "      <td>22.802500</td>\n",
       "      <td>1.347962e+07</td>\n",
       "    </tr>\n",
       "    <tr>\n",
       "      <th>50%</th>\n",
       "      <td>47.256000</td>\n",
       "      <td>48.134998</td>\n",
       "      <td>46.435000</td>\n",
       "      <td>47.438000</td>\n",
       "      <td>47.438000</td>\n",
       "      <td>2.514300e+07</td>\n",
       "    </tr>\n",
       "    <tr>\n",
       "      <th>75%</th>\n",
       "      <td>69.444002</td>\n",
       "      <td>70.412501</td>\n",
       "      <td>68.435999</td>\n",
       "      <td>69.465998</td>\n",
       "      <td>69.465998</td>\n",
       "      <td>3.952115e+07</td>\n",
       "    </tr>\n",
       "    <tr>\n",
       "      <th>max</th>\n",
       "      <td>1234.410034</td>\n",
       "      <td>1243.489990</td>\n",
       "      <td>1217.000000</td>\n",
       "      <td>1229.910034</td>\n",
       "      <td>1229.910034</td>\n",
       "      <td>3.046940e+08</td>\n",
       "    </tr>\n",
       "  </tbody>\n",
       "</table>\n",
       "</div>"
      ],
      "text/plain": [
       "              Open         High          Low        Close    Adj Close  \\\n",
       "count  3020.000000  3020.000000  3020.000000  3020.000000  3020.000000   \n",
       "mean    154.251962   157.730617   150.459072   154.186139   154.186139   \n",
       "std     269.125203   275.426172   262.039222   268.820431   268.820431   \n",
       "min       3.228000     3.326000     2.996000     3.160000     3.160000   \n",
       "25%      22.500499    23.776000    21.430499    22.802500    22.802500   \n",
       "50%      47.256000    48.134998    46.435000    47.438000    47.438000   \n",
       "75%      69.444002    70.412501    68.435999    69.465998    69.465998   \n",
       "max    1234.410034  1243.489990  1217.000000  1229.910034  1229.910034   \n",
       "\n",
       "             Volume  \n",
       "count  3.020000e+03  \n",
       "mean   3.122409e+07  \n",
       "std    2.766592e+07  \n",
       "min    5.925000e+05  \n",
       "25%    1.347962e+07  \n",
       "50%    2.514300e+07  \n",
       "75%    3.952115e+07  \n",
       "max    3.046940e+08  "
      ]
     },
     "execution_count": 28,
     "metadata": {},
     "output_type": "execute_result"
    }
   ],
   "source": [
    "stock_dataset.describe()"
   ]
  },
  {
   "cell_type": "code",
   "execution_count": 29,
   "id": "93990a83",
   "metadata": {},
   "outputs": [],
   "source": [
    "stock_dataset = stock_dataset[['Date','Adj Close']]"
   ]
  },
  {
   "cell_type": "code",
   "execution_count": 30,
   "id": "561c6e63",
   "metadata": {},
   "outputs": [
    {
     "data": {
      "text/html": [
       "<div>\n",
       "<style scoped>\n",
       "    .dataframe tbody tr th:only-of-type {\n",
       "        vertical-align: middle;\n",
       "    }\n",
       "\n",
       "    .dataframe tbody tr th {\n",
       "        vertical-align: top;\n",
       "    }\n",
       "\n",
       "    .dataframe thead th {\n",
       "        text-align: right;\n",
       "    }\n",
       "</style>\n",
       "<table border=\"1\" class=\"dataframe\">\n",
       "  <thead>\n",
       "    <tr style=\"text-align: right;\">\n",
       "      <th></th>\n",
       "      <th>Date</th>\n",
       "      <th>Adj Close</th>\n",
       "    </tr>\n",
       "  </thead>\n",
       "  <tbody>\n",
       "    <tr>\n",
       "      <th>0</th>\n",
       "      <td>2010-07-01</td>\n",
       "      <td>4.392000</td>\n",
       "    </tr>\n",
       "    <tr>\n",
       "      <th>1</th>\n",
       "      <td>2010-07-02</td>\n",
       "      <td>3.840000</td>\n",
       "    </tr>\n",
       "    <tr>\n",
       "      <th>2</th>\n",
       "      <td>2010-07-06</td>\n",
       "      <td>3.222000</td>\n",
       "    </tr>\n",
       "    <tr>\n",
       "      <th>3</th>\n",
       "      <td>2010-07-07</td>\n",
       "      <td>3.160000</td>\n",
       "    </tr>\n",
       "    <tr>\n",
       "      <th>4</th>\n",
       "      <td>2010-07-08</td>\n",
       "      <td>3.492000</td>\n",
       "    </tr>\n",
       "    <tr>\n",
       "      <th>...</th>\n",
       "      <td>...</td>\n",
       "      <td>...</td>\n",
       "    </tr>\n",
       "    <tr>\n",
       "      <th>3015</th>\n",
       "      <td>2022-06-23</td>\n",
       "      <td>705.210022</td>\n",
       "    </tr>\n",
       "    <tr>\n",
       "      <th>3016</th>\n",
       "      <td>2022-06-24</td>\n",
       "      <td>737.119995</td>\n",
       "    </tr>\n",
       "    <tr>\n",
       "      <th>3017</th>\n",
       "      <td>2022-06-27</td>\n",
       "      <td>734.760010</td>\n",
       "    </tr>\n",
       "    <tr>\n",
       "      <th>3018</th>\n",
       "      <td>2022-06-28</td>\n",
       "      <td>697.989990</td>\n",
       "    </tr>\n",
       "    <tr>\n",
       "      <th>3019</th>\n",
       "      <td>2022-06-29</td>\n",
       "      <td>685.469971</td>\n",
       "    </tr>\n",
       "  </tbody>\n",
       "</table>\n",
       "<p>3020 rows × 2 columns</p>\n",
       "</div>"
      ],
      "text/plain": [
       "            Date   Adj Close\n",
       "0     2010-07-01    4.392000\n",
       "1     2010-07-02    3.840000\n",
       "2     2010-07-06    3.222000\n",
       "3     2010-07-07    3.160000\n",
       "4     2010-07-08    3.492000\n",
       "...          ...         ...\n",
       "3015  2022-06-23  705.210022\n",
       "3016  2022-06-24  737.119995\n",
       "3017  2022-06-27  734.760010\n",
       "3018  2022-06-28  697.989990\n",
       "3019  2022-06-29  685.469971\n",
       "\n",
       "[3020 rows x 2 columns]"
      ]
     },
     "execution_count": 30,
     "metadata": {},
     "output_type": "execute_result"
    }
   ],
   "source": [
    "stock_dataset"
   ]
  },
  {
   "cell_type": "code",
   "execution_count": 113,
   "id": "fc58c714",
   "metadata": {},
   "outputs": [],
   "source": [
    "df1=stock_dataset"
   ]
  },
  {
   "cell_type": "code",
   "execution_count": 31,
   "id": "51c9b5e4",
   "metadata": {},
   "outputs": [],
   "source": [
    "df = stock_dataset['Adj Close']"
   ]
  },
  {
   "cell_type": "code",
   "execution_count": 124,
   "id": "30ddb469",
   "metadata": {},
   "outputs": [
    {
     "data": {
      "text/html": [
       "<div>\n",
       "<style scoped>\n",
       "    .dataframe tbody tr th:only-of-type {\n",
       "        vertical-align: middle;\n",
       "    }\n",
       "\n",
       "    .dataframe tbody tr th {\n",
       "        vertical-align: top;\n",
       "    }\n",
       "\n",
       "    .dataframe thead th {\n",
       "        text-align: right;\n",
       "    }\n",
       "</style>\n",
       "<table border=\"1\" class=\"dataframe\">\n",
       "  <thead>\n",
       "    <tr style=\"text-align: right;\">\n",
       "      <th></th>\n",
       "      <th>Date</th>\n",
       "      <th>Adj Close</th>\n",
       "      <th>0</th>\n",
       "    </tr>\n",
       "  </thead>\n",
       "  <tbody>\n",
       "    <tr>\n",
       "      <th>0</th>\n",
       "      <td>2010-07-01</td>\n",
       "      <td>4.392000</td>\n",
       "      <td>1</td>\n",
       "    </tr>\n",
       "    <tr>\n",
       "      <th>1</th>\n",
       "      <td>2010-07-02</td>\n",
       "      <td>3.840000</td>\n",
       "      <td>1</td>\n",
       "    </tr>\n",
       "    <tr>\n",
       "      <th>2</th>\n",
       "      <td>2010-07-06</td>\n",
       "      <td>3.222000</td>\n",
       "      <td>1</td>\n",
       "    </tr>\n",
       "    <tr>\n",
       "      <th>3</th>\n",
       "      <td>2010-07-07</td>\n",
       "      <td>3.160000</td>\n",
       "      <td>-1</td>\n",
       "    </tr>\n",
       "    <tr>\n",
       "      <th>4</th>\n",
       "      <td>2010-07-08</td>\n",
       "      <td>3.492000</td>\n",
       "      <td>1</td>\n",
       "    </tr>\n",
       "    <tr>\n",
       "      <th>...</th>\n",
       "      <td>...</td>\n",
       "      <td>...</td>\n",
       "      <td>...</td>\n",
       "    </tr>\n",
       "    <tr>\n",
       "      <th>3015</th>\n",
       "      <td>2022-06-23</td>\n",
       "      <td>705.210022</td>\n",
       "      <td>-1</td>\n",
       "    </tr>\n",
       "    <tr>\n",
       "      <th>3016</th>\n",
       "      <td>2022-06-24</td>\n",
       "      <td>737.119995</td>\n",
       "      <td>1</td>\n",
       "    </tr>\n",
       "    <tr>\n",
       "      <th>3017</th>\n",
       "      <td>2022-06-27</td>\n",
       "      <td>734.760010</td>\n",
       "      <td>1</td>\n",
       "    </tr>\n",
       "    <tr>\n",
       "      <th>3018</th>\n",
       "      <td>2022-06-28</td>\n",
       "      <td>697.989990</td>\n",
       "      <td>1</td>\n",
       "    </tr>\n",
       "    <tr>\n",
       "      <th>3019</th>\n",
       "      <td>2022-06-29</td>\n",
       "      <td>685.469971</td>\n",
       "      <td>2</td>\n",
       "    </tr>\n",
       "  </tbody>\n",
       "</table>\n",
       "<p>3020 rows × 3 columns</p>\n",
       "</div>"
      ],
      "text/plain": [
       "            Date   Adj Close  0\n",
       "0     2010-07-01    4.392000  1\n",
       "1     2010-07-02    3.840000  1\n",
       "2     2010-07-06    3.222000  1\n",
       "3     2010-07-07    3.160000 -1\n",
       "4     2010-07-08    3.492000  1\n",
       "...          ...         ... ..\n",
       "3015  2022-06-23  705.210022 -1\n",
       "3016  2022-06-24  737.119995  1\n",
       "3017  2022-06-27  734.760010  1\n",
       "3018  2022-06-28  697.989990  1\n",
       "3019  2022-06-29  685.469971  2\n",
       "\n",
       "[3020 rows x 3 columns]"
      ]
     },
     "execution_count": 124,
     "metadata": {},
     "output_type": "execute_result"
    }
   ],
   "source": [
    "df2 = pd.DataFrame()\n",
    "b=[]\n",
    "for i in stock_dataset.index:\n",
    "    if i!=3019:\n",
    "        if (stock_dataset['Adj Close'][i+1]>stock_dataset['Adj Close'][i]):\n",
    "            b.append(-1)\n",
    "        elif (stock_dataset['Adj Close'][i+1]<stock_dataset['Adj Close'][i]):\n",
    "            b.append(1)\n",
    "        elif (stock_dataset['Adj Close'][i+1]==stock_dataset['Adj Close'][i]):\n",
    "            b.append(0)\n",
    "    else:\n",
    "        b.append(2)\n",
    "df2=pd.DataFrame(b)\n",
    "df1.join(df2)"
   ]
  },
  {
   "cell_type": "code",
   "execution_count": 122,
   "id": "f5ad5fb8",
   "metadata": {},
   "outputs": [
    {
     "data": {
      "text/html": [
       "<div>\n",
       "<style scoped>\n",
       "    .dataframe tbody tr th:only-of-type {\n",
       "        vertical-align: middle;\n",
       "    }\n",
       "\n",
       "    .dataframe tbody tr th {\n",
       "        vertical-align: top;\n",
       "    }\n",
       "\n",
       "    .dataframe thead th {\n",
       "        text-align: right;\n",
       "    }\n",
       "</style>\n",
       "<table border=\"1\" class=\"dataframe\">\n",
       "  <thead>\n",
       "    <tr style=\"text-align: right;\">\n",
       "      <th></th>\n",
       "      <th>0</th>\n",
       "    </tr>\n",
       "  </thead>\n",
       "  <tbody>\n",
       "    <tr>\n",
       "      <th>0</th>\n",
       "      <td>1</td>\n",
       "    </tr>\n",
       "    <tr>\n",
       "      <th>1</th>\n",
       "      <td>1</td>\n",
       "    </tr>\n",
       "    <tr>\n",
       "      <th>2</th>\n",
       "      <td>1</td>\n",
       "    </tr>\n",
       "    <tr>\n",
       "      <th>3</th>\n",
       "      <td>-1</td>\n",
       "    </tr>\n",
       "    <tr>\n",
       "      <th>4</th>\n",
       "      <td>1</td>\n",
       "    </tr>\n",
       "    <tr>\n",
       "      <th>...</th>\n",
       "      <td>...</td>\n",
       "    </tr>\n",
       "    <tr>\n",
       "      <th>3015</th>\n",
       "      <td>-1</td>\n",
       "    </tr>\n",
       "    <tr>\n",
       "      <th>3016</th>\n",
       "      <td>1</td>\n",
       "    </tr>\n",
       "    <tr>\n",
       "      <th>3017</th>\n",
       "      <td>1</td>\n",
       "    </tr>\n",
       "    <tr>\n",
       "      <th>3018</th>\n",
       "      <td>1</td>\n",
       "    </tr>\n",
       "    <tr>\n",
       "      <th>3019</th>\n",
       "      <td>2</td>\n",
       "    </tr>\n",
       "  </tbody>\n",
       "</table>\n",
       "<p>3020 rows × 1 columns</p>\n",
       "</div>"
      ],
      "text/plain": [
       "      0\n",
       "0     1\n",
       "1     1\n",
       "2     1\n",
       "3    -1\n",
       "4     1\n",
       "...  ..\n",
       "3015 -1\n",
       "3016  1\n",
       "3017  1\n",
       "3018  1\n",
       "3019  2\n",
       "\n",
       "[3020 rows x 1 columns]"
      ]
     },
     "execution_count": 122,
     "metadata": {},
     "output_type": "execute_result"
    }
   ],
   "source": [
    "df2"
   ]
  },
  {
   "cell_type": "code",
   "execution_count": 111,
   "id": "e2faba1d",
   "metadata": {},
   "outputs": [
    {
     "data": {
      "text/plain": [
       "3020"
      ]
     },
     "execution_count": 111,
     "metadata": {},
     "output_type": "execute_result"
    }
   ],
   "source": [
    "len(b)"
   ]
  },
  {
   "cell_type": "code",
   "execution_count": 76,
   "id": "1b3ecc7e",
   "metadata": {},
   "outputs": [
    {
     "data": {
      "text/plain": [
       "685.469971"
      ]
     },
     "execution_count": 76,
     "metadata": {},
     "output_type": "execute_result"
    }
   ],
   "source": [
    "stock_dataset['Adj Close'][i]"
   ]
  },
  {
   "cell_type": "code",
   "execution_count": 69,
   "id": "18ea1144",
   "metadata": {},
   "outputs": [
    {
     "data": {
      "text/plain": [
       "3019"
      ]
     },
     "execution_count": 69,
     "metadata": {},
     "output_type": "execute_result"
    }
   ],
   "source": [
    "len(b)"
   ]
  },
  {
   "cell_type": "code",
   "execution_count": 88,
   "id": "61dda4b9",
   "metadata": {},
   "outputs": [
    {
     "data": {
      "text/plain": [
       "3020"
      ]
     },
     "execution_count": 88,
     "metadata": {},
     "output_type": "execute_result"
    }
   ],
   "source": [
    "len(stock_dataset.index)"
   ]
  },
  {
   "cell_type": "code",
   "execution_count": 74,
   "id": "6f50f3d3",
   "metadata": {},
   "outputs": [
    {
     "data": {
      "text/plain": [
       "3020"
      ]
     },
     "execution_count": 74,
     "metadata": {},
     "output_type": "execute_result"
    }
   ],
   "source": [
    "len(stock_dataset)"
   ]
  },
  {
   "cell_type": "code",
   "execution_count": 104,
   "id": "e539f5bb",
   "metadata": {},
   "outputs": [
    {
     "data": {
      "text/plain": [
       "False"
      ]
     },
     "execution_count": 104,
     "metadata": {},
     "output_type": "execute_result"
    }
   ],
   "source": [
    "[i+1]==3019"
   ]
  },
  {
   "cell_type": "code",
   "execution_count": 109,
   "id": "bc6e5c37",
   "metadata": {},
   "outputs": [
    {
     "data": {
      "text/plain": [
       "3020"
      ]
     },
     "execution_count": 109,
     "metadata": {},
     "output_type": "execute_result"
    }
   ],
   "source": [
    "len(stock_dataset)"
   ]
  },
  {
   "cell_type": "code",
   "execution_count": 80,
   "id": "cc583c09",
   "metadata": {},
   "outputs": [
    {
     "ename": "IndexError",
     "evalue": "index 3020 is out of bounds for axis 0 with size 3020",
     "output_type": "error",
     "traceback": [
      "\u001b[1;31m---------------------------------------------------------------------------\u001b[0m",
      "\u001b[1;31mIndexError\u001b[0m                                Traceback (most recent call last)",
      "\u001b[1;32m~\\anaconda3\\lib\\site-packages\\pandas\\core\\indexes\\range.py\u001b[0m in \u001b[0;36m__getitem__\u001b[1;34m(self, key)\u001b[0m\n\u001b[0;32m    825\u001b[0m             \u001b[1;32mtry\u001b[0m\u001b[1;33m:\u001b[0m\u001b[1;33m\u001b[0m\u001b[1;33m\u001b[0m\u001b[0m\n\u001b[1;32m--> 826\u001b[1;33m                 \u001b[1;32mreturn\u001b[0m \u001b[0mself\u001b[0m\u001b[1;33m.\u001b[0m\u001b[0m_range\u001b[0m\u001b[1;33m[\u001b[0m\u001b[0mnew_key\u001b[0m\u001b[1;33m]\u001b[0m\u001b[1;33m\u001b[0m\u001b[1;33m\u001b[0m\u001b[0m\n\u001b[0m\u001b[0;32m    827\u001b[0m             \u001b[1;32mexcept\u001b[0m \u001b[0mIndexError\u001b[0m \u001b[1;32mas\u001b[0m \u001b[0merr\u001b[0m\u001b[1;33m:\u001b[0m\u001b[1;33m\u001b[0m\u001b[1;33m\u001b[0m\u001b[0m\n",
      "\u001b[1;31mIndexError\u001b[0m: range object index out of range",
      "\nThe above exception was the direct cause of the following exception:\n",
      "\u001b[1;31mIndexError\u001b[0m                                Traceback (most recent call last)",
      "\u001b[1;32m~\\AppData\\Local\\Temp/ipykernel_10056/424843095.py\u001b[0m in \u001b[0;36m<module>\u001b[1;34m\u001b[0m\n\u001b[1;32m----> 1\u001b[1;33m \u001b[0mstock_dataset\u001b[0m\u001b[1;33m.\u001b[0m\u001b[0mindex\u001b[0m\u001b[1;33m[\u001b[0m\u001b[0mi\u001b[0m\u001b[1;33m+\u001b[0m\u001b[1;36m1\u001b[0m\u001b[1;33m]\u001b[0m\u001b[1;33m\u001b[0m\u001b[1;33m\u001b[0m\u001b[0m\n\u001b[0m",
      "\u001b[1;32m~\\anaconda3\\lib\\site-packages\\pandas\\core\\indexes\\range.py\u001b[0m in \u001b[0;36m__getitem__\u001b[1;34m(self, key)\u001b[0m\n\u001b[0;32m    826\u001b[0m                 \u001b[1;32mreturn\u001b[0m \u001b[0mself\u001b[0m\u001b[1;33m.\u001b[0m\u001b[0m_range\u001b[0m\u001b[1;33m[\u001b[0m\u001b[0mnew_key\u001b[0m\u001b[1;33m]\u001b[0m\u001b[1;33m\u001b[0m\u001b[1;33m\u001b[0m\u001b[0m\n\u001b[0;32m    827\u001b[0m             \u001b[1;32mexcept\u001b[0m \u001b[0mIndexError\u001b[0m \u001b[1;32mas\u001b[0m \u001b[0merr\u001b[0m\u001b[1;33m:\u001b[0m\u001b[1;33m\u001b[0m\u001b[1;33m\u001b[0m\u001b[0m\n\u001b[1;32m--> 828\u001b[1;33m                 raise IndexError(\n\u001b[0m\u001b[0;32m    829\u001b[0m                     \u001b[1;34mf\"index {key} is out of bounds for axis 0 with size {len(self)}\"\u001b[0m\u001b[1;33m\u001b[0m\u001b[1;33m\u001b[0m\u001b[0m\n\u001b[0;32m    830\u001b[0m                 ) from err\n",
      "\u001b[1;31mIndexError\u001b[0m: index 3020 is out of bounds for axis 0 with size 3020"
     ]
    }
   ],
   "source": [
    "stock_dataset.index[`i+1]"
   ]
  },
  {
   "cell_type": "code",
   "execution_count": null,
   "id": "2a1f44c9",
   "metadata": {},
   "outputs": [],
   "source": []
  },
  {
   "cell_type": "code",
   "execution_count": null,
   "id": "45100ca9",
   "metadata": {},
   "outputs": [],
   "source": []
  },
  {
   "cell_type": "code",
   "execution_count": null,
   "id": "7ba95c20",
   "metadata": {},
   "outputs": [],
   "source": []
  },
  {
   "cell_type": "code",
   "execution_count": null,
   "id": "ab26355c",
   "metadata": {},
   "outputs": [],
   "source": []
  },
  {
   "cell_type": "code",
   "execution_count": null,
   "id": "705dc289",
   "metadata": {},
   "outputs": [],
   "source": []
  },
  {
   "cell_type": "code",
   "execution_count": null,
   "id": "80ef98f4",
   "metadata": {},
   "outputs": [],
   "source": []
  },
  {
   "cell_type": "code",
   "execution_count": null,
   "id": "7f439ae6",
   "metadata": {},
   "outputs": [],
   "source": []
  },
  {
   "cell_type": "code",
   "execution_count": null,
   "id": "9387ca78",
   "metadata": {},
   "outputs": [],
   "source": []
  },
  {
   "cell_type": "code",
   "execution_count": 9,
   "id": "c39b31cd",
   "metadata": {},
   "outputs": [],
   "source": [
    "temp = df.to_numpy()"
   ]
  },
  {
   "cell_type": "code",
   "execution_count": 10,
   "id": "ad74fcf9",
   "metadata": {},
   "outputs": [
    {
     "name": "stdout",
     "output_type": "stream",
     "text": [
      "[  4.392      3.84       3.222    ... 734.76001  697.98999  685.469971]\n",
      "3020\n",
      "<class 'numpy.ndarray'>\n",
      "3.84\n",
      "<class 'numpy.float64'>\n"
     ]
    }
   ],
   "source": [
    "print(temp)\n",
    "print(len(temp))\n",
    "print(type(temp))\n",
    "print(temp[1])\n",
    "print(type(temp[1]))"
   ]
  },
  {
   "cell_type": "code",
   "execution_count": 16,
   "id": "51a0e7ff",
   "metadata": {},
   "outputs": [
    {
     "name": "stdout",
     "output_type": "stream",
     "text": [
      "-1\n"
     ]
    },
    {
     "ename": "TypeError",
     "evalue": "'numpy.float64' object does not support item assignment",
     "output_type": "error",
     "traceback": [
      "\u001b[1;31m---------------------------------------------------------------------------\u001b[0m",
      "\u001b[1;31mTypeError\u001b[0m                                 Traceback (most recent call last)",
      "\u001b[1;32m~\\AppData\\Local\\Temp/ipykernel_10056/890652843.py\u001b[0m in \u001b[0;36m<module>\u001b[1;34m\u001b[0m\n\u001b[0;32m      8\u001b[0m     \u001b[1;32melif\u001b[0m \u001b[0mb\u001b[0m \u001b[1;33m<\u001b[0m \u001b[0ma\u001b[0m\u001b[1;33m:\u001b[0m\u001b[1;33m\u001b[0m\u001b[1;33m\u001b[0m\u001b[0m\n\u001b[0;32m      9\u001b[0m         \u001b[0mprint\u001b[0m\u001b[1;33m(\u001b[0m\u001b[1;33m-\u001b[0m\u001b[1;36m1\u001b[0m\u001b[1;33m)\u001b[0m\u001b[1;33m\u001b[0m\u001b[1;33m\u001b[0m\u001b[0m\n\u001b[1;32m---> 10\u001b[1;33m         \u001b[0ma\u001b[0m\u001b[1;33m[\u001b[0m\u001b[0mi\u001b[0m\u001b[1;33m]\u001b[0m \u001b[1;33m=\u001b[0m \u001b[1;33m-\u001b[0m\u001b[1;36m1\u001b[0m\u001b[1;33m\u001b[0m\u001b[1;33m\u001b[0m\u001b[0m\n\u001b[0m\u001b[0;32m     11\u001b[0m \u001b[1;33m\u001b[0m\u001b[0m\n",
      "\u001b[1;31mTypeError\u001b[0m: 'numpy.float64' object does not support item assignment"
     ]
    }
   ],
   "source": [
    "#a = list(0 for i in range(0,3020))\n",
    "for i in range(3020):\n",
    "    a = temp[i]\n",
    "    b = temp[i+1]\n",
    "    if b > a:\n",
    "        print(1)\n",
    "        a[i] = 1\n",
    "    elif b < a:\n",
    "        print(-1)\n",
    "        a[i] = -1\n",
    "\n"
   ]
  },
  {
   "cell_type": "code",
   "execution_count": 19,
   "id": "2472c338",
   "metadata": {},
   "outputs": [
    {
     "ename": "TypeError",
     "evalue": "float() argument must be a string or a number, not 'generator'",
     "output_type": "error",
     "traceback": [
      "\u001b[1;31m---------------------------------------------------------------------------\u001b[0m",
      "\u001b[1;31mTypeError\u001b[0m                                 Traceback (most recent call last)",
      "\u001b[1;32m~\\AppData\\Local\\Temp/ipykernel_10056/3084030092.py\u001b[0m in \u001b[0;36m<module>\u001b[1;34m\u001b[0m\n\u001b[1;32m----> 1\u001b[1;33m \u001b[0ma\u001b[0m \u001b[1;33m=\u001b[0m \u001b[0mnp\u001b[0m\u001b[1;33m.\u001b[0m\u001b[0marray\u001b[0m\u001b[1;33m(\u001b[0m\u001b[1;33m(\u001b[0m\u001b[1;36m0\u001b[0m \u001b[1;32mfor\u001b[0m \u001b[0mi\u001b[0m \u001b[1;32min\u001b[0m \u001b[0mrange\u001b[0m\u001b[1;33m(\u001b[0m\u001b[1;36m0\u001b[0m\u001b[1;33m,\u001b[0m\u001b[1;36m3020\u001b[0m\u001b[1;33m)\u001b[0m\u001b[1;33m)\u001b[0m\u001b[1;33m,\u001b[0m\u001b[0mdtype\u001b[0m\u001b[1;33m=\u001b[0m\u001b[0mnp\u001b[0m\u001b[1;33m.\u001b[0m\u001b[0mfloat64\u001b[0m\u001b[1;33m)\u001b[0m\u001b[1;33m\u001b[0m\u001b[1;33m\u001b[0m\u001b[0m\n\u001b[0m",
      "\u001b[1;31mTypeError\u001b[0m: float() argument must be a string or a number, not 'generator'"
     ]
    }
   ],
   "source": [
    "a = np.array((0 for i in range(0,3020)),dtype=np.float64)"
   ]
  },
  {
   "cell_type": "code",
   "execution_count": null,
   "id": "113441a7",
   "metadata": {},
   "outputs": [],
   "source": [
    "a = []\n",
    "for i in temp:\n",
    "    if (temp[i+1]>temp[i]):\n",
    "        print('kkkkk')\n",
    "        #a.append(1)\n",
    "    else:\n",
    "        print('jjjjj')\n",
    "        #a.append(-1)"
   ]
  },
  {
   "cell_type": "code",
   "execution_count": null,
   "id": "581225b8",
   "metadata": {},
   "outputs": [],
   "source": [
    "import numpy as np\n",
    "t = [1,2,1,4,5]\n",
    "\n",
    "\n",
    "for idx, i in enumerate(t):\n",
    "    if(t[idx+1] > i):print(1)\n",
    "    else: print(-1)"
   ]
  },
  {
   "cell_type": "code",
   "execution_count": null,
   "id": "6bd86a50",
   "metadata": {},
   "outputs": [],
   "source": []
  },
  {
   "cell_type": "code",
   "execution_count": null,
   "id": "a5da4e5e",
   "metadata": {},
   "outputs": [],
   "source": [
    "df = pd.DataFrame()\n",
    "emptylist = []\n",
    "counter = 3020\n",
    "for i in range(3020):\n",
    "    if (stock_dataset['Adj Close'][i+1]>stock_dataset['Adj Close'][i]): df.iloc[i]=1\n",
    "    else: df.iloc[i]=-1 \n",
    "    #print('Hammad')\n",
    "    #emptylist.append(-1)\n",
    "    #if \n",
    "        "
   ]
  },
  {
   "cell_type": "code",
   "execution_count": null,
   "id": "878a3326",
   "metadata": {},
   "outputs": [],
   "source": [
    "emptylist"
   ]
  },
  {
   "cell_type": "code",
   "execution_count": null,
   "id": "05ff09ec",
   "metadata": {},
   "outputs": [],
   "source": [
    "stock_dataset.index"
   ]
  },
  {
   "cell_type": "code",
   "execution_count": null,
   "id": "eeec1324",
   "metadata": {},
   "outputs": [],
   "source": [
    "llist = []\n",
    "for i in range(3020):\n",
    "    if (stock_dataset['Adj Close'][i+1]>stock_dataset['Adj Close'][i]): llist.append[i]=1\n",
    "    else: llist.append[i]=1"
   ]
  },
  {
   "cell_type": "code",
   "execution_count": null,
   "id": "3a664841",
   "metadata": {},
   "outputs": [],
   "source": []
  }
 ],
 "metadata": {
  "kernelspec": {
   "display_name": "Python 3 (ipykernel)",
   "language": "python",
   "name": "python3"
  },
  "language_info": {
   "codemirror_mode": {
    "name": "ipython",
    "version": 3
   },
   "file_extension": ".py",
   "mimetype": "text/x-python",
   "name": "python",
   "nbconvert_exporter": "python",
   "pygments_lexer": "ipython3",
   "version": "3.9.7"
  }
 },
 "nbformat": 4,
 "nbformat_minor": 5
}

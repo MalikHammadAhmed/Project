{
 "cells": [
  {
   "cell_type": "code",
   "execution_count": 1,
   "id": "8132629e",
   "metadata": {},
   "outputs": [],
   "source": [
    "import pandas as pd\n",
    "import numpy as np\n",
    "#import glob\n",
    "#import os\n",
    "import matplotlib.pyplot as plt\n",
    "from datetime import datetime, timedelta\n",
    "from wordcloud import WordCloud\n",
    "from sklearn.metrics import accuracy_score, confusion_matrix, f1_score, precision_score, recall_score\n",
    "from sklearn.metrics import plot_confusion_matrix\n",
    "from sklearn.model_selection import cross_val_score"
   ]
  },
  {
   "cell_type": "markdown",
   "id": "a9a9ac24",
   "metadata": {},
   "source": [
    "# Working on Tweets Dataset"
   ]
  },
  {
   "cell_type": "code",
   "execution_count": 2,
   "id": "2e2908a4",
   "metadata": {},
   "outputs": [],
   "source": [
    "#all_tweets = glob.glob(\"/home/hammad/Workdir/FYP/Dataset/Tweets/*.csv\")"
   ]
  },
  {
   "cell_type": "code",
   "execution_count": 3,
   "id": "ca18ab45",
   "metadata": {},
   "outputs": [],
   "source": [
    "#tweets_dataset = pd.concat((pd.read_csv(f) for f in all_tweets))\n",
    "#tweets_dataset= pd.read_csv('/home/hammad/Dropbox/University of Hertfordshire/FYP Project/Dataset/elonmusk_tweets.csv', parse_dates=[\"created_at\"])\n",
    "tweets_dataset= pd.read_csv('C:/Users/malik/Dropbox/University of Hertfordshire/FYP Project/Dataset/elonmusk_tweets.csv', parse_dates=[\"created_at\"])"
   ]
  },
  {
   "cell_type": "code",
   "execution_count": 4,
   "id": "1831515a",
   "metadata": {},
   "outputs": [
    {
     "data": {
      "text/html": [
       "<div>\n",
       "<style scoped>\n",
       "    .dataframe tbody tr th:only-of-type {\n",
       "        vertical-align: middle;\n",
       "    }\n",
       "\n",
       "    .dataframe tbody tr th {\n",
       "        vertical-align: top;\n",
       "    }\n",
       "\n",
       "    .dataframe thead th {\n",
       "        text-align: right;\n",
       "    }\n",
       "</style>\n",
       "<table border=\"1\" class=\"dataframe\">\n",
       "  <thead>\n",
       "    <tr style=\"text-align: right;\">\n",
       "      <th></th>\n",
       "      <th>id</th>\n",
       "      <th>created_at</th>\n",
       "      <th>text</th>\n",
       "    </tr>\n",
       "  </thead>\n",
       "  <tbody>\n",
       "    <tr>\n",
       "      <th>0</th>\n",
       "      <td>849636868052275200</td>\n",
       "      <td>2017-04-05 14:56:29</td>\n",
       "      <td>b'And so the robots spared humanity ... https:...</td>\n",
       "    </tr>\n",
       "    <tr>\n",
       "      <th>1</th>\n",
       "      <td>848988730585096192</td>\n",
       "      <td>2017-04-03 20:01:01</td>\n",
       "      <td>b\"@ForIn2020 @waltmossberg @mims @defcon_5 Exa...</td>\n",
       "    </tr>\n",
       "    <tr>\n",
       "      <th>2</th>\n",
       "      <td>848943072423497728</td>\n",
       "      <td>2017-04-03 16:59:35</td>\n",
       "      <td>b'@waltmossberg @mims @defcon_5 Et tu, Walt?'</td>\n",
       "    </tr>\n",
       "    <tr>\n",
       "      <th>3</th>\n",
       "      <td>848935705057280001</td>\n",
       "      <td>2017-04-03 16:30:19</td>\n",
       "      <td>b'Stormy weather in Shortville ...'</td>\n",
       "    </tr>\n",
       "    <tr>\n",
       "      <th>4</th>\n",
       "      <td>848416049573658624</td>\n",
       "      <td>2017-04-02 06:05:23</td>\n",
       "      <td>b\"@DaveLeeBBC @verge Coal is dying due to nat ...</td>\n",
       "    </tr>\n",
       "  </tbody>\n",
       "</table>\n",
       "</div>"
      ],
      "text/plain": [
       "                   id          created_at  \\\n",
       "0  849636868052275200 2017-04-05 14:56:29   \n",
       "1  848988730585096192 2017-04-03 20:01:01   \n",
       "2  848943072423497728 2017-04-03 16:59:35   \n",
       "3  848935705057280001 2017-04-03 16:30:19   \n",
       "4  848416049573658624 2017-04-02 06:05:23   \n",
       "\n",
       "                                                text  \n",
       "0  b'And so the robots spared humanity ... https:...  \n",
       "1  b\"@ForIn2020 @waltmossberg @mims @defcon_5 Exa...  \n",
       "2      b'@waltmossberg @mims @defcon_5 Et tu, Walt?'  \n",
       "3                b'Stormy weather in Shortville ...'  \n",
       "4  b\"@DaveLeeBBC @verge Coal is dying due to nat ...  "
      ]
     },
     "execution_count": 4,
     "metadata": {},
     "output_type": "execute_result"
    }
   ],
   "source": [
    "tweets_dataset.head()"
   ]
  },
  {
   "cell_type": "code",
   "execution_count": 5,
   "id": "ad0a9ce8",
   "metadata": {},
   "outputs": [],
   "source": [
    "#import dataframe_image as dfi\n",
    "#dfi.export(tweets_dataset.head(), 'dataframe.png')"
   ]
  },
  {
   "cell_type": "code",
   "execution_count": 6,
   "id": "6179e1b2",
   "metadata": {},
   "outputs": [],
   "source": [
    "#pip install dataframe-image"
   ]
  },
  {
   "cell_type": "code",
   "execution_count": 7,
   "id": "5ea9b143",
   "metadata": {},
   "outputs": [
    {
     "name": "stdout",
     "output_type": "stream",
     "text": [
      "<class 'pandas.core.frame.DataFrame'>\n",
      "RangeIndex: 2819 entries, 0 to 2818\n",
      "Data columns (total 3 columns):\n",
      " #   Column      Non-Null Count  Dtype         \n",
      "---  ------      --------------  -----         \n",
      " 0   id          2819 non-null   int64         \n",
      " 1   created_at  2819 non-null   datetime64[ns]\n",
      " 2   text        2819 non-null   object        \n",
      "dtypes: datetime64[ns](1), int64(1), object(1)\n",
      "memory usage: 66.2+ KB\n"
     ]
    }
   ],
   "source": [
    "tweets_dataset.info()"
   ]
  },
  {
   "cell_type": "code",
   "execution_count": 8,
   "id": "53999b23",
   "metadata": {},
   "outputs": [],
   "source": [
    "#tweets_data = tweets_dataset[['date','tweet']]\n",
    "tweets_data = tweets_dataset[['created_at','text']] # drop the id column"
   ]
  },
  {
   "cell_type": "code",
   "execution_count": 9,
   "id": "df774d9a",
   "metadata": {},
   "outputs": [
    {
     "data": {
      "text/html": [
       "<div>\n",
       "<style scoped>\n",
       "    .dataframe tbody tr th:only-of-type {\n",
       "        vertical-align: middle;\n",
       "    }\n",
       "\n",
       "    .dataframe tbody tr th {\n",
       "        vertical-align: top;\n",
       "    }\n",
       "\n",
       "    .dataframe thead th {\n",
       "        text-align: right;\n",
       "    }\n",
       "</style>\n",
       "<table border=\"1\" class=\"dataframe\">\n",
       "  <thead>\n",
       "    <tr style=\"text-align: right;\">\n",
       "      <th></th>\n",
       "      <th>created_at</th>\n",
       "      <th>text</th>\n",
       "    </tr>\n",
       "  </thead>\n",
       "  <tbody>\n",
       "    <tr>\n",
       "      <th>0</th>\n",
       "      <td>2017-04-05 14:56:29</td>\n",
       "      <td>b'And so the robots spared humanity ... https:...</td>\n",
       "    </tr>\n",
       "    <tr>\n",
       "      <th>1</th>\n",
       "      <td>2017-04-03 20:01:01</td>\n",
       "      <td>b\"@ForIn2020 @waltmossberg @mims @defcon_5 Exa...</td>\n",
       "    </tr>\n",
       "    <tr>\n",
       "      <th>2</th>\n",
       "      <td>2017-04-03 16:59:35</td>\n",
       "      <td>b'@waltmossberg @mims @defcon_5 Et tu, Walt?'</td>\n",
       "    </tr>\n",
       "    <tr>\n",
       "      <th>3</th>\n",
       "      <td>2017-04-03 16:30:19</td>\n",
       "      <td>b'Stormy weather in Shortville ...'</td>\n",
       "    </tr>\n",
       "    <tr>\n",
       "      <th>4</th>\n",
       "      <td>2017-04-02 06:05:23</td>\n",
       "      <td>b\"@DaveLeeBBC @verge Coal is dying due to nat ...</td>\n",
       "    </tr>\n",
       "  </tbody>\n",
       "</table>\n",
       "</div>"
      ],
      "text/plain": [
       "           created_at                                               text\n",
       "0 2017-04-05 14:56:29  b'And so the robots spared humanity ... https:...\n",
       "1 2017-04-03 20:01:01  b\"@ForIn2020 @waltmossberg @mims @defcon_5 Exa...\n",
       "2 2017-04-03 16:59:35      b'@waltmossberg @mims @defcon_5 Et tu, Walt?'\n",
       "3 2017-04-03 16:30:19                b'Stormy weather in Shortville ...'\n",
       "4 2017-04-02 06:05:23  b\"@DaveLeeBBC @verge Coal is dying due to nat ..."
      ]
     },
     "execution_count": 9,
     "metadata": {},
     "output_type": "execute_result"
    }
   ],
   "source": [
    "tweets_data.head()"
   ]
  },
  {
   "cell_type": "code",
   "execution_count": 10,
   "id": "1a9e581d",
   "metadata": {},
   "outputs": [],
   "source": [
    "#tweets_data['datetime'] = pd.to_datetime(tweets_data['created_at'])"
   ]
  },
  {
   "cell_type": "code",
   "execution_count": 11,
   "id": "ed8196e9",
   "metadata": {},
   "outputs": [
    {
     "name": "stdout",
     "output_type": "stream",
     "text": [
      "<class 'pandas.core.frame.DataFrame'>\n",
      "RangeIndex: 2819 entries, 0 to 2818\n",
      "Data columns (total 2 columns):\n",
      " #   Column      Non-Null Count  Dtype         \n",
      "---  ------      --------------  -----         \n",
      " 0   created_at  2819 non-null   datetime64[ns]\n",
      " 1   text        2819 non-null   object        \n",
      "dtypes: datetime64[ns](1), object(1)\n",
      "memory usage: 44.2+ KB\n"
     ]
    }
   ],
   "source": [
    "tweets_data.info()"
   ]
  },
  {
   "cell_type": "code",
   "execution_count": 12,
   "id": "83b2934e",
   "metadata": {},
   "outputs": [],
   "source": [
    "df =  tweets_data # copying dataframe into df "
   ]
  },
  {
   "cell_type": "code",
   "execution_count": 13,
   "id": "33579288",
   "metadata": {},
   "outputs": [],
   "source": [
    "df['Index'] = df.index # creating new index column and copying all index values into that column"
   ]
  },
  {
   "cell_type": "code",
   "execution_count": 14,
   "id": "14acdb65",
   "metadata": {},
   "outputs": [],
   "source": [
    "df = tweets_data.set_index('created_at') # setting datetime column as index"
   ]
  },
  {
   "cell_type": "code",
   "execution_count": 15,
   "id": "e0c2e875",
   "metadata": {},
   "outputs": [
    {
     "data": {
      "text/html": [
       "<div>\n",
       "<style scoped>\n",
       "    .dataframe tbody tr th:only-of-type {\n",
       "        vertical-align: middle;\n",
       "    }\n",
       "\n",
       "    .dataframe tbody tr th {\n",
       "        vertical-align: top;\n",
       "    }\n",
       "\n",
       "    .dataframe thead th {\n",
       "        text-align: right;\n",
       "    }\n",
       "</style>\n",
       "<table border=\"1\" class=\"dataframe\">\n",
       "  <thead>\n",
       "    <tr style=\"text-align: right;\">\n",
       "      <th></th>\n",
       "      <th>text</th>\n",
       "      <th>Index</th>\n",
       "    </tr>\n",
       "    <tr>\n",
       "      <th>created_at</th>\n",
       "      <th></th>\n",
       "      <th></th>\n",
       "    </tr>\n",
       "  </thead>\n",
       "  <tbody>\n",
       "    <tr>\n",
       "      <th>2017-04-05 14:56:29</th>\n",
       "      <td>b'And so the robots spared humanity ... https:...</td>\n",
       "      <td>0</td>\n",
       "    </tr>\n",
       "    <tr>\n",
       "      <th>2017-04-03 20:01:01</th>\n",
       "      <td>b\"@ForIn2020 @waltmossberg @mims @defcon_5 Exa...</td>\n",
       "      <td>1</td>\n",
       "    </tr>\n",
       "    <tr>\n",
       "      <th>2017-04-03 16:59:35</th>\n",
       "      <td>b'@waltmossberg @mims @defcon_5 Et tu, Walt?'</td>\n",
       "      <td>2</td>\n",
       "    </tr>\n",
       "    <tr>\n",
       "      <th>2017-04-03 16:30:19</th>\n",
       "      <td>b'Stormy weather in Shortville ...'</td>\n",
       "      <td>3</td>\n",
       "    </tr>\n",
       "    <tr>\n",
       "      <th>2017-04-02 06:05:23</th>\n",
       "      <td>b\"@DaveLeeBBC @verge Coal is dying due to nat ...</td>\n",
       "      <td>4</td>\n",
       "    </tr>\n",
       "    <tr>\n",
       "      <th>...</th>\n",
       "      <td>...</td>\n",
       "      <td>...</td>\n",
       "    </tr>\n",
       "    <tr>\n",
       "      <th>2011-12-03 08:22:07</th>\n",
       "      <td>b'That was a total non sequitur btw'</td>\n",
       "      <td>2814</td>\n",
       "    </tr>\n",
       "    <tr>\n",
       "      <th>2011-12-03 08:20:28</th>\n",
       "      <td>b'Great Voltaire quote, arguably better than T...</td>\n",
       "      <td>2815</td>\n",
       "    </tr>\n",
       "    <tr>\n",
       "      <th>2011-12-01 10:29:04</th>\n",
       "      <td>b'I made the volume on the Model S http://t.co...</td>\n",
       "      <td>2816</td>\n",
       "    </tr>\n",
       "    <tr>\n",
       "      <th>2011-12-01 09:55:11</th>\n",
       "      <td>b\"Went to Iceland on Sat to ride bumper cars o...</td>\n",
       "      <td>2817</td>\n",
       "    </tr>\n",
       "    <tr>\n",
       "      <th>2010-06-04 18:31:57</th>\n",
       "      <td>b'Please ignore prior tweets, as that was some...</td>\n",
       "      <td>2818</td>\n",
       "    </tr>\n",
       "  </tbody>\n",
       "</table>\n",
       "<p>2819 rows × 2 columns</p>\n",
       "</div>"
      ],
      "text/plain": [
       "                                                                  text  Index\n",
       "created_at                                                                   \n",
       "2017-04-05 14:56:29  b'And so the robots spared humanity ... https:...      0\n",
       "2017-04-03 20:01:01  b\"@ForIn2020 @waltmossberg @mims @defcon_5 Exa...      1\n",
       "2017-04-03 16:59:35      b'@waltmossberg @mims @defcon_5 Et tu, Walt?'      2\n",
       "2017-04-03 16:30:19                b'Stormy weather in Shortville ...'      3\n",
       "2017-04-02 06:05:23  b\"@DaveLeeBBC @verge Coal is dying due to nat ...      4\n",
       "...                                                                ...    ...\n",
       "2011-12-03 08:22:07               b'That was a total non sequitur btw'   2814\n",
       "2011-12-03 08:20:28  b'Great Voltaire quote, arguably better than T...   2815\n",
       "2011-12-01 10:29:04  b'I made the volume on the Model S http://t.co...   2816\n",
       "2011-12-01 09:55:11  b\"Went to Iceland on Sat to ride bumper cars o...   2817\n",
       "2010-06-04 18:31:57  b'Please ignore prior tweets, as that was some...   2818\n",
       "\n",
       "[2819 rows x 2 columns]"
      ]
     },
     "execution_count": 15,
     "metadata": {},
     "output_type": "execute_result"
    }
   ],
   "source": [
    "df"
   ]
  },
  {
   "cell_type": "code",
   "execution_count": 16,
   "id": "67c644cc",
   "metadata": {},
   "outputs": [
    {
     "data": {
      "text/html": [
       "<div>\n",
       "<style scoped>\n",
       "    .dataframe tbody tr th:only-of-type {\n",
       "        vertical-align: middle;\n",
       "    }\n",
       "\n",
       "    .dataframe tbody tr th {\n",
       "        vertical-align: top;\n",
       "    }\n",
       "\n",
       "    .dataframe thead th {\n",
       "        text-align: right;\n",
       "    }\n",
       "</style>\n",
       "<table border=\"1\" class=\"dataframe\">\n",
       "  <thead>\n",
       "    <tr style=\"text-align: right;\">\n",
       "      <th></th>\n",
       "      <th>text</th>\n",
       "      <th>Index</th>\n",
       "    </tr>\n",
       "    <tr>\n",
       "      <th>created_at</th>\n",
       "      <th></th>\n",
       "      <th></th>\n",
       "    </tr>\n",
       "  </thead>\n",
       "  <tbody>\n",
       "    <tr>\n",
       "      <th>2017-04-03 20:01:01</th>\n",
       "      <td>b\"@ForIn2020 @waltmossberg @mims @defcon_5 Exa...</td>\n",
       "      <td>1</td>\n",
       "    </tr>\n",
       "    <tr>\n",
       "      <th>2017-04-03 16:59:35</th>\n",
       "      <td>b'@waltmossberg @mims @defcon_5 Et tu, Walt?'</td>\n",
       "      <td>2</td>\n",
       "    </tr>\n",
       "    <tr>\n",
       "      <th>2017-04-03 16:30:19</th>\n",
       "      <td>b'Stormy weather in Shortville ...'</td>\n",
       "      <td>3</td>\n",
       "    </tr>\n",
       "    <tr>\n",
       "      <th>2017-04-01 18:44:01</th>\n",
       "      <td>b\"Why did we waste so much time developing sil...</td>\n",
       "      <td>8</td>\n",
       "    </tr>\n",
       "    <tr>\n",
       "      <th>2017-04-01 18:39:09</th>\n",
       "      <td>b'Technology breakthrough: turns out chemtrail...</td>\n",
       "      <td>9</td>\n",
       "    </tr>\n",
       "    <tr>\n",
       "      <th>...</th>\n",
       "      <td>...</td>\n",
       "      <td>...</td>\n",
       "    </tr>\n",
       "    <tr>\n",
       "      <th>2011-12-27 19:54:15</th>\n",
       "      <td>b'RT @TheOnion: Vending Machine Attendant Admi...</td>\n",
       "      <td>2793</td>\n",
       "    </tr>\n",
       "    <tr>\n",
       "      <th>2011-12-26 16:29:50</th>\n",
       "      <td>b'Walked around a neighborhood recently rebuil...</td>\n",
       "      <td>2794</td>\n",
       "    </tr>\n",
       "    <tr>\n",
       "      <th>2011-12-26 16:23:04</th>\n",
       "      <td>b\"It was Xmas, so we brought presents for the ...</td>\n",
       "      <td>2795</td>\n",
       "    </tr>\n",
       "    <tr>\n",
       "      <th>2011-12-21 23:17:11</th>\n",
       "      <td>b'Yum! Even better than deep fried butter: htt...</td>\n",
       "      <td>2806</td>\n",
       "    </tr>\n",
       "    <tr>\n",
       "      <th>2010-06-04 18:31:57</th>\n",
       "      <td>b'Please ignore prior tweets, as that was some...</td>\n",
       "      <td>2818</td>\n",
       "    </tr>\n",
       "  </tbody>\n",
       "</table>\n",
       "<p>1381 rows × 2 columns</p>\n",
       "</div>"
      ],
      "text/plain": [
       "                                                                  text  Index\n",
       "created_at                                                                   \n",
       "2017-04-03 20:01:01  b\"@ForIn2020 @waltmossberg @mims @defcon_5 Exa...      1\n",
       "2017-04-03 16:59:35      b'@waltmossberg @mims @defcon_5 Et tu, Walt?'      2\n",
       "2017-04-03 16:30:19                b'Stormy weather in Shortville ...'      3\n",
       "2017-04-01 18:44:01  b\"Why did we waste so much time developing sil...      8\n",
       "2017-04-01 18:39:09  b'Technology breakthrough: turns out chemtrail...      9\n",
       "...                                                                ...    ...\n",
       "2011-12-27 19:54:15  b'RT @TheOnion: Vending Machine Attendant Admi...   2793\n",
       "2011-12-26 16:29:50  b'Walked around a neighborhood recently rebuil...   2794\n",
       "2011-12-26 16:23:04  b\"It was Xmas, so we brought presents for the ...   2795\n",
       "2011-12-21 23:17:11  b'Yum! Even better than deep fried butter: htt...   2806\n",
       "2010-06-04 18:31:57  b'Please ignore prior tweets, as that was some...   2818\n",
       "\n",
       "[1381 rows x 2 columns]"
      ]
     },
     "execution_count": 16,
     "metadata": {},
     "output_type": "execute_result"
    }
   ],
   "source": [
    "df1 = df.between_time('16:00', '00:00') # separating all the tweets which are post after 4PM\n",
    "df1"
   ]
  },
  {
   "cell_type": "code",
   "execution_count": 17,
   "id": "5fb80bc2",
   "metadata": {},
   "outputs": [],
   "source": [
    "#df2=tweets_data.between_time('00:01', '09:00')\n",
    "#df2"
   ]
  },
  {
   "cell_type": "code",
   "execution_count": 18,
   "id": "11c31095",
   "metadata": {},
   "outputs": [],
   "source": [
    "#df = pd.concat([df1, df2])"
   ]
  },
  {
   "cell_type": "code",
   "execution_count": 19,
   "id": "23781b52",
   "metadata": {},
   "outputs": [
    {
     "name": "stderr",
     "output_type": "stream",
     "text": [
      "C:\\Users\\malik\\AppData\\Local\\Temp/ipykernel_6736/1839977241.py:2: SettingWithCopyWarning: \n",
      "A value is trying to be set on a copy of a slice from a DataFrame.\n",
      "Try using .loc[row_indexer,col_indexer] = value instead\n",
      "\n",
      "See the caveats in the documentation: https://pandas.pydata.org/pandas-docs/stable/user_guide/indexing.html#returning-a-view-versus-a-copy\n",
      "  df1['created_at']=df1.index # copying all the index values in to new column named created_at\n"
     ]
    }
   ],
   "source": [
    "#df['created_at']=df.index # copying all the index values in to new column named created_at\n",
    "df1['created_at']=df1.index # copying all the index values in to new column named created_at\n",
    "#df=df.set_index('Index') # Setting Index column as index\n",
    "df1=df1.set_index('Index') # Setting Index column as index"
   ]
  },
  {
   "cell_type": "code",
   "execution_count": 20,
   "id": "4357b41e",
   "metadata": {},
   "outputs": [],
   "source": [
    "#df = df[['created_at', 'text']] # changing the column position\n",
    "#df"
   ]
  },
  {
   "cell_type": "code",
   "execution_count": 21,
   "id": "227f3d4a",
   "metadata": {},
   "outputs": [
    {
     "data": {
      "text/html": [
       "<div>\n",
       "<style scoped>\n",
       "    .dataframe tbody tr th:only-of-type {\n",
       "        vertical-align: middle;\n",
       "    }\n",
       "\n",
       "    .dataframe tbody tr th {\n",
       "        vertical-align: top;\n",
       "    }\n",
       "\n",
       "    .dataframe thead th {\n",
       "        text-align: right;\n",
       "    }\n",
       "</style>\n",
       "<table border=\"1\" class=\"dataframe\">\n",
       "  <thead>\n",
       "    <tr style=\"text-align: right;\">\n",
       "      <th></th>\n",
       "      <th>created_at</th>\n",
       "      <th>text</th>\n",
       "    </tr>\n",
       "    <tr>\n",
       "      <th>Index</th>\n",
       "      <th></th>\n",
       "      <th></th>\n",
       "    </tr>\n",
       "  </thead>\n",
       "  <tbody>\n",
       "    <tr>\n",
       "      <th>1</th>\n",
       "      <td>2017-04-03 20:01:01</td>\n",
       "      <td>b\"@ForIn2020 @waltmossberg @mims @defcon_5 Exa...</td>\n",
       "    </tr>\n",
       "    <tr>\n",
       "      <th>2</th>\n",
       "      <td>2017-04-03 16:59:35</td>\n",
       "      <td>b'@waltmossberg @mims @defcon_5 Et tu, Walt?'</td>\n",
       "    </tr>\n",
       "    <tr>\n",
       "      <th>3</th>\n",
       "      <td>2017-04-03 16:30:19</td>\n",
       "      <td>b'Stormy weather in Shortville ...'</td>\n",
       "    </tr>\n",
       "    <tr>\n",
       "      <th>8</th>\n",
       "      <td>2017-04-01 18:44:01</td>\n",
       "      <td>b\"Why did we waste so much time developing sil...</td>\n",
       "    </tr>\n",
       "    <tr>\n",
       "      <th>9</th>\n",
       "      <td>2017-04-01 18:39:09</td>\n",
       "      <td>b'Technology breakthrough: turns out chemtrail...</td>\n",
       "    </tr>\n",
       "    <tr>\n",
       "      <th>...</th>\n",
       "      <td>...</td>\n",
       "      <td>...</td>\n",
       "    </tr>\n",
       "    <tr>\n",
       "      <th>2793</th>\n",
       "      <td>2011-12-27 19:54:15</td>\n",
       "      <td>b'RT @TheOnion: Vending Machine Attendant Admi...</td>\n",
       "    </tr>\n",
       "    <tr>\n",
       "      <th>2794</th>\n",
       "      <td>2011-12-26 16:29:50</td>\n",
       "      <td>b'Walked around a neighborhood recently rebuil...</td>\n",
       "    </tr>\n",
       "    <tr>\n",
       "      <th>2795</th>\n",
       "      <td>2011-12-26 16:23:04</td>\n",
       "      <td>b\"It was Xmas, so we brought presents for the ...</td>\n",
       "    </tr>\n",
       "    <tr>\n",
       "      <th>2806</th>\n",
       "      <td>2011-12-21 23:17:11</td>\n",
       "      <td>b'Yum! Even better than deep fried butter: htt...</td>\n",
       "    </tr>\n",
       "    <tr>\n",
       "      <th>2818</th>\n",
       "      <td>2010-06-04 18:31:57</td>\n",
       "      <td>b'Please ignore prior tweets, as that was some...</td>\n",
       "    </tr>\n",
       "  </tbody>\n",
       "</table>\n",
       "<p>1381 rows × 2 columns</p>\n",
       "</div>"
      ],
      "text/plain": [
       "               created_at                                               text\n",
       "Index                                                                       \n",
       "1     2017-04-03 20:01:01  b\"@ForIn2020 @waltmossberg @mims @defcon_5 Exa...\n",
       "2     2017-04-03 16:59:35      b'@waltmossberg @mims @defcon_5 Et tu, Walt?'\n",
       "3     2017-04-03 16:30:19                b'Stormy weather in Shortville ...'\n",
       "8     2017-04-01 18:44:01  b\"Why did we waste so much time developing sil...\n",
       "9     2017-04-01 18:39:09  b'Technology breakthrough: turns out chemtrail...\n",
       "...                   ...                                                ...\n",
       "2793  2011-12-27 19:54:15  b'RT @TheOnion: Vending Machine Attendant Admi...\n",
       "2794  2011-12-26 16:29:50  b'Walked around a neighborhood recently rebuil...\n",
       "2795  2011-12-26 16:23:04  b\"It was Xmas, so we brought presents for the ...\n",
       "2806  2011-12-21 23:17:11  b'Yum! Even better than deep fried butter: htt...\n",
       "2818  2010-06-04 18:31:57  b'Please ignore prior tweets, as that was some...\n",
       "\n",
       "[1381 rows x 2 columns]"
      ]
     },
     "execution_count": 21,
     "metadata": {},
     "output_type": "execute_result"
    }
   ],
   "source": [
    "df1 = df1[['created_at', 'text']] # changing the column position\n",
    "df1"
   ]
  },
  {
   "cell_type": "code",
   "execution_count": 22,
   "id": "2f5af8c7",
   "metadata": {},
   "outputs": [],
   "source": [
    "df2 = df1['created_at'] + timedelta(days=1) - timedelta(hours=9) # changing date to next day and shifting hours back to 4PM"
   ]
  },
  {
   "cell_type": "code",
   "execution_count": 23,
   "id": "1144fbaf",
   "metadata": {},
   "outputs": [
    {
     "data": {
      "text/plain": [
       "Index\n",
       "1      2017-04-04 11:01:01\n",
       "2      2017-04-04 07:59:35\n",
       "3      2017-04-04 07:30:19\n",
       "8      2017-04-02 09:44:01\n",
       "9      2017-04-02 09:39:09\n",
       "               ...        \n",
       "2793   2011-12-28 10:54:15\n",
       "2794   2011-12-27 07:29:50\n",
       "2795   2011-12-27 07:23:04\n",
       "2806   2011-12-22 14:17:11\n",
       "2818   2010-06-05 09:31:57\n",
       "Name: created_at, Length: 1381, dtype: datetime64[ns]"
      ]
     },
     "execution_count": 23,
     "metadata": {},
     "output_type": "execute_result"
    }
   ],
   "source": [
    "df2"
   ]
  },
  {
   "cell_type": "code",
   "execution_count": 24,
   "id": "c876ffb6",
   "metadata": {},
   "outputs": [],
   "source": [
    "tweets_data.update(df2) #update the df2 values into original dataset"
   ]
  },
  {
   "cell_type": "code",
   "execution_count": 25,
   "id": "0f1c7861",
   "metadata": {},
   "outputs": [
    {
     "data": {
      "text/plain": [
       "(Timestamp('2010-06-05 09:31:57'), Timestamp('2017-04-05 14:56:29'))"
      ]
     },
     "execution_count": 25,
     "metadata": {},
     "output_type": "execute_result"
    }
   ],
   "source": [
    "tweets_data[\"created_at\"].min() , tweets_data[\"created_at\"].max()"
   ]
  },
  {
   "cell_type": "code",
   "execution_count": 26,
   "id": "6a3c7a77",
   "metadata": {},
   "outputs": [],
   "source": [
    "#tweets_data[\"created_at\"].max()-tweets_data[\"created_at\"].min()"
   ]
  },
  {
   "cell_type": "code",
   "execution_count": 27,
   "id": "3de23459",
   "metadata": {},
   "outputs": [],
   "source": [
    "#days = tweets_data['created_at'].dt.day_name()"
   ]
  },
  {
   "cell_type": "code",
   "execution_count": 28,
   "id": "cc7bd723",
   "metadata": {},
   "outputs": [],
   "source": [
    "#days_index = tweets_data['created_at'].dt.dayofweek\n",
    "#tweets_data['days_name'] = days\n",
    "#tweets_data['dayofWeek_index'] = days_index\n",
    "#"
   ]
  },
  {
   "cell_type": "code",
   "execution_count": 29,
   "id": "23cdeaf8",
   "metadata": {},
   "outputs": [],
   "source": [
    "#tweets_data.head()"
   ]
  },
  {
   "cell_type": "code",
   "execution_count": 30,
   "id": "51285b86",
   "metadata": {},
   "outputs": [],
   "source": [
    "#Sunday = tweets_data['created_at'].dt.dayofweek == 2\n",
    "\n",
    "\n",
    "\n",
    "\n",
    "\n",
    "#result = tweets_data['created_at'].dt.dayofweek\n",
    "#df10 =tweets_data[tweets_data.dt.dayofweek == 6] \n",
    "#tweets_data[tweets_data.index.dayofweek == 6]\n",
    "#df10"
   ]
  },
  {
   "cell_type": "code",
   "execution_count": 31,
   "id": "123756e0",
   "metadata": {},
   "outputs": [],
   "source": [
    "saturday = pd.DataFrame() # created empty dataframe\n",
    "sunday = pd.DataFrame() # created empty dataframe\n",
    "saturday = tweets_data.loc[(tweets_data['created_at'].dt.dayofweek==5)] # separated all the saturday tweets\n",
    "sunday = tweets_data.loc[(tweets_data['created_at'].dt.dayofweek==6)] # separated all the sunday tweets\n",
    "#temp_df = tweets_data['created_at']"
   ]
  },
  {
   "cell_type": "code",
   "execution_count": 32,
   "id": "73eaaf9d",
   "metadata": {},
   "outputs": [
    {
     "data": {
      "text/html": [
       "<div>\n",
       "<style scoped>\n",
       "    .dataframe tbody tr th:only-of-type {\n",
       "        vertical-align: middle;\n",
       "    }\n",
       "\n",
       "    .dataframe tbody tr th {\n",
       "        vertical-align: top;\n",
       "    }\n",
       "\n",
       "    .dataframe thead th {\n",
       "        text-align: right;\n",
       "    }\n",
       "</style>\n",
       "<table border=\"1\" class=\"dataframe\">\n",
       "  <thead>\n",
       "    <tr style=\"text-align: right;\">\n",
       "      <th></th>\n",
       "      <th>created_at</th>\n",
       "      <th>text</th>\n",
       "      <th>Index</th>\n",
       "    </tr>\n",
       "  </thead>\n",
       "  <tbody>\n",
       "    <tr>\n",
       "      <th>12</th>\n",
       "      <td>2017-04-01 04:55:23</td>\n",
       "      <td>b'@adamsbj Def P100D with Ludicrous+, although...</td>\n",
       "      <td>12</td>\n",
       "    </tr>\n",
       "    <tr>\n",
       "      <th>13</th>\n",
       "      <td>2017-04-01 14:47:32</td>\n",
       "      <td>b'@BadAstronomer We can def bring it back like...</td>\n",
       "      <td>13</td>\n",
       "    </tr>\n",
       "    <tr>\n",
       "      <th>14</th>\n",
       "      <td>2017-04-01 10:18:42</td>\n",
       "      <td>b'@tesla_addict @TeslaMotors Working on it'</td>\n",
       "      <td>14</td>\n",
       "    </tr>\n",
       "    <tr>\n",
       "      <th>15</th>\n",
       "      <td>2017-04-01 09:54:18</td>\n",
       "      <td>b\"@jasonlamb Looks like it could do 20% more w...</td>\n",
       "      <td>15</td>\n",
       "    </tr>\n",
       "    <tr>\n",
       "      <th>16</th>\n",
       "      <td>2017-04-01 09:52:51</td>\n",
       "      <td>b'@cheron A lot'</td>\n",
       "      <td>16</td>\n",
       "    </tr>\n",
       "    <tr>\n",
       "      <th>...</th>\n",
       "      <td>...</td>\n",
       "      <td>...</td>\n",
       "      <td>...</td>\n",
       "    </tr>\n",
       "    <tr>\n",
       "      <th>2801</th>\n",
       "      <td>2011-12-24 01:33:35</td>\n",
       "      <td>b'We had a long and interesting conversation o...</td>\n",
       "      <td>2801</td>\n",
       "    </tr>\n",
       "    <tr>\n",
       "      <th>2802</th>\n",
       "      <td>2011-12-24 01:29:19</td>\n",
       "      <td>b'Kanye stopped by the SpaceX rocket factory t...</td>\n",
       "      <td>2802</td>\n",
       "    </tr>\n",
       "    <tr>\n",
       "      <th>2814</th>\n",
       "      <td>2011-12-03 08:22:07</td>\n",
       "      <td>b'That was a total non sequitur btw'</td>\n",
       "      <td>2814</td>\n",
       "    </tr>\n",
       "    <tr>\n",
       "      <th>2815</th>\n",
       "      <td>2011-12-03 08:20:28</td>\n",
       "      <td>b'Great Voltaire quote, arguably better than T...</td>\n",
       "      <td>2815</td>\n",
       "    </tr>\n",
       "    <tr>\n",
       "      <th>2818</th>\n",
       "      <td>2010-06-05 09:31:57</td>\n",
       "      <td>b'Please ignore prior tweets, as that was some...</td>\n",
       "      <td>2818</td>\n",
       "    </tr>\n",
       "  </tbody>\n",
       "</table>\n",
       "<p>492 rows × 3 columns</p>\n",
       "</div>"
      ],
      "text/plain": [
       "              created_at                                               text  \\\n",
       "12   2017-04-01 04:55:23  b'@adamsbj Def P100D with Ludicrous+, although...   \n",
       "13   2017-04-01 14:47:32  b'@BadAstronomer We can def bring it back like...   \n",
       "14   2017-04-01 10:18:42        b'@tesla_addict @TeslaMotors Working on it'   \n",
       "15   2017-04-01 09:54:18  b\"@jasonlamb Looks like it could do 20% more w...   \n",
       "16   2017-04-01 09:52:51                                   b'@cheron A lot'   \n",
       "...                  ...                                                ...   \n",
       "2801 2011-12-24 01:33:35  b'We had a long and interesting conversation o...   \n",
       "2802 2011-12-24 01:29:19  b'Kanye stopped by the SpaceX rocket factory t...   \n",
       "2814 2011-12-03 08:22:07               b'That was a total non sequitur btw'   \n",
       "2815 2011-12-03 08:20:28  b'Great Voltaire quote, arguably better than T...   \n",
       "2818 2010-06-05 09:31:57  b'Please ignore prior tweets, as that was some...   \n",
       "\n",
       "      Index  \n",
       "12       12  \n",
       "13       13  \n",
       "14       14  \n",
       "15       15  \n",
       "16       16  \n",
       "...     ...  \n",
       "2801   2801  \n",
       "2802   2802  \n",
       "2814   2814  \n",
       "2815   2815  \n",
       "2818   2818  \n",
       "\n",
       "[492 rows x 3 columns]"
      ]
     },
     "execution_count": 32,
     "metadata": {},
     "output_type": "execute_result"
    }
   ],
   "source": [
    "saturday"
   ]
  },
  {
   "cell_type": "code",
   "execution_count": 33,
   "id": "6a1d877c",
   "metadata": {},
   "outputs": [],
   "source": [
    "#saturday=tweets_data[tweets_data.days_name=='Saturday']\n",
    "#sunday=tweets_data[tweets_data.days_name=='Sunday']\n"
   ]
  },
  {
   "cell_type": "code",
   "execution_count": 34,
   "id": "bf4ca02c",
   "metadata": {},
   "outputs": [
    {
     "data": {
      "text/html": [
       "<div>\n",
       "<style scoped>\n",
       "    .dataframe tbody tr th:only-of-type {\n",
       "        vertical-align: middle;\n",
       "    }\n",
       "\n",
       "    .dataframe tbody tr th {\n",
       "        vertical-align: top;\n",
       "    }\n",
       "\n",
       "    .dataframe thead th {\n",
       "        text-align: right;\n",
       "    }\n",
       "</style>\n",
       "<table border=\"1\" class=\"dataframe\">\n",
       "  <thead>\n",
       "    <tr style=\"text-align: right;\">\n",
       "      <th></th>\n",
       "      <th>created_at</th>\n",
       "      <th>text</th>\n",
       "      <th>Index</th>\n",
       "    </tr>\n",
       "  </thead>\n",
       "  <tbody>\n",
       "    <tr>\n",
       "      <th>4</th>\n",
       "      <td>2017-04-02 06:05:23</td>\n",
       "      <td>b\"@DaveLeeBBC @verge Coal is dying due to nat ...</td>\n",
       "      <td>4</td>\n",
       "    </tr>\n",
       "    <tr>\n",
       "      <th>5</th>\n",
       "      <td>2017-04-02 06:04:07</td>\n",
       "      <td>b\"@Lexxxzis It's just a helicopter in helicopt...</td>\n",
       "      <td>5</td>\n",
       "    </tr>\n",
       "    <tr>\n",
       "      <th>6</th>\n",
       "      <td>2017-04-02 06:02:38</td>\n",
       "      <td>b\"@verge It won't matter\"</td>\n",
       "      <td>6</td>\n",
       "    </tr>\n",
       "    <tr>\n",
       "      <th>7</th>\n",
       "      <td>2017-04-02 04:57:31</td>\n",
       "      <td>b'@SuperCoolCube Pretty good'</td>\n",
       "      <td>7</td>\n",
       "    </tr>\n",
       "    <tr>\n",
       "      <th>8</th>\n",
       "      <td>2017-04-02 09:44:01</td>\n",
       "      <td>b\"Why did we waste so much time developing sil...</td>\n",
       "      <td>8</td>\n",
       "    </tr>\n",
       "    <tr>\n",
       "      <th>...</th>\n",
       "      <td>...</td>\n",
       "      <td>...</td>\n",
       "      <td>...</td>\n",
       "    </tr>\n",
       "    <tr>\n",
       "      <th>2754</th>\n",
       "      <td>2012-01-15 11:29:34</td>\n",
       "      <td>b'Somebody needs to tell Kim Jong-un that the ...</td>\n",
       "      <td>2754</td>\n",
       "    </tr>\n",
       "    <tr>\n",
       "      <th>2755</th>\n",
       "      <td>2012-01-15 11:27:41</td>\n",
       "      <td>b'Once more, with feeling!  \"North Korea Punis...</td>\n",
       "      <td>2755</td>\n",
       "    </tr>\n",
       "    <tr>\n",
       "      <th>2774</th>\n",
       "      <td>2012-01-01 13:08:42</td>\n",
       "      <td>b\"World violence being super low is probably c...</td>\n",
       "      <td>2774</td>\n",
       "    </tr>\n",
       "    <tr>\n",
       "      <th>2775</th>\n",
       "      <td>2012-01-01 13:05:47</td>\n",
       "      <td>b\"Here's a happy thought for 2012: world viole...</td>\n",
       "      <td>2775</td>\n",
       "    </tr>\n",
       "    <tr>\n",
       "      <th>2813</th>\n",
       "      <td>2011-12-04 03:33:52</td>\n",
       "      <td>b'Am reading a great biography of Ben Franklin...</td>\n",
       "      <td>2813</td>\n",
       "    </tr>\n",
       "  </tbody>\n",
       "</table>\n",
       "<p>336 rows × 3 columns</p>\n",
       "</div>"
      ],
      "text/plain": [
       "              created_at                                               text  \\\n",
       "4    2017-04-02 06:05:23  b\"@DaveLeeBBC @verge Coal is dying due to nat ...   \n",
       "5    2017-04-02 06:04:07  b\"@Lexxxzis It's just a helicopter in helicopt...   \n",
       "6    2017-04-02 06:02:38                          b\"@verge It won't matter\"   \n",
       "7    2017-04-02 04:57:31                      b'@SuperCoolCube Pretty good'   \n",
       "8    2017-04-02 09:44:01  b\"Why did we waste so much time developing sil...   \n",
       "...                  ...                                                ...   \n",
       "2754 2012-01-15 11:29:34  b'Somebody needs to tell Kim Jong-un that the ...   \n",
       "2755 2012-01-15 11:27:41  b'Once more, with feeling!  \"North Korea Punis...   \n",
       "2774 2012-01-01 13:08:42  b\"World violence being super low is probably c...   \n",
       "2775 2012-01-01 13:05:47  b\"Here's a happy thought for 2012: world viole...   \n",
       "2813 2011-12-04 03:33:52  b'Am reading a great biography of Ben Franklin...   \n",
       "\n",
       "      Index  \n",
       "4         4  \n",
       "5         5  \n",
       "6         6  \n",
       "7         7  \n",
       "8         8  \n",
       "...     ...  \n",
       "2754   2754  \n",
       "2755   2755  \n",
       "2774   2774  \n",
       "2775   2775  \n",
       "2813   2813  \n",
       "\n",
       "[336 rows x 3 columns]"
      ]
     },
     "execution_count": 34,
     "metadata": {},
     "output_type": "execute_result"
    }
   ],
   "source": [
    "sunday"
   ]
  },
  {
   "cell_type": "code",
   "execution_count": 35,
   "id": "76c16b2d",
   "metadata": {},
   "outputs": [],
   "source": [
    "#sunday = sunday.drop(['days_name', 'dayofWeek_index'], axis=1)\n",
    "#saturday = saturday.drop(['days_name', 'dayofWeek_index'], axis=1)"
   ]
  },
  {
   "cell_type": "code",
   "execution_count": 36,
   "id": "c2fba271",
   "metadata": {},
   "outputs": [],
   "source": [
    "\n",
    "#from dateutil.parser import parse\n",
    "\n"
   ]
  },
  {
   "cell_type": "code",
   "execution_count": 37,
   "id": "6ef97d45",
   "metadata": {},
   "outputs": [],
   "source": [
    "newsundaydates = sunday['created_at'] + timedelta(days=1) # change the sunday date to monday\n",
    "newsaturdaydates = saturday['created_at'] + timedelta(days=2) # change the saturday date to monday"
   ]
  },
  {
   "cell_type": "code",
   "execution_count": 38,
   "id": "2ead0101",
   "metadata": {},
   "outputs": [
    {
     "name": "stderr",
     "output_type": "stream",
     "text": [
      "C:\\Users\\malik\\AppData\\Local\\Temp/ipykernel_6736/3256950631.py:1: SettingWithCopyWarning: \n",
      "A value is trying to be set on a copy of a slice from a DataFrame.\n",
      "Try using .loc[row_indexer,col_indexer] = value instead\n",
      "\n",
      "See the caveats in the documentation: https://pandas.pydata.org/pandas-docs/stable/user_guide/indexing.html#returning-a-view-versus-a-copy\n",
      "  sunday['created_at'] = newsundaydates.values # updated the sunday new dates to dataframe\n",
      "C:\\Users\\malik\\AppData\\Local\\Temp/ipykernel_6736/3256950631.py:2: SettingWithCopyWarning: \n",
      "A value is trying to be set on a copy of a slice from a DataFrame.\n",
      "Try using .loc[row_indexer,col_indexer] = value instead\n",
      "\n",
      "See the caveats in the documentation: https://pandas.pydata.org/pandas-docs/stable/user_guide/indexing.html#returning-a-view-versus-a-copy\n",
      "  saturday['created_at'] = newsaturdaydates.values # updated the saturday dates to dataframe\n"
     ]
    }
   ],
   "source": [
    "sunday['created_at'] = newsundaydates.values # updated the sunday new dates to dataframe \n",
    "saturday['created_at'] = newsaturdaydates.values # updated the saturday dates to dataframe"
   ]
  },
  {
   "cell_type": "code",
   "execution_count": 39,
   "id": "d72843fe",
   "metadata": {},
   "outputs": [
    {
     "data": {
      "text/html": [
       "<div>\n",
       "<style scoped>\n",
       "    .dataframe tbody tr th:only-of-type {\n",
       "        vertical-align: middle;\n",
       "    }\n",
       "\n",
       "    .dataframe tbody tr th {\n",
       "        vertical-align: top;\n",
       "    }\n",
       "\n",
       "    .dataframe thead th {\n",
       "        text-align: right;\n",
       "    }\n",
       "</style>\n",
       "<table border=\"1\" class=\"dataframe\">\n",
       "  <thead>\n",
       "    <tr style=\"text-align: right;\">\n",
       "      <th></th>\n",
       "      <th>created_at</th>\n",
       "      <th>text</th>\n",
       "      <th>Index</th>\n",
       "    </tr>\n",
       "  </thead>\n",
       "  <tbody>\n",
       "    <tr>\n",
       "      <th>12</th>\n",
       "      <td>2017-04-03 04:55:23</td>\n",
       "      <td>b'@adamsbj Def P100D with Ludicrous+, although...</td>\n",
       "      <td>12</td>\n",
       "    </tr>\n",
       "    <tr>\n",
       "      <th>13</th>\n",
       "      <td>2017-04-03 14:47:32</td>\n",
       "      <td>b'@BadAstronomer We can def bring it back like...</td>\n",
       "      <td>13</td>\n",
       "    </tr>\n",
       "    <tr>\n",
       "      <th>14</th>\n",
       "      <td>2017-04-03 10:18:42</td>\n",
       "      <td>b'@tesla_addict @TeslaMotors Working on it'</td>\n",
       "      <td>14</td>\n",
       "    </tr>\n",
       "    <tr>\n",
       "      <th>15</th>\n",
       "      <td>2017-04-03 09:54:18</td>\n",
       "      <td>b\"@jasonlamb Looks like it could do 20% more w...</td>\n",
       "      <td>15</td>\n",
       "    </tr>\n",
       "    <tr>\n",
       "      <th>16</th>\n",
       "      <td>2017-04-03 09:52:51</td>\n",
       "      <td>b'@cheron A lot'</td>\n",
       "      <td>16</td>\n",
       "    </tr>\n",
       "    <tr>\n",
       "      <th>...</th>\n",
       "      <td>...</td>\n",
       "      <td>...</td>\n",
       "      <td>...</td>\n",
       "    </tr>\n",
       "    <tr>\n",
       "      <th>2801</th>\n",
       "      <td>2011-12-26 01:33:35</td>\n",
       "      <td>b'We had a long and interesting conversation o...</td>\n",
       "      <td>2801</td>\n",
       "    </tr>\n",
       "    <tr>\n",
       "      <th>2802</th>\n",
       "      <td>2011-12-26 01:29:19</td>\n",
       "      <td>b'Kanye stopped by the SpaceX rocket factory t...</td>\n",
       "      <td>2802</td>\n",
       "    </tr>\n",
       "    <tr>\n",
       "      <th>2814</th>\n",
       "      <td>2011-12-05 08:22:07</td>\n",
       "      <td>b'That was a total non sequitur btw'</td>\n",
       "      <td>2814</td>\n",
       "    </tr>\n",
       "    <tr>\n",
       "      <th>2815</th>\n",
       "      <td>2011-12-05 08:20:28</td>\n",
       "      <td>b'Great Voltaire quote, arguably better than T...</td>\n",
       "      <td>2815</td>\n",
       "    </tr>\n",
       "    <tr>\n",
       "      <th>2818</th>\n",
       "      <td>2010-06-07 09:31:57</td>\n",
       "      <td>b'Please ignore prior tweets, as that was some...</td>\n",
       "      <td>2818</td>\n",
       "    </tr>\n",
       "  </tbody>\n",
       "</table>\n",
       "<p>492 rows × 3 columns</p>\n",
       "</div>"
      ],
      "text/plain": [
       "              created_at                                               text  \\\n",
       "12   2017-04-03 04:55:23  b'@adamsbj Def P100D with Ludicrous+, although...   \n",
       "13   2017-04-03 14:47:32  b'@BadAstronomer We can def bring it back like...   \n",
       "14   2017-04-03 10:18:42        b'@tesla_addict @TeslaMotors Working on it'   \n",
       "15   2017-04-03 09:54:18  b\"@jasonlamb Looks like it could do 20% more w...   \n",
       "16   2017-04-03 09:52:51                                   b'@cheron A lot'   \n",
       "...                  ...                                                ...   \n",
       "2801 2011-12-26 01:33:35  b'We had a long and interesting conversation o...   \n",
       "2802 2011-12-26 01:29:19  b'Kanye stopped by the SpaceX rocket factory t...   \n",
       "2814 2011-12-05 08:22:07               b'That was a total non sequitur btw'   \n",
       "2815 2011-12-05 08:20:28  b'Great Voltaire quote, arguably better than T...   \n",
       "2818 2010-06-07 09:31:57  b'Please ignore prior tweets, as that was some...   \n",
       "\n",
       "      Index  \n",
       "12       12  \n",
       "13       13  \n",
       "14       14  \n",
       "15       15  \n",
       "16       16  \n",
       "...     ...  \n",
       "2801   2801  \n",
       "2802   2802  \n",
       "2814   2814  \n",
       "2815   2815  \n",
       "2818   2818  \n",
       "\n",
       "[492 rows x 3 columns]"
      ]
     },
     "execution_count": 39,
     "metadata": {},
     "output_type": "execute_result"
    }
   ],
   "source": [
    "saturday"
   ]
  },
  {
   "cell_type": "code",
   "execution_count": 40,
   "id": "6334877b",
   "metadata": {},
   "outputs": [
    {
     "data": {
      "text/html": [
       "<div>\n",
       "<style scoped>\n",
       "    .dataframe tbody tr th:only-of-type {\n",
       "        vertical-align: middle;\n",
       "    }\n",
       "\n",
       "    .dataframe tbody tr th {\n",
       "        vertical-align: top;\n",
       "    }\n",
       "\n",
       "    .dataframe thead th {\n",
       "        text-align: right;\n",
       "    }\n",
       "</style>\n",
       "<table border=\"1\" class=\"dataframe\">\n",
       "  <thead>\n",
       "    <tr style=\"text-align: right;\">\n",
       "      <th></th>\n",
       "      <th>created_at</th>\n",
       "      <th>text</th>\n",
       "      <th>Index</th>\n",
       "    </tr>\n",
       "  </thead>\n",
       "  <tbody>\n",
       "    <tr>\n",
       "      <th>4</th>\n",
       "      <td>2017-04-03 06:05:23</td>\n",
       "      <td>b\"@DaveLeeBBC @verge Coal is dying due to nat ...</td>\n",
       "      <td>4</td>\n",
       "    </tr>\n",
       "    <tr>\n",
       "      <th>5</th>\n",
       "      <td>2017-04-03 06:04:07</td>\n",
       "      <td>b\"@Lexxxzis It's just a helicopter in helicopt...</td>\n",
       "      <td>5</td>\n",
       "    </tr>\n",
       "    <tr>\n",
       "      <th>6</th>\n",
       "      <td>2017-04-03 06:02:38</td>\n",
       "      <td>b\"@verge It won't matter\"</td>\n",
       "      <td>6</td>\n",
       "    </tr>\n",
       "    <tr>\n",
       "      <th>7</th>\n",
       "      <td>2017-04-03 04:57:31</td>\n",
       "      <td>b'@SuperCoolCube Pretty good'</td>\n",
       "      <td>7</td>\n",
       "    </tr>\n",
       "    <tr>\n",
       "      <th>8</th>\n",
       "      <td>2017-04-03 09:44:01</td>\n",
       "      <td>b\"Why did we waste so much time developing sil...</td>\n",
       "      <td>8</td>\n",
       "    </tr>\n",
       "    <tr>\n",
       "      <th>...</th>\n",
       "      <td>...</td>\n",
       "      <td>...</td>\n",
       "      <td>...</td>\n",
       "    </tr>\n",
       "    <tr>\n",
       "      <th>2754</th>\n",
       "      <td>2012-01-16 11:29:34</td>\n",
       "      <td>b'Somebody needs to tell Kim Jong-un that the ...</td>\n",
       "      <td>2754</td>\n",
       "    </tr>\n",
       "    <tr>\n",
       "      <th>2755</th>\n",
       "      <td>2012-01-16 11:27:41</td>\n",
       "      <td>b'Once more, with feeling!  \"North Korea Punis...</td>\n",
       "      <td>2755</td>\n",
       "    </tr>\n",
       "    <tr>\n",
       "      <th>2774</th>\n",
       "      <td>2012-01-02 13:08:42</td>\n",
       "      <td>b\"World violence being super low is probably c...</td>\n",
       "      <td>2774</td>\n",
       "    </tr>\n",
       "    <tr>\n",
       "      <th>2775</th>\n",
       "      <td>2012-01-02 13:05:47</td>\n",
       "      <td>b\"Here's a happy thought for 2012: world viole...</td>\n",
       "      <td>2775</td>\n",
       "    </tr>\n",
       "    <tr>\n",
       "      <th>2813</th>\n",
       "      <td>2011-12-05 03:33:52</td>\n",
       "      <td>b'Am reading a great biography of Ben Franklin...</td>\n",
       "      <td>2813</td>\n",
       "    </tr>\n",
       "  </tbody>\n",
       "</table>\n",
       "<p>336 rows × 3 columns</p>\n",
       "</div>"
      ],
      "text/plain": [
       "              created_at                                               text  \\\n",
       "4    2017-04-03 06:05:23  b\"@DaveLeeBBC @verge Coal is dying due to nat ...   \n",
       "5    2017-04-03 06:04:07  b\"@Lexxxzis It's just a helicopter in helicopt...   \n",
       "6    2017-04-03 06:02:38                          b\"@verge It won't matter\"   \n",
       "7    2017-04-03 04:57:31                      b'@SuperCoolCube Pretty good'   \n",
       "8    2017-04-03 09:44:01  b\"Why did we waste so much time developing sil...   \n",
       "...                  ...                                                ...   \n",
       "2754 2012-01-16 11:29:34  b'Somebody needs to tell Kim Jong-un that the ...   \n",
       "2755 2012-01-16 11:27:41  b'Once more, with feeling!  \"North Korea Punis...   \n",
       "2774 2012-01-02 13:08:42  b\"World violence being super low is probably c...   \n",
       "2775 2012-01-02 13:05:47  b\"Here's a happy thought for 2012: world viole...   \n",
       "2813 2011-12-05 03:33:52  b'Am reading a great biography of Ben Franklin...   \n",
       "\n",
       "      Index  \n",
       "4         4  \n",
       "5         5  \n",
       "6         6  \n",
       "7         7  \n",
       "8         8  \n",
       "...     ...  \n",
       "2754   2754  \n",
       "2755   2755  \n",
       "2774   2774  \n",
       "2775   2775  \n",
       "2813   2813  \n",
       "\n",
       "[336 rows x 3 columns]"
      ]
     },
     "execution_count": 40,
     "metadata": {},
     "output_type": "execute_result"
    }
   ],
   "source": [
    "sunday"
   ]
  },
  {
   "cell_type": "code",
   "execution_count": 41,
   "id": "18c0a24a",
   "metadata": {},
   "outputs": [],
   "source": [
    "#tweets_data = tweets_data.drop(['days_name', 'dayofWeek_index'], axis=1)"
   ]
  },
  {
   "cell_type": "code",
   "execution_count": 42,
   "id": "8577f257",
   "metadata": {},
   "outputs": [],
   "source": [
    "#tweets = pd.concat()"
   ]
  },
  {
   "cell_type": "code",
   "execution_count": 43,
   "id": "7b45af9f",
   "metadata": {},
   "outputs": [],
   "source": [
    "tweets_data.update(newsundaydates) # updated the dataframe with new values\n",
    "tweets_data.update(newsaturdaydates)\n",
    "#tweets_data['created_at'] = newsundaydates.values\n",
    "#tweets_data['created_at'] = newsaturdaydates.values"
   ]
  },
  {
   "cell_type": "code",
   "execution_count": 44,
   "id": "5f8fdd9c",
   "metadata": {},
   "outputs": [
    {
     "data": {
      "text/html": [
       "<div>\n",
       "<style scoped>\n",
       "    .dataframe tbody tr th:only-of-type {\n",
       "        vertical-align: middle;\n",
       "    }\n",
       "\n",
       "    .dataframe tbody tr th {\n",
       "        vertical-align: top;\n",
       "    }\n",
       "\n",
       "    .dataframe thead th {\n",
       "        text-align: right;\n",
       "    }\n",
       "</style>\n",
       "<table border=\"1\" class=\"dataframe\">\n",
       "  <thead>\n",
       "    <tr style=\"text-align: right;\">\n",
       "      <th></th>\n",
       "      <th>created_at</th>\n",
       "      <th>text</th>\n",
       "      <th>Index</th>\n",
       "    </tr>\n",
       "  </thead>\n",
       "  <tbody>\n",
       "    <tr>\n",
       "      <th>0</th>\n",
       "      <td>2017-04-05 14:56:29</td>\n",
       "      <td>b'And so the robots spared humanity ... https:...</td>\n",
       "      <td>0</td>\n",
       "    </tr>\n",
       "    <tr>\n",
       "      <th>1</th>\n",
       "      <td>2017-04-04 11:01:01</td>\n",
       "      <td>b\"@ForIn2020 @waltmossberg @mims @defcon_5 Exa...</td>\n",
       "      <td>1</td>\n",
       "    </tr>\n",
       "    <tr>\n",
       "      <th>2</th>\n",
       "      <td>2017-04-04 07:59:35</td>\n",
       "      <td>b'@waltmossberg @mims @defcon_5 Et tu, Walt?'</td>\n",
       "      <td>2</td>\n",
       "    </tr>\n",
       "    <tr>\n",
       "      <th>3</th>\n",
       "      <td>2017-04-04 07:30:19</td>\n",
       "      <td>b'Stormy weather in Shortville ...'</td>\n",
       "      <td>3</td>\n",
       "    </tr>\n",
       "    <tr>\n",
       "      <th>4</th>\n",
       "      <td>2017-04-03 06:05:23</td>\n",
       "      <td>b\"@DaveLeeBBC @verge Coal is dying due to nat ...</td>\n",
       "      <td>4</td>\n",
       "    </tr>\n",
       "    <tr>\n",
       "      <th>...</th>\n",
       "      <td>...</td>\n",
       "      <td>...</td>\n",
       "      <td>...</td>\n",
       "    </tr>\n",
       "    <tr>\n",
       "      <th>2814</th>\n",
       "      <td>2011-12-05 08:22:07</td>\n",
       "      <td>b'That was a total non sequitur btw'</td>\n",
       "      <td>2814</td>\n",
       "    </tr>\n",
       "    <tr>\n",
       "      <th>2815</th>\n",
       "      <td>2011-12-05 08:20:28</td>\n",
       "      <td>b'Great Voltaire quote, arguably better than T...</td>\n",
       "      <td>2815</td>\n",
       "    </tr>\n",
       "    <tr>\n",
       "      <th>2816</th>\n",
       "      <td>2011-12-01 10:29:04</td>\n",
       "      <td>b'I made the volume on the Model S http://t.co...</td>\n",
       "      <td>2816</td>\n",
       "    </tr>\n",
       "    <tr>\n",
       "      <th>2817</th>\n",
       "      <td>2011-12-01 09:55:11</td>\n",
       "      <td>b\"Went to Iceland on Sat to ride bumper cars o...</td>\n",
       "      <td>2817</td>\n",
       "    </tr>\n",
       "    <tr>\n",
       "      <th>2818</th>\n",
       "      <td>2010-06-07 09:31:57</td>\n",
       "      <td>b'Please ignore prior tweets, as that was some...</td>\n",
       "      <td>2818</td>\n",
       "    </tr>\n",
       "  </tbody>\n",
       "</table>\n",
       "<p>2819 rows × 3 columns</p>\n",
       "</div>"
      ],
      "text/plain": [
       "              created_at                                               text  \\\n",
       "0    2017-04-05 14:56:29  b'And so the robots spared humanity ... https:...   \n",
       "1    2017-04-04 11:01:01  b\"@ForIn2020 @waltmossberg @mims @defcon_5 Exa...   \n",
       "2    2017-04-04 07:59:35      b'@waltmossberg @mims @defcon_5 Et tu, Walt?'   \n",
       "3    2017-04-04 07:30:19                b'Stormy weather in Shortville ...'   \n",
       "4    2017-04-03 06:05:23  b\"@DaveLeeBBC @verge Coal is dying due to nat ...   \n",
       "...                  ...                                                ...   \n",
       "2814 2011-12-05 08:22:07               b'That was a total non sequitur btw'   \n",
       "2815 2011-12-05 08:20:28  b'Great Voltaire quote, arguably better than T...   \n",
       "2816 2011-12-01 10:29:04  b'I made the volume on the Model S http://t.co...   \n",
       "2817 2011-12-01 09:55:11  b\"Went to Iceland on Sat to ride bumper cars o...   \n",
       "2818 2010-06-07 09:31:57  b'Please ignore prior tweets, as that was some...   \n",
       "\n",
       "      Index  \n",
       "0         0  \n",
       "1         1  \n",
       "2         2  \n",
       "3         3  \n",
       "4         4  \n",
       "...     ...  \n",
       "2814   2814  \n",
       "2815   2815  \n",
       "2816   2816  \n",
       "2817   2817  \n",
       "2818   2818  \n",
       "\n",
       "[2819 rows x 3 columns]"
      ]
     },
     "execution_count": 44,
     "metadata": {},
     "output_type": "execute_result"
    }
   ],
   "source": [
    "tweets_data # updated dataframe with no saturday and sunday dates"
   ]
  },
  {
   "cell_type": "code",
   "execution_count": 45,
   "id": "4dd2fb03",
   "metadata": {},
   "outputs": [],
   "source": [
    "tweets_data = tweets_data[['created_at','text']]# droping index column"
   ]
  },
  {
   "cell_type": "code",
   "execution_count": 46,
   "id": "9e51c7cd",
   "metadata": {},
   "outputs": [
    {
     "data": {
      "text/html": [
       "<div>\n",
       "<style scoped>\n",
       "    .dataframe tbody tr th:only-of-type {\n",
       "        vertical-align: middle;\n",
       "    }\n",
       "\n",
       "    .dataframe tbody tr th {\n",
       "        vertical-align: top;\n",
       "    }\n",
       "\n",
       "    .dataframe thead th {\n",
       "        text-align: right;\n",
       "    }\n",
       "</style>\n",
       "<table border=\"1\" class=\"dataframe\">\n",
       "  <thead>\n",
       "    <tr style=\"text-align: right;\">\n",
       "      <th></th>\n",
       "      <th>created_at</th>\n",
       "      <th>text</th>\n",
       "    </tr>\n",
       "  </thead>\n",
       "  <tbody>\n",
       "    <tr>\n",
       "      <th>0</th>\n",
       "      <td>2017-04-05 14:56:29</td>\n",
       "      <td>b'And so the robots spared humanity ... https:...</td>\n",
       "    </tr>\n",
       "    <tr>\n",
       "      <th>1</th>\n",
       "      <td>2017-04-04 11:01:01</td>\n",
       "      <td>b\"@ForIn2020 @waltmossberg @mims @defcon_5 Exa...</td>\n",
       "    </tr>\n",
       "    <tr>\n",
       "      <th>2</th>\n",
       "      <td>2017-04-04 07:59:35</td>\n",
       "      <td>b'@waltmossberg @mims @defcon_5 Et tu, Walt?'</td>\n",
       "    </tr>\n",
       "    <tr>\n",
       "      <th>3</th>\n",
       "      <td>2017-04-04 07:30:19</td>\n",
       "      <td>b'Stormy weather in Shortville ...'</td>\n",
       "    </tr>\n",
       "    <tr>\n",
       "      <th>4</th>\n",
       "      <td>2017-04-03 06:05:23</td>\n",
       "      <td>b\"@DaveLeeBBC @verge Coal is dying due to nat ...</td>\n",
       "    </tr>\n",
       "    <tr>\n",
       "      <th>...</th>\n",
       "      <td>...</td>\n",
       "      <td>...</td>\n",
       "    </tr>\n",
       "    <tr>\n",
       "      <th>2814</th>\n",
       "      <td>2011-12-05 08:22:07</td>\n",
       "      <td>b'That was a total non sequitur btw'</td>\n",
       "    </tr>\n",
       "    <tr>\n",
       "      <th>2815</th>\n",
       "      <td>2011-12-05 08:20:28</td>\n",
       "      <td>b'Great Voltaire quote, arguably better than T...</td>\n",
       "    </tr>\n",
       "    <tr>\n",
       "      <th>2816</th>\n",
       "      <td>2011-12-01 10:29:04</td>\n",
       "      <td>b'I made the volume on the Model S http://t.co...</td>\n",
       "    </tr>\n",
       "    <tr>\n",
       "      <th>2817</th>\n",
       "      <td>2011-12-01 09:55:11</td>\n",
       "      <td>b\"Went to Iceland on Sat to ride bumper cars o...</td>\n",
       "    </tr>\n",
       "    <tr>\n",
       "      <th>2818</th>\n",
       "      <td>2010-06-07 09:31:57</td>\n",
       "      <td>b'Please ignore prior tweets, as that was some...</td>\n",
       "    </tr>\n",
       "  </tbody>\n",
       "</table>\n",
       "<p>2819 rows × 2 columns</p>\n",
       "</div>"
      ],
      "text/plain": [
       "              created_at                                               text\n",
       "0    2017-04-05 14:56:29  b'And so the robots spared humanity ... https:...\n",
       "1    2017-04-04 11:01:01  b\"@ForIn2020 @waltmossberg @mims @defcon_5 Exa...\n",
       "2    2017-04-04 07:59:35      b'@waltmossberg @mims @defcon_5 Et tu, Walt?'\n",
       "3    2017-04-04 07:30:19                b'Stormy weather in Shortville ...'\n",
       "4    2017-04-03 06:05:23  b\"@DaveLeeBBC @verge Coal is dying due to nat ...\n",
       "...                  ...                                                ...\n",
       "2814 2011-12-05 08:22:07               b'That was a total non sequitur btw'\n",
       "2815 2011-12-05 08:20:28  b'Great Voltaire quote, arguably better than T...\n",
       "2816 2011-12-01 10:29:04  b'I made the volume on the Model S http://t.co...\n",
       "2817 2011-12-01 09:55:11  b\"Went to Iceland on Sat to ride bumper cars o...\n",
       "2818 2010-06-07 09:31:57  b'Please ignore prior tweets, as that was some...\n",
       "\n",
       "[2819 rows x 2 columns]"
      ]
     },
     "execution_count": 46,
     "metadata": {},
     "output_type": "execute_result"
    }
   ],
   "source": [
    "tweets_data # clean dataset with no tweets on saturday, sunday and after 4PM"
   ]
  },
  {
   "cell_type": "code",
   "execution_count": 47,
   "id": "198caaa1",
   "metadata": {},
   "outputs": [
    {
     "name": "stderr",
     "output_type": "stream",
     "text": [
      "[nltk_data] Downloading package stopwords to\n",
      "[nltk_data]     C:\\Users\\malik\\AppData\\Roaming\\nltk_data...\n",
      "[nltk_data]   Package stopwords is already up-to-date!\n",
      "[nltk_data] Downloading package wordnet to\n",
      "[nltk_data]     C:\\Users\\malik\\AppData\\Roaming\\nltk_data...\n",
      "[nltk_data]   Package wordnet is already up-to-date!\n",
      "[nltk_data] Downloading package omw-1.4 to\n",
      "[nltk_data]     C:\\Users\\malik\\AppData\\Roaming\\nltk_data...\n",
      "[nltk_data]   Package omw-1.4 is already up-to-date!\n"
     ]
    }
   ],
   "source": [
    "import re\n",
    "import nltk\n",
    "nltk.download('stopwords')\n",
    "nltk.download('wordnet')\n",
    "nltk.download('omw-1.4')\n",
    "from nltk.corpus import stopwords\n",
    "from nltk.stem.porter import PorterStemmer"
   ]
  },
  {
   "cell_type": "code",
   "execution_count": 48,
   "id": "cd68d810",
   "metadata": {},
   "outputs": [],
   "source": [
    "#print(stopwords.words('english'))\n",
    "#print(len(stopwords.words('english')))\n",
    "StopWords = stopwords.words('english')\n",
    "\n",
    "removewords = ['but','because','until','during','before','after','more','most','no','not','nor', 'only','own','same',\n",
    "         'very','can','wil','just',\"don't\",'should','now', \"couldn't\",\"didn't\", \"doesn't\",\"hadn't\", 'won']\n",
    "for words in removewords:\n",
    "    if words in StopWords:\n",
    "        StopWords.remove(words)\n",
    "\n",
    "StopWords.extend(['due', 'et','sat','http', 'https', 'com', '@[\\w]+','b', 'none', 'non', 'jujqwfcv', 'basically'\n",
    "                  'btw', 'altmossberg', 'aveleebbc', 'ims', 'co','dtype','hea','tu', 'v', 'wmcnt'])       \n",
    "#print('#########################################')\n",
    "#print(StopWords)\n",
    "#print(len(StopWords))\n"
   ]
  },
  {
   "cell_type": "code",
   "execution_count": 49,
   "id": "1923a0d5",
   "metadata": {},
   "outputs": [],
   "source": [
    "# This function will remove the unnecessary symbols, stopwords, and stem the words to tokens.\n",
    "def clean_string(review):\n",
    "    review = re.sub('@[a-zA-Z]', ' ', review) # remove hastags with @\n",
    "    review = re.sub('#[a-zA-Z]', ' ', review) # remove hastags with #\n",
    "    review = re.sub('[^a-zA-Z]', ' ', review) # remove every thing except alphabets \n",
    "    review = review.lower() # lower case all the tweets\n",
    "    review = review.split()\n",
    "    #ps = PorterStemmer()\n",
    "    wnl = nltk.WordNetLemmatizer()\n",
    "    review = [wnl.lemmatize(word) for word in review if not word in set(StopWords)]\n",
    "    review = ' '.join(review)\n",
    "    return review"
   ]
  },
  {
   "cell_type": "code",
   "execution_count": 50,
   "id": "34469f43",
   "metadata": {},
   "outputs": [],
   "source": [
    "corpus = tweets_data['text'].apply(clean_string) # applying the cleaning function"
   ]
  },
  {
   "cell_type": "code",
   "execution_count": 51,
   "id": "fb050879",
   "metadata": {},
   "outputs": [
    {
     "name": "stdout",
     "output_type": "stream",
     "text": [
      "0                                   robot spared humanity\n",
      "1       orin efcon exactly tesla absurdly overvalued b...\n",
      "2                                              efcon walt\n",
      "3                               stormy weather shortville\n",
      "4         erge coal dying nat gas fracking basically dead\n",
      "                              ...                        \n",
      "2814                                   total sequitur btw\n",
      "2815    great voltaire quote arguably better twain hea...\n",
      "2816    made volume model go now just need work miniat...\n",
      "2817    went iceland ride bumper car ice no not countr...\n",
      "2818    please ignore prior tweet someone pretending a...\n",
      "Name: text, Length: 2819, dtype: object\n"
     ]
    }
   ],
   "source": [
    "print(corpus)\n",
    "type(corpus)\n",
    "string = str(corpus)"
   ]
  },
  {
   "cell_type": "code",
   "execution_count": 52,
   "id": "e14e71e7",
   "metadata": {},
   "outputs": [
    {
     "name": "stderr",
     "output_type": "stream",
     "text": [
      "C:\\Users\\malik\\anaconda3\\lib\\site-packages\\pandas\\core\\frame.py:7511: SettingWithCopyWarning: \n",
      "A value is trying to be set on a copy of a slice from a DataFrame.\n",
      "Try using .loc[row_indexer,col_indexer] = value instead\n",
      "\n",
      "See the caveats in the documentation: https://pandas.pydata.org/pandas-docs/stable/user_guide/indexing.html#returning-a-view-versus-a-copy\n",
      "  self[col] = expressions.where(mask, this, that)\n"
     ]
    }
   ],
   "source": [
    "tweets_data.update(corpus)\n"
   ]
  },
  {
   "cell_type": "code",
   "execution_count": 53,
   "id": "2d9b64aa",
   "metadata": {},
   "outputs": [
    {
     "data": {
      "text/html": [
       "<div>\n",
       "<style scoped>\n",
       "    .dataframe tbody tr th:only-of-type {\n",
       "        vertical-align: middle;\n",
       "    }\n",
       "\n",
       "    .dataframe tbody tr th {\n",
       "        vertical-align: top;\n",
       "    }\n",
       "\n",
       "    .dataframe thead th {\n",
       "        text-align: right;\n",
       "    }\n",
       "</style>\n",
       "<table border=\"1\" class=\"dataframe\">\n",
       "  <thead>\n",
       "    <tr style=\"text-align: right;\">\n",
       "      <th></th>\n",
       "      <th>created_at</th>\n",
       "      <th>text</th>\n",
       "    </tr>\n",
       "  </thead>\n",
       "  <tbody>\n",
       "    <tr>\n",
       "      <th>0</th>\n",
       "      <td>2017-04-05 14:56:29</td>\n",
       "      <td>robot spared humanity</td>\n",
       "    </tr>\n",
       "    <tr>\n",
       "      <th>1</th>\n",
       "      <td>2017-04-04 11:01:01</td>\n",
       "      <td>orin efcon exactly tesla absurdly overvalued b...</td>\n",
       "    </tr>\n",
       "    <tr>\n",
       "      <th>2</th>\n",
       "      <td>2017-04-04 07:59:35</td>\n",
       "      <td>efcon walt</td>\n",
       "    </tr>\n",
       "    <tr>\n",
       "      <th>3</th>\n",
       "      <td>2017-04-04 07:30:19</td>\n",
       "      <td>stormy weather shortville</td>\n",
       "    </tr>\n",
       "    <tr>\n",
       "      <th>4</th>\n",
       "      <td>2017-04-03 06:05:23</td>\n",
       "      <td>erge coal dying nat gas fracking basically dead</td>\n",
       "    </tr>\n",
       "    <tr>\n",
       "      <th>...</th>\n",
       "      <td>...</td>\n",
       "      <td>...</td>\n",
       "    </tr>\n",
       "    <tr>\n",
       "      <th>2814</th>\n",
       "      <td>2011-12-05 08:22:07</td>\n",
       "      <td>total sequitur btw</td>\n",
       "    </tr>\n",
       "    <tr>\n",
       "      <th>2815</th>\n",
       "      <td>2011-12-05 08:20:28</td>\n",
       "      <td>great voltaire quote arguably better twain hea...</td>\n",
       "    </tr>\n",
       "    <tr>\n",
       "      <th>2816</th>\n",
       "      <td>2011-12-01 10:29:04</td>\n",
       "      <td>made volume model go now just need work miniat...</td>\n",
       "    </tr>\n",
       "    <tr>\n",
       "      <th>2817</th>\n",
       "      <td>2011-12-01 09:55:11</td>\n",
       "      <td>went iceland ride bumper car ice no not countr...</td>\n",
       "    </tr>\n",
       "    <tr>\n",
       "      <th>2818</th>\n",
       "      <td>2010-06-07 09:31:57</td>\n",
       "      <td>please ignore prior tweet someone pretending a...</td>\n",
       "    </tr>\n",
       "  </tbody>\n",
       "</table>\n",
       "<p>2819 rows × 2 columns</p>\n",
       "</div>"
      ],
      "text/plain": [
       "              created_at                                               text\n",
       "0    2017-04-05 14:56:29                              robot spared humanity\n",
       "1    2017-04-04 11:01:01  orin efcon exactly tesla absurdly overvalued b...\n",
       "2    2017-04-04 07:59:35                                         efcon walt\n",
       "3    2017-04-04 07:30:19                          stormy weather shortville\n",
       "4    2017-04-03 06:05:23    erge coal dying nat gas fracking basically dead\n",
       "...                  ...                                                ...\n",
       "2814 2011-12-05 08:22:07                                 total sequitur btw\n",
       "2815 2011-12-05 08:20:28  great voltaire quote arguably better twain hea...\n",
       "2816 2011-12-01 10:29:04  made volume model go now just need work miniat...\n",
       "2817 2011-12-01 09:55:11  went iceland ride bumper car ice no not countr...\n",
       "2818 2010-06-07 09:31:57  please ignore prior tweet someone pretending a...\n",
       "\n",
       "[2819 rows x 2 columns]"
      ]
     },
     "execution_count": 53,
     "metadata": {},
     "output_type": "execute_result"
    }
   ],
   "source": [
    "tweets_data"
   ]
  },
  {
   "cell_type": "code",
   "execution_count": 54,
   "id": "38a1ccef",
   "metadata": {},
   "outputs": [],
   "source": [
    "word_cloud = WordCloud(collocations = False, max_words = 100 ,background_color = 'white').generate(string)"
   ]
  },
  {
   "cell_type": "code",
   "execution_count": 55,
   "id": "2d4431cb",
   "metadata": {},
   "outputs": [
    {
     "data": {
      "image/png": "[encoded data removed]",
      "text/plain": [
       "<Figure size 432x288 with 1 Axes>"
      ]
     },
     "metadata": {
      "needs_background": "light"
     },
     "output_type": "display_data"
    }
   ],
   "source": [
    "plt.imshow(word_cloud, interpolation='bilinear')\n",
    "plt.axis(\"off\")\n",
    "plt.show() "
   ]
  },
  {
   "cell_type": "code",
   "execution_count": 56,
   "id": "279cff93",
   "metadata": {},
   "outputs": [],
   "source": [
    "#word_cloud.to_file('N.png')"
   ]
  },
  {
   "cell_type": "code",
   "execution_count": 57,
   "id": "ab020ea6",
   "metadata": {},
   "outputs": [],
   "source": [
    "#days = tweets_data['created_at'].dt.day_name()\n",
    "#days_index = tweets_data['created_at'].dt.dayofweek\n",
    "#tweets_data['days_name'] = days\n",
    "#tweets_data['dayofWeek_index'] = days_index\n"
   ]
  },
  {
   "cell_type": "code",
   "execution_count": 58,
   "id": "3eb4fccc",
   "metadata": {},
   "outputs": [],
   "source": [
    "df9 = tweets_data         #copying tweets dataset into df9 dataframe\n",
    "df9['date'] = df9['created_at'].dt.date  # removing time from datetime column and saving in new column name as date  "
   ]
  },
  {
   "cell_type": "code",
   "execution_count": 59,
   "id": "577c1458",
   "metadata": {},
   "outputs": [
    {
     "data": {
      "text/html": [
       "<div>\n",
       "<style scoped>\n",
       "    .dataframe tbody tr th:only-of-type {\n",
       "        vertical-align: middle;\n",
       "    }\n",
       "\n",
       "    .dataframe tbody tr th {\n",
       "        vertical-align: top;\n",
       "    }\n",
       "\n",
       "    .dataframe thead th {\n",
       "        text-align: right;\n",
       "    }\n",
       "</style>\n",
       "<table border=\"1\" class=\"dataframe\">\n",
       "  <thead>\n",
       "    <tr style=\"text-align: right;\">\n",
       "      <th></th>\n",
       "      <th>text</th>\n",
       "      <th>date</th>\n",
       "    </tr>\n",
       "  </thead>\n",
       "  <tbody>\n",
       "    <tr>\n",
       "      <th>0</th>\n",
       "      <td>robot spared humanity</td>\n",
       "      <td>2017-04-05</td>\n",
       "    </tr>\n",
       "    <tr>\n",
       "      <th>1</th>\n",
       "      <td>orin efcon exactly tesla absurdly overvalued b...</td>\n",
       "      <td>2017-04-04</td>\n",
       "    </tr>\n",
       "    <tr>\n",
       "      <th>2</th>\n",
       "      <td>efcon walt</td>\n",
       "      <td>2017-04-04</td>\n",
       "    </tr>\n",
       "    <tr>\n",
       "      <th>3</th>\n",
       "      <td>stormy weather shortville</td>\n",
       "      <td>2017-04-04</td>\n",
       "    </tr>\n",
       "    <tr>\n",
       "      <th>4</th>\n",
       "      <td>erge coal dying nat gas fracking basically dead</td>\n",
       "      <td>2017-04-03</td>\n",
       "    </tr>\n",
       "    <tr>\n",
       "      <th>...</th>\n",
       "      <td>...</td>\n",
       "      <td>...</td>\n",
       "    </tr>\n",
       "    <tr>\n",
       "      <th>2814</th>\n",
       "      <td>total sequitur btw</td>\n",
       "      <td>2011-12-05</td>\n",
       "    </tr>\n",
       "    <tr>\n",
       "      <th>2815</th>\n",
       "      <td>great voltaire quote arguably better twain hea...</td>\n",
       "      <td>2011-12-05</td>\n",
       "    </tr>\n",
       "    <tr>\n",
       "      <th>2816</th>\n",
       "      <td>made volume model go now just need work miniat...</td>\n",
       "      <td>2011-12-01</td>\n",
       "    </tr>\n",
       "    <tr>\n",
       "      <th>2817</th>\n",
       "      <td>went iceland ride bumper car ice no not countr...</td>\n",
       "      <td>2011-12-01</td>\n",
       "    </tr>\n",
       "    <tr>\n",
       "      <th>2818</th>\n",
       "      <td>please ignore prior tweet someone pretending a...</td>\n",
       "      <td>2010-06-07</td>\n",
       "    </tr>\n",
       "  </tbody>\n",
       "</table>\n",
       "<p>2819 rows × 2 columns</p>\n",
       "</div>"
      ],
      "text/plain": [
       "                                                   text        date\n",
       "0                                 robot spared humanity  2017-04-05\n",
       "1     orin efcon exactly tesla absurdly overvalued b...  2017-04-04\n",
       "2                                            efcon walt  2017-04-04\n",
       "3                             stormy weather shortville  2017-04-04\n",
       "4       erge coal dying nat gas fracking basically dead  2017-04-03\n",
       "...                                                 ...         ...\n",
       "2814                                 total sequitur btw  2011-12-05\n",
       "2815  great voltaire quote arguably better twain hea...  2011-12-05\n",
       "2816  made volume model go now just need work miniat...  2011-12-01\n",
       "2817  went iceland ride bumper car ice no not countr...  2011-12-01\n",
       "2818  please ignore prior tweet someone pretending a...  2010-06-07\n",
       "\n",
       "[2819 rows x 2 columns]"
      ]
     },
     "execution_count": 59,
     "metadata": {},
     "output_type": "execute_result"
    }
   ],
   "source": [
    "df9 = df9.drop('created_at',axis=1) # dropping column of name created_at\n",
    "df9\n",
    "#df9['date','text']"
   ]
  },
  {
   "cell_type": "code",
   "execution_count": 60,
   "id": "e54a8870",
   "metadata": {},
   "outputs": [
    {
     "data": {
      "text/html": [
       "<div>\n",
       "<style scoped>\n",
       "    .dataframe tbody tr th:only-of-type {\n",
       "        vertical-align: middle;\n",
       "    }\n",
       "\n",
       "    .dataframe tbody tr th {\n",
       "        vertical-align: top;\n",
       "    }\n",
       "\n",
       "    .dataframe thead th {\n",
       "        text-align: right;\n",
       "    }\n",
       "</style>\n",
       "<table border=\"1\" class=\"dataframe\">\n",
       "  <thead>\n",
       "    <tr style=\"text-align: right;\">\n",
       "      <th></th>\n",
       "      <th>date</th>\n",
       "      <th>text</th>\n",
       "    </tr>\n",
       "  </thead>\n",
       "  <tbody>\n",
       "    <tr>\n",
       "      <th>0</th>\n",
       "      <td>2017-04-05</td>\n",
       "      <td>robot spared humanity</td>\n",
       "    </tr>\n",
       "    <tr>\n",
       "      <th>1</th>\n",
       "      <td>2017-04-04</td>\n",
       "      <td>orin efcon exactly tesla absurdly overvalued b...</td>\n",
       "    </tr>\n",
       "    <tr>\n",
       "      <th>2</th>\n",
       "      <td>2017-04-04</td>\n",
       "      <td>efcon walt</td>\n",
       "    </tr>\n",
       "    <tr>\n",
       "      <th>3</th>\n",
       "      <td>2017-04-04</td>\n",
       "      <td>stormy weather shortville</td>\n",
       "    </tr>\n",
       "    <tr>\n",
       "      <th>4</th>\n",
       "      <td>2017-04-03</td>\n",
       "      <td>erge coal dying nat gas fracking basically dead</td>\n",
       "    </tr>\n",
       "    <tr>\n",
       "      <th>...</th>\n",
       "      <td>...</td>\n",
       "      <td>...</td>\n",
       "    </tr>\n",
       "    <tr>\n",
       "      <th>2814</th>\n",
       "      <td>2011-12-05</td>\n",
       "      <td>total sequitur btw</td>\n",
       "    </tr>\n",
       "    <tr>\n",
       "      <th>2815</th>\n",
       "      <td>2011-12-05</td>\n",
       "      <td>great voltaire quote arguably better twain hea...</td>\n",
       "    </tr>\n",
       "    <tr>\n",
       "      <th>2816</th>\n",
       "      <td>2011-12-01</td>\n",
       "      <td>made volume model go now just need work miniat...</td>\n",
       "    </tr>\n",
       "    <tr>\n",
       "      <th>2817</th>\n",
       "      <td>2011-12-01</td>\n",
       "      <td>went iceland ride bumper car ice no not countr...</td>\n",
       "    </tr>\n",
       "    <tr>\n",
       "      <th>2818</th>\n",
       "      <td>2010-06-07</td>\n",
       "      <td>please ignore prior tweet someone pretending a...</td>\n",
       "    </tr>\n",
       "  </tbody>\n",
       "</table>\n",
       "<p>2819 rows × 2 columns</p>\n",
       "</div>"
      ],
      "text/plain": [
       "            date                                               text\n",
       "0     2017-04-05                              robot spared humanity\n",
       "1     2017-04-04  orin efcon exactly tesla absurdly overvalued b...\n",
       "2     2017-04-04                                         efcon walt\n",
       "3     2017-04-04                          stormy weather shortville\n",
       "4     2017-04-03    erge coal dying nat gas fracking basically dead\n",
       "...          ...                                                ...\n",
       "2814  2011-12-05                                 total sequitur btw\n",
       "2815  2011-12-05  great voltaire quote arguably better twain hea...\n",
       "2816  2011-12-01  made volume model go now just need work miniat...\n",
       "2817  2011-12-01  went iceland ride bumper car ice no not countr...\n",
       "2818  2010-06-07  please ignore prior tweet someone pretending a...\n",
       "\n",
       "[2819 rows x 2 columns]"
      ]
     },
     "execution_count": 60,
     "metadata": {},
     "output_type": "execute_result"
    }
   ],
   "source": [
    "df9 = df9[['date','text']] # setting the sequence of columns\n",
    "df9"
   ]
  },
  {
   "cell_type": "code",
   "execution_count": 61,
   "id": "3048721c",
   "metadata": {},
   "outputs": [
    {
     "name": "stdout",
     "output_type": "stream",
     "text": [
      "<class 'pandas.core.frame.DataFrame'>\n",
      "RangeIndex: 2819 entries, 0 to 2818\n",
      "Data columns (total 2 columns):\n",
      " #   Column  Non-Null Count  Dtype \n",
      "---  ------  --------------  ----- \n",
      " 0   date    2819 non-null   object\n",
      " 1   text    2819 non-null   object\n",
      "dtypes: object(2)\n",
      "memory usage: 44.2+ KB\n"
     ]
    }
   ],
   "source": [
    "df9.info()"
   ]
  },
  {
   "cell_type": "code",
   "execution_count": 62,
   "id": "e93fc9d5",
   "metadata": {},
   "outputs": [],
   "source": [
    "df9['date'] = df9['date'].astype('datetime64[ns]') # changing date column datatype from object to datetime64"
   ]
  },
  {
   "cell_type": "code",
   "execution_count": 63,
   "id": "e50d0abb",
   "metadata": {
    "scrolled": true
   },
   "outputs": [
    {
     "name": "stdout",
     "output_type": "stream",
     "text": [
      "<class 'pandas.core.frame.DataFrame'>\n",
      "RangeIndex: 2819 entries, 0 to 2818\n",
      "Data columns (total 2 columns):\n",
      " #   Column  Non-Null Count  Dtype         \n",
      "---  ------  --------------  -----         \n",
      " 0   date    2819 non-null   datetime64[ns]\n",
      " 1   text    2819 non-null   object        \n",
      "dtypes: datetime64[ns](1), object(1)\n",
      "memory usage: 44.2+ KB\n"
     ]
    }
   ],
   "source": [
    "df9.info() "
   ]
  },
  {
   "cell_type": "code",
   "execution_count": 64,
   "id": "969141d4",
   "metadata": {},
   "outputs": [],
   "source": [
    "df9 = df9.groupby('date').agg({'text':'sum'}) # combining all the tweets of same date"
   ]
  },
  {
   "cell_type": "code",
   "execution_count": 65,
   "id": "1be746dc",
   "metadata": {},
   "outputs": [
    {
     "data": {
      "text/html": [
       "<div>\n",
       "<style scoped>\n",
       "    .dataframe tbody tr th:only-of-type {\n",
       "        vertical-align: middle;\n",
       "    }\n",
       "\n",
       "    .dataframe tbody tr th {\n",
       "        vertical-align: top;\n",
       "    }\n",
       "\n",
       "    .dataframe thead th {\n",
       "        text-align: right;\n",
       "    }\n",
       "</style>\n",
       "<table border=\"1\" class=\"dataframe\">\n",
       "  <thead>\n",
       "    <tr style=\"text-align: right;\">\n",
       "      <th></th>\n",
       "      <th>text</th>\n",
       "    </tr>\n",
       "    <tr>\n",
       "      <th>date</th>\n",
       "      <th></th>\n",
       "    </tr>\n",
       "  </thead>\n",
       "  <tbody>\n",
       "    <tr>\n",
       "      <th>2010-06-07</th>\n",
       "      <td>please ignore prior tweet someone pretending a...</td>\n",
       "    </tr>\n",
       "    <tr>\n",
       "      <th>2011-12-01</th>\n",
       "      <td>made volume model go now just need work miniat...</td>\n",
       "    </tr>\n",
       "    <tr>\n",
       "      <th>2011-12-05</th>\n",
       "      <td>reading great biography ben franklin isaacson ...</td>\n",
       "    </tr>\n",
       "    <tr>\n",
       "      <th>2011-12-21</th>\n",
       "      <td>yeah really mom ayemusk attest nnot sure can h...</td>\n",
       "    </tr>\n",
       "    <tr>\n",
       "      <th>2011-12-22</th>\n",
       "      <td>model option performance red black deliver car...</td>\n",
       "    </tr>\n",
       "    <tr>\n",
       "      <th>...</th>\n",
       "      <td>...</td>\n",
       "    </tr>\n",
       "    <tr>\n",
       "      <th>2017-03-30</th>\n",
       "      <td>made today tesla sketch pad z dfp nnjust downl...</td>\n",
       "    </tr>\n",
       "    <tr>\n",
       "      <th>2017-03-31</th>\n",
       "      <td>rt pacex more photo today xe x x falcon launch...</td>\n",
       "    </tr>\n",
       "    <tr>\n",
       "      <th>2017-04-03</th>\n",
       "      <td>erge coal dying nat gas fracking basically dea...</td>\n",
       "    </tr>\n",
       "    <tr>\n",
       "      <th>2017-04-04</th>\n",
       "      <td>orin efcon exactly tesla absurdly overvalued b...</td>\n",
       "    </tr>\n",
       "    <tr>\n",
       "      <th>2017-04-05</th>\n",
       "      <td>robot spared humanity</td>\n",
       "    </tr>\n",
       "  </tbody>\n",
       "</table>\n",
       "<p>760 rows × 1 columns</p>\n",
       "</div>"
      ],
      "text/plain": [
       "                                                         text\n",
       "date                                                         \n",
       "2010-06-07  please ignore prior tweet someone pretending a...\n",
       "2011-12-01  made volume model go now just need work miniat...\n",
       "2011-12-05  reading great biography ben franklin isaacson ...\n",
       "2011-12-21  yeah really mom ayemusk attest nnot sure can h...\n",
       "2011-12-22  model option performance red black deliver car...\n",
       "...                                                       ...\n",
       "2017-03-30  made today tesla sketch pad z dfp nnjust downl...\n",
       "2017-03-31  rt pacex more photo today xe x x falcon launch...\n",
       "2017-04-03  erge coal dying nat gas fracking basically dea...\n",
       "2017-04-04  orin efcon exactly tesla absurdly overvalued b...\n",
       "2017-04-05                              robot spared humanity\n",
       "\n",
       "[760 rows x 1 columns]"
      ]
     },
     "execution_count": 65,
     "metadata": {},
     "output_type": "execute_result"
    }
   ],
   "source": [
    "df9"
   ]
  },
  {
   "cell_type": "code",
   "execution_count": 66,
   "id": "250b5b8b",
   "metadata": {},
   "outputs": [],
   "source": [
    "#dfi.export(df9.head(), 'FinalTweetaDF.png')"
   ]
  },
  {
   "cell_type": "markdown",
   "id": "b4ac555b",
   "metadata": {},
   "source": [
    "# Working on Stock Dataset"
   ]
  },
  {
   "cell_type": "code",
   "execution_count": 67,
   "id": "3710b928",
   "metadata": {},
   "outputs": [],
   "source": [
    "#stock_dataset = pd.read_csv('/home/hammad/Dropbox/University of Hertfordshire/FYP Project/Dataset/TSLA.csv')\n",
    "stock_dataset = pd.read_csv('C:/Users/malik/Dropbox/University of Hertfordshire/FYP Project/Dataset/TSLA1.csv', parse_dates=[\"Date\"])"
   ]
  },
  {
   "cell_type": "code",
   "execution_count": 68,
   "id": "a14e13c1",
   "metadata": {},
   "outputs": [
    {
     "data": {
      "text/html": [
       "<div>\n",
       "<style scoped>\n",
       "    .dataframe tbody tr th:only-of-type {\n",
       "        vertical-align: middle;\n",
       "    }\n",
       "\n",
       "    .dataframe tbody tr th {\n",
       "        vertical-align: top;\n",
       "    }\n",
       "\n",
       "    .dataframe thead th {\n",
       "        text-align: right;\n",
       "    }\n",
       "</style>\n",
       "<table border=\"1\" class=\"dataframe\">\n",
       "  <thead>\n",
       "    <tr style=\"text-align: right;\">\n",
       "      <th></th>\n",
       "      <th>Date</th>\n",
       "      <th>Open</th>\n",
       "      <th>High</th>\n",
       "      <th>Low</th>\n",
       "      <th>Close</th>\n",
       "      <th>Adj Close</th>\n",
       "      <th>Volume</th>\n",
       "    </tr>\n",
       "  </thead>\n",
       "  <tbody>\n",
       "    <tr>\n",
       "      <th>0</th>\n",
       "      <td>2010-06-30</td>\n",
       "      <td>1.719333</td>\n",
       "      <td>2.028000</td>\n",
       "      <td>1.553333</td>\n",
       "      <td>1.588667</td>\n",
       "      <td>1.588667</td>\n",
       "      <td>257806500</td>\n",
       "    </tr>\n",
       "    <tr>\n",
       "      <th>1</th>\n",
       "      <td>2010-07-01</td>\n",
       "      <td>1.666667</td>\n",
       "      <td>1.728000</td>\n",
       "      <td>1.351333</td>\n",
       "      <td>1.464000</td>\n",
       "      <td>1.464000</td>\n",
       "      <td>123282000</td>\n",
       "    </tr>\n",
       "    <tr>\n",
       "      <th>2</th>\n",
       "      <td>2010-07-02</td>\n",
       "      <td>1.533333</td>\n",
       "      <td>1.540000</td>\n",
       "      <td>1.247333</td>\n",
       "      <td>1.280000</td>\n",
       "      <td>1.280000</td>\n",
       "      <td>77097000</td>\n",
       "    </tr>\n",
       "    <tr>\n",
       "      <th>3</th>\n",
       "      <td>2010-07-06</td>\n",
       "      <td>1.333333</td>\n",
       "      <td>1.333333</td>\n",
       "      <td>1.055333</td>\n",
       "      <td>1.074000</td>\n",
       "      <td>1.074000</td>\n",
       "      <td>103003500</td>\n",
       "    </tr>\n",
       "    <tr>\n",
       "      <th>4</th>\n",
       "      <td>2010-07-07</td>\n",
       "      <td>1.093333</td>\n",
       "      <td>1.108667</td>\n",
       "      <td>0.998667</td>\n",
       "      <td>1.053333</td>\n",
       "      <td>1.053333</td>\n",
       "      <td>103825500</td>\n",
       "    </tr>\n",
       "  </tbody>\n",
       "</table>\n",
       "</div>"
      ],
      "text/plain": [
       "        Date      Open      High       Low     Close  Adj Close     Volume\n",
       "0 2010-06-30  1.719333  2.028000  1.553333  1.588667   1.588667  257806500\n",
       "1 2010-07-01  1.666667  1.728000  1.351333  1.464000   1.464000  123282000\n",
       "2 2010-07-02  1.533333  1.540000  1.247333  1.280000   1.280000   77097000\n",
       "3 2010-07-06  1.333333  1.333333  1.055333  1.074000   1.074000  103003500\n",
       "4 2010-07-07  1.093333  1.108667  0.998667  1.053333   1.053333  103825500"
      ]
     },
     "execution_count": 68,
     "metadata": {},
     "output_type": "execute_result"
    }
   ],
   "source": [
    "stock_dataset.head()"
   ]
  },
  {
   "cell_type": "code",
   "execution_count": 69,
   "id": "39f84fcd",
   "metadata": {},
   "outputs": [
    {
     "name": "stdout",
     "output_type": "stream",
     "text": [
      "<class 'pandas.core.frame.DataFrame'>\n",
      "RangeIndex: 1703 entries, 0 to 1702\n",
      "Data columns (total 7 columns):\n",
      " #   Column     Non-Null Count  Dtype         \n",
      "---  ------     --------------  -----         \n",
      " 0   Date       1703 non-null   datetime64[ns]\n",
      " 1   Open       1703 non-null   float64       \n",
      " 2   High       1703 non-null   float64       \n",
      " 3   Low        1703 non-null   float64       \n",
      " 4   Close      1703 non-null   float64       \n",
      " 5   Adj Close  1703 non-null   float64       \n",
      " 6   Volume     1703 non-null   int64         \n",
      "dtypes: datetime64[ns](1), float64(5), int64(1)\n",
      "memory usage: 93.3 KB\n"
     ]
    }
   ],
   "source": [
    "stock_dataset.info()"
   ]
  },
  {
   "cell_type": "code",
   "execution_count": 70,
   "id": "368d3e57",
   "metadata": {},
   "outputs": [
    {
     "data": {
      "text/plain": [
       "(Timestamp('2010-06-30 00:00:00'), Timestamp('2017-04-04 00:00:00'))"
      ]
     },
     "execution_count": 70,
     "metadata": {},
     "output_type": "execute_result"
    }
   ],
   "source": [
    "stock_dataset[\"Date\"].min() , stock_dataset[\"Date\"].max()"
   ]
  },
  {
   "cell_type": "code",
   "execution_count": 71,
   "id": "93990a83",
   "metadata": {},
   "outputs": [],
   "source": [
    "stock_dataset = stock_dataset[['Date','Adj Close']]"
   ]
  },
  {
   "cell_type": "code",
   "execution_count": 72,
   "id": "561c6e63",
   "metadata": {},
   "outputs": [
    {
     "data": {
      "text/html": [
       "<div>\n",
       "<style scoped>\n",
       "    .dataframe tbody tr th:only-of-type {\n",
       "        vertical-align: middle;\n",
       "    }\n",
       "\n",
       "    .dataframe tbody tr th {\n",
       "        vertical-align: top;\n",
       "    }\n",
       "\n",
       "    .dataframe thead th {\n",
       "        text-align: right;\n",
       "    }\n",
       "</style>\n",
       "<table border=\"1\" class=\"dataframe\">\n",
       "  <thead>\n",
       "    <tr style=\"text-align: right;\">\n",
       "      <th></th>\n",
       "      <th>Date</th>\n",
       "      <th>Adj Close</th>\n",
       "    </tr>\n",
       "  </thead>\n",
       "  <tbody>\n",
       "    <tr>\n",
       "      <th>0</th>\n",
       "      <td>2010-06-30</td>\n",
       "      <td>1.588667</td>\n",
       "    </tr>\n",
       "    <tr>\n",
       "      <th>1</th>\n",
       "      <td>2010-07-01</td>\n",
       "      <td>1.464000</td>\n",
       "    </tr>\n",
       "    <tr>\n",
       "      <th>2</th>\n",
       "      <td>2010-07-02</td>\n",
       "      <td>1.280000</td>\n",
       "    </tr>\n",
       "    <tr>\n",
       "      <th>3</th>\n",
       "      <td>2010-07-06</td>\n",
       "      <td>1.074000</td>\n",
       "    </tr>\n",
       "    <tr>\n",
       "      <th>4</th>\n",
       "      <td>2010-07-07</td>\n",
       "      <td>1.053333</td>\n",
       "    </tr>\n",
       "    <tr>\n",
       "      <th>...</th>\n",
       "      <td>...</td>\n",
       "      <td>...</td>\n",
       "    </tr>\n",
       "    <tr>\n",
       "      <th>1698</th>\n",
       "      <td>2017-03-29</td>\n",
       "      <td>18.492001</td>\n",
       "    </tr>\n",
       "    <tr>\n",
       "      <th>1699</th>\n",
       "      <td>2017-03-30</td>\n",
       "      <td>18.528000</td>\n",
       "    </tr>\n",
       "    <tr>\n",
       "      <th>1700</th>\n",
       "      <td>2017-03-31</td>\n",
       "      <td>18.553333</td>\n",
       "    </tr>\n",
       "    <tr>\n",
       "      <th>1701</th>\n",
       "      <td>2017-04-03</td>\n",
       "      <td>19.901333</td>\n",
       "    </tr>\n",
       "    <tr>\n",
       "      <th>1702</th>\n",
       "      <td>2017-04-04</td>\n",
       "      <td>20.246668</td>\n",
       "    </tr>\n",
       "  </tbody>\n",
       "</table>\n",
       "<p>1703 rows × 2 columns</p>\n",
       "</div>"
      ],
      "text/plain": [
       "           Date  Adj Close\n",
       "0    2010-06-30   1.588667\n",
       "1    2010-07-01   1.464000\n",
       "2    2010-07-02   1.280000\n",
       "3    2010-07-06   1.074000\n",
       "4    2010-07-07   1.053333\n",
       "...         ...        ...\n",
       "1698 2017-03-29  18.492001\n",
       "1699 2017-03-30  18.528000\n",
       "1700 2017-03-31  18.553333\n",
       "1701 2017-04-03  19.901333\n",
       "1702 2017-04-04  20.246668\n",
       "\n",
       "[1703 rows x 2 columns]"
      ]
     },
     "execution_count": 72,
     "metadata": {},
     "output_type": "execute_result"
    }
   ],
   "source": [
    "stock_dataset"
   ]
  },
  {
   "cell_type": "code",
   "execution_count": 73,
   "id": "242d6c62",
   "metadata": {},
   "outputs": [],
   "source": [
    "df1=stock_dataset"
   ]
  },
  {
   "cell_type": "code",
   "execution_count": 74,
   "id": "51c9b5e4",
   "metadata": {},
   "outputs": [],
   "source": [
    "df = stock_dataset['Adj Close']"
   ]
  },
  {
   "cell_type": "code",
   "execution_count": 75,
   "id": "30ddb469",
   "metadata": {},
   "outputs": [],
   "source": [
    "df2 = pd.DataFrame()\n",
    "b=[]\n",
    "for i in stock_dataset.index:\n",
    "    if i!=1702:\n",
    "        if (stock_dataset['Adj Close'][i+1]>stock_dataset['Adj Close'][i]):\n",
    "            b.append(-1)\n",
    "        elif (stock_dataset['Adj Close'][i+1]<stock_dataset['Adj Close'][i]):\n",
    "            b.append(1)\n",
    "        elif (stock_dataset['Adj Close'][i+1]==stock_dataset['Adj Close'][i]):\n",
    "            b.append(0)\n",
    "    else:\n",
    "        b.append(2)\n",
    "df2=pd.DataFrame(b)\n",
    "df3=df1.join(df2)"
   ]
  },
  {
   "cell_type": "code",
   "execution_count": 76,
   "id": "cda589ad",
   "metadata": {},
   "outputs": [
    {
     "data": {
      "text/html": [
       "<div>\n",
       "<style scoped>\n",
       "    .dataframe tbody tr th:only-of-type {\n",
       "        vertical-align: middle;\n",
       "    }\n",
       "\n",
       "    .dataframe tbody tr th {\n",
       "        vertical-align: top;\n",
       "    }\n",
       "\n",
       "    .dataframe thead th {\n",
       "        text-align: right;\n",
       "    }\n",
       "</style>\n",
       "<table border=\"1\" class=\"dataframe\">\n",
       "  <thead>\n",
       "    <tr style=\"text-align: right;\">\n",
       "      <th></th>\n",
       "      <th>Date</th>\n",
       "      <th>Adj Close</th>\n",
       "      <th>0</th>\n",
       "    </tr>\n",
       "  </thead>\n",
       "  <tbody>\n",
       "    <tr>\n",
       "      <th>0</th>\n",
       "      <td>2010-06-30</td>\n",
       "      <td>1.588667</td>\n",
       "      <td>1</td>\n",
       "    </tr>\n",
       "    <tr>\n",
       "      <th>1</th>\n",
       "      <td>2010-07-01</td>\n",
       "      <td>1.464000</td>\n",
       "      <td>1</td>\n",
       "    </tr>\n",
       "    <tr>\n",
       "      <th>2</th>\n",
       "      <td>2010-07-02</td>\n",
       "      <td>1.280000</td>\n",
       "      <td>1</td>\n",
       "    </tr>\n",
       "    <tr>\n",
       "      <th>3</th>\n",
       "      <td>2010-07-06</td>\n",
       "      <td>1.074000</td>\n",
       "      <td>1</td>\n",
       "    </tr>\n",
       "    <tr>\n",
       "      <th>4</th>\n",
       "      <td>2010-07-07</td>\n",
       "      <td>1.053333</td>\n",
       "      <td>-1</td>\n",
       "    </tr>\n",
       "    <tr>\n",
       "      <th>...</th>\n",
       "      <td>...</td>\n",
       "      <td>...</td>\n",
       "      <td>...</td>\n",
       "    </tr>\n",
       "    <tr>\n",
       "      <th>1698</th>\n",
       "      <td>2017-03-29</td>\n",
       "      <td>18.492001</td>\n",
       "      <td>-1</td>\n",
       "    </tr>\n",
       "    <tr>\n",
       "      <th>1699</th>\n",
       "      <td>2017-03-30</td>\n",
       "      <td>18.528000</td>\n",
       "      <td>-1</td>\n",
       "    </tr>\n",
       "    <tr>\n",
       "      <th>1700</th>\n",
       "      <td>2017-03-31</td>\n",
       "      <td>18.553333</td>\n",
       "      <td>-1</td>\n",
       "    </tr>\n",
       "    <tr>\n",
       "      <th>1701</th>\n",
       "      <td>2017-04-03</td>\n",
       "      <td>19.901333</td>\n",
       "      <td>-1</td>\n",
       "    </tr>\n",
       "    <tr>\n",
       "      <th>1702</th>\n",
       "      <td>2017-04-04</td>\n",
       "      <td>20.246668</td>\n",
       "      <td>2</td>\n",
       "    </tr>\n",
       "  </tbody>\n",
       "</table>\n",
       "<p>1703 rows × 3 columns</p>\n",
       "</div>"
      ],
      "text/plain": [
       "           Date  Adj Close  0\n",
       "0    2010-06-30   1.588667  1\n",
       "1    2010-07-01   1.464000  1\n",
       "2    2010-07-02   1.280000  1\n",
       "3    2010-07-06   1.074000  1\n",
       "4    2010-07-07   1.053333 -1\n",
       "...         ...        ... ..\n",
       "1698 2017-03-29  18.492001 -1\n",
       "1699 2017-03-30  18.528000 -1\n",
       "1700 2017-03-31  18.553333 -1\n",
       "1701 2017-04-03  19.901333 -1\n",
       "1702 2017-04-04  20.246668  2\n",
       "\n",
       "[1703 rows x 3 columns]"
      ]
     },
     "execution_count": 76,
     "metadata": {},
     "output_type": "execute_result"
    }
   ],
   "source": [
    "df3"
   ]
  },
  {
   "cell_type": "code",
   "execution_count": 77,
   "id": "2349f5c7",
   "metadata": {},
   "outputs": [],
   "source": [
    "df4 = df3.rename(columns={'Date': 'date', 0: 'stock_rate'})"
   ]
  },
  {
   "cell_type": "code",
   "execution_count": 78,
   "id": "1067df5d",
   "metadata": {},
   "outputs": [
    {
     "data": {
      "text/html": [
       "<div>\n",
       "<style scoped>\n",
       "    .dataframe tbody tr th:only-of-type {\n",
       "        vertical-align: middle;\n",
       "    }\n",
       "\n",
       "    .dataframe tbody tr th {\n",
       "        vertical-align: top;\n",
       "    }\n",
       "\n",
       "    .dataframe thead th {\n",
       "        text-align: right;\n",
       "    }\n",
       "</style>\n",
       "<table border=\"1\" class=\"dataframe\">\n",
       "  <thead>\n",
       "    <tr style=\"text-align: right;\">\n",
       "      <th></th>\n",
       "      <th>date</th>\n",
       "      <th>Adj Close</th>\n",
       "      <th>stock_rate</th>\n",
       "    </tr>\n",
       "  </thead>\n",
       "  <tbody>\n",
       "    <tr>\n",
       "      <th>0</th>\n",
       "      <td>2010-06-30</td>\n",
       "      <td>1.588667</td>\n",
       "      <td>1</td>\n",
       "    </tr>\n",
       "    <tr>\n",
       "      <th>1</th>\n",
       "      <td>2010-07-01</td>\n",
       "      <td>1.464000</td>\n",
       "      <td>1</td>\n",
       "    </tr>\n",
       "    <tr>\n",
       "      <th>2</th>\n",
       "      <td>2010-07-02</td>\n",
       "      <td>1.280000</td>\n",
       "      <td>1</td>\n",
       "    </tr>\n",
       "    <tr>\n",
       "      <th>3</th>\n",
       "      <td>2010-07-06</td>\n",
       "      <td>1.074000</td>\n",
       "      <td>1</td>\n",
       "    </tr>\n",
       "    <tr>\n",
       "      <th>4</th>\n",
       "      <td>2010-07-07</td>\n",
       "      <td>1.053333</td>\n",
       "      <td>-1</td>\n",
       "    </tr>\n",
       "    <tr>\n",
       "      <th>...</th>\n",
       "      <td>...</td>\n",
       "      <td>...</td>\n",
       "      <td>...</td>\n",
       "    </tr>\n",
       "    <tr>\n",
       "      <th>1698</th>\n",
       "      <td>2017-03-29</td>\n",
       "      <td>18.492001</td>\n",
       "      <td>-1</td>\n",
       "    </tr>\n",
       "    <tr>\n",
       "      <th>1699</th>\n",
       "      <td>2017-03-30</td>\n",
       "      <td>18.528000</td>\n",
       "      <td>-1</td>\n",
       "    </tr>\n",
       "    <tr>\n",
       "      <th>1700</th>\n",
       "      <td>2017-03-31</td>\n",
       "      <td>18.553333</td>\n",
       "      <td>-1</td>\n",
       "    </tr>\n",
       "    <tr>\n",
       "      <th>1701</th>\n",
       "      <td>2017-04-03</td>\n",
       "      <td>19.901333</td>\n",
       "      <td>-1</td>\n",
       "    </tr>\n",
       "    <tr>\n",
       "      <th>1702</th>\n",
       "      <td>2017-04-04</td>\n",
       "      <td>20.246668</td>\n",
       "      <td>2</td>\n",
       "    </tr>\n",
       "  </tbody>\n",
       "</table>\n",
       "<p>1703 rows × 3 columns</p>\n",
       "</div>"
      ],
      "text/plain": [
       "           date  Adj Close  stock_rate\n",
       "0    2010-06-30   1.588667           1\n",
       "1    2010-07-01   1.464000           1\n",
       "2    2010-07-02   1.280000           1\n",
       "3    2010-07-06   1.074000           1\n",
       "4    2010-07-07   1.053333          -1\n",
       "...         ...        ...         ...\n",
       "1698 2017-03-29  18.492001          -1\n",
       "1699 2017-03-30  18.528000          -1\n",
       "1700 2017-03-31  18.553333          -1\n",
       "1701 2017-04-03  19.901333          -1\n",
       "1702 2017-04-04  20.246668           2\n",
       "\n",
       "[1703 rows x 3 columns]"
      ]
     },
     "execution_count": 78,
     "metadata": {},
     "output_type": "execute_result"
    }
   ],
   "source": [
    "df4"
   ]
  },
  {
   "cell_type": "code",
   "execution_count": 79,
   "id": "eeb26edf",
   "metadata": {},
   "outputs": [],
   "source": [
    "df4 = df4[['date','stock_rate']]"
   ]
  },
  {
   "cell_type": "code",
   "execution_count": 80,
   "id": "fccc51bc",
   "metadata": {},
   "outputs": [
    {
     "data": {
      "text/html": [
       "<div>\n",
       "<style scoped>\n",
       "    .dataframe tbody tr th:only-of-type {\n",
       "        vertical-align: middle;\n",
       "    }\n",
       "\n",
       "    .dataframe tbody tr th {\n",
       "        vertical-align: top;\n",
       "    }\n",
       "\n",
       "    .dataframe thead th {\n",
       "        text-align: right;\n",
       "    }\n",
       "</style>\n",
       "<table border=\"1\" class=\"dataframe\">\n",
       "  <thead>\n",
       "    <tr style=\"text-align: right;\">\n",
       "      <th></th>\n",
       "      <th>date</th>\n",
       "      <th>stock_rate</th>\n",
       "    </tr>\n",
       "  </thead>\n",
       "  <tbody>\n",
       "    <tr>\n",
       "      <th>0</th>\n",
       "      <td>2010-06-30</td>\n",
       "      <td>1</td>\n",
       "    </tr>\n",
       "    <tr>\n",
       "      <th>1</th>\n",
       "      <td>2010-07-01</td>\n",
       "      <td>1</td>\n",
       "    </tr>\n",
       "    <tr>\n",
       "      <th>2</th>\n",
       "      <td>2010-07-02</td>\n",
       "      <td>1</td>\n",
       "    </tr>\n",
       "    <tr>\n",
       "      <th>3</th>\n",
       "      <td>2010-07-06</td>\n",
       "      <td>1</td>\n",
       "    </tr>\n",
       "    <tr>\n",
       "      <th>4</th>\n",
       "      <td>2010-07-07</td>\n",
       "      <td>-1</td>\n",
       "    </tr>\n",
       "    <tr>\n",
       "      <th>...</th>\n",
       "      <td>...</td>\n",
       "      <td>...</td>\n",
       "    </tr>\n",
       "    <tr>\n",
       "      <th>1698</th>\n",
       "      <td>2017-03-29</td>\n",
       "      <td>-1</td>\n",
       "    </tr>\n",
       "    <tr>\n",
       "      <th>1699</th>\n",
       "      <td>2017-03-30</td>\n",
       "      <td>-1</td>\n",
       "    </tr>\n",
       "    <tr>\n",
       "      <th>1700</th>\n",
       "      <td>2017-03-31</td>\n",
       "      <td>-1</td>\n",
       "    </tr>\n",
       "    <tr>\n",
       "      <th>1701</th>\n",
       "      <td>2017-04-03</td>\n",
       "      <td>-1</td>\n",
       "    </tr>\n",
       "    <tr>\n",
       "      <th>1702</th>\n",
       "      <td>2017-04-04</td>\n",
       "      <td>2</td>\n",
       "    </tr>\n",
       "  </tbody>\n",
       "</table>\n",
       "<p>1703 rows × 2 columns</p>\n",
       "</div>"
      ],
      "text/plain": [
       "           date  stock_rate\n",
       "0    2010-06-30           1\n",
       "1    2010-07-01           1\n",
       "2    2010-07-02           1\n",
       "3    2010-07-06           1\n",
       "4    2010-07-07          -1\n",
       "...         ...         ...\n",
       "1698 2017-03-29          -1\n",
       "1699 2017-03-30          -1\n",
       "1700 2017-03-31          -1\n",
       "1701 2017-04-03          -1\n",
       "1702 2017-04-04           2\n",
       "\n",
       "[1703 rows x 2 columns]"
      ]
     },
     "execution_count": 80,
     "metadata": {},
     "output_type": "execute_result"
    }
   ],
   "source": [
    "df4"
   ]
  },
  {
   "cell_type": "code",
   "execution_count": 81,
   "id": "0bffb690",
   "metadata": {},
   "outputs": [
    {
     "name": "stdout",
     "output_type": "stream",
     "text": [
      "<class 'pandas.core.frame.DataFrame'>\n",
      "RangeIndex: 1703 entries, 0 to 1702\n",
      "Data columns (total 2 columns):\n",
      " #   Column      Non-Null Count  Dtype         \n",
      "---  ------      --------------  -----         \n",
      " 0   date        1703 non-null   datetime64[ns]\n",
      " 1   stock_rate  1703 non-null   int64         \n",
      "dtypes: datetime64[ns](1), int64(1)\n",
      "memory usage: 26.7 KB\n"
     ]
    }
   ],
   "source": [
    "df4.info()"
   ]
  },
  {
   "cell_type": "code",
   "execution_count": 82,
   "id": "26793591",
   "metadata": {},
   "outputs": [],
   "source": [
    "df4 = df4.set_index('date')"
   ]
  },
  {
   "cell_type": "code",
   "execution_count": 83,
   "id": "9afe50ed",
   "metadata": {},
   "outputs": [
    {
     "data": {
      "text/html": [
       "<div>\n",
       "<style scoped>\n",
       "    .dataframe tbody tr th:only-of-type {\n",
       "        vertical-align: middle;\n",
       "    }\n",
       "\n",
       "    .dataframe tbody tr th {\n",
       "        vertical-align: top;\n",
       "    }\n",
       "\n",
       "    .dataframe thead th {\n",
       "        text-align: right;\n",
       "    }\n",
       "</style>\n",
       "<table border=\"1\" class=\"dataframe\">\n",
       "  <thead>\n",
       "    <tr style=\"text-align: right;\">\n",
       "      <th></th>\n",
       "      <th>stock_rate</th>\n",
       "    </tr>\n",
       "    <tr>\n",
       "      <th>date</th>\n",
       "      <th></th>\n",
       "    </tr>\n",
       "  </thead>\n",
       "  <tbody>\n",
       "    <tr>\n",
       "      <th>2010-06-30</th>\n",
       "      <td>1</td>\n",
       "    </tr>\n",
       "    <tr>\n",
       "      <th>2010-07-01</th>\n",
       "      <td>1</td>\n",
       "    </tr>\n",
       "    <tr>\n",
       "      <th>2010-07-02</th>\n",
       "      <td>1</td>\n",
       "    </tr>\n",
       "    <tr>\n",
       "      <th>2010-07-06</th>\n",
       "      <td>1</td>\n",
       "    </tr>\n",
       "    <tr>\n",
       "      <th>2010-07-07</th>\n",
       "      <td>-1</td>\n",
       "    </tr>\n",
       "    <tr>\n",
       "      <th>...</th>\n",
       "      <td>...</td>\n",
       "    </tr>\n",
       "    <tr>\n",
       "      <th>2017-03-29</th>\n",
       "      <td>-1</td>\n",
       "    </tr>\n",
       "    <tr>\n",
       "      <th>2017-03-30</th>\n",
       "      <td>-1</td>\n",
       "    </tr>\n",
       "    <tr>\n",
       "      <th>2017-03-31</th>\n",
       "      <td>-1</td>\n",
       "    </tr>\n",
       "    <tr>\n",
       "      <th>2017-04-03</th>\n",
       "      <td>-1</td>\n",
       "    </tr>\n",
       "    <tr>\n",
       "      <th>2017-04-04</th>\n",
       "      <td>2</td>\n",
       "    </tr>\n",
       "  </tbody>\n",
       "</table>\n",
       "<p>1703 rows × 1 columns</p>\n",
       "</div>"
      ],
      "text/plain": [
       "            stock_rate\n",
       "date                  \n",
       "2010-06-30           1\n",
       "2010-07-01           1\n",
       "2010-07-02           1\n",
       "2010-07-06           1\n",
       "2010-07-07          -1\n",
       "...                ...\n",
       "2017-03-29          -1\n",
       "2017-03-30          -1\n",
       "2017-03-31          -1\n",
       "2017-04-03          -1\n",
       "2017-04-04           2\n",
       "\n",
       "[1703 rows x 1 columns]"
      ]
     },
     "execution_count": 83,
     "metadata": {},
     "output_type": "execute_result"
    }
   ],
   "source": [
    "df4"
   ]
  },
  {
   "cell_type": "markdown",
   "id": "5dee810b",
   "metadata": {},
   "source": [
    "# Combining Tweets and Stock Datasets"
   ]
  },
  {
   "cell_type": "code",
   "execution_count": 84,
   "id": "7052411d",
   "metadata": {},
   "outputs": [],
   "source": [
    "Final_dataset = pd.concat([df9, df4], axis=1) # combining tweets and stock datasets"
   ]
  },
  {
   "cell_type": "code",
   "execution_count": 85,
   "id": "2718b8b6",
   "metadata": {
    "scrolled": true
   },
   "outputs": [
    {
     "data": {
      "text/html": [
       "<div>\n",
       "<style scoped>\n",
       "    .dataframe tbody tr th:only-of-type {\n",
       "        vertical-align: middle;\n",
       "    }\n",
       "\n",
       "    .dataframe tbody tr th {\n",
       "        vertical-align: top;\n",
       "    }\n",
       "\n",
       "    .dataframe thead th {\n",
       "        text-align: right;\n",
       "    }\n",
       "</style>\n",
       "<table border=\"1\" class=\"dataframe\">\n",
       "  <thead>\n",
       "    <tr style=\"text-align: right;\">\n",
       "      <th></th>\n",
       "      <th>text</th>\n",
       "      <th>stock_rate</th>\n",
       "    </tr>\n",
       "    <tr>\n",
       "      <th>date</th>\n",
       "      <th></th>\n",
       "      <th></th>\n",
       "    </tr>\n",
       "  </thead>\n",
       "  <tbody>\n",
       "    <tr>\n",
       "      <th>2010-06-07</th>\n",
       "      <td>please ignore prior tweet someone pretending a...</td>\n",
       "      <td>NaN</td>\n",
       "    </tr>\n",
       "    <tr>\n",
       "      <th>2010-06-30</th>\n",
       "      <td>NaN</td>\n",
       "      <td>1.0</td>\n",
       "    </tr>\n",
       "    <tr>\n",
       "      <th>2010-07-01</th>\n",
       "      <td>NaN</td>\n",
       "      <td>1.0</td>\n",
       "    </tr>\n",
       "    <tr>\n",
       "      <th>2010-07-02</th>\n",
       "      <td>NaN</td>\n",
       "      <td>1.0</td>\n",
       "    </tr>\n",
       "    <tr>\n",
       "      <th>2010-07-06</th>\n",
       "      <td>NaN</td>\n",
       "      <td>1.0</td>\n",
       "    </tr>\n",
       "    <tr>\n",
       "      <th>...</th>\n",
       "      <td>...</td>\n",
       "      <td>...</td>\n",
       "    </tr>\n",
       "    <tr>\n",
       "      <th>2017-03-30</th>\n",
       "      <td>made today tesla sketch pad z dfp nnjust downl...</td>\n",
       "      <td>-1.0</td>\n",
       "    </tr>\n",
       "    <tr>\n",
       "      <th>2017-03-31</th>\n",
       "      <td>rt pacex more photo today xe x x falcon launch...</td>\n",
       "      <td>-1.0</td>\n",
       "    </tr>\n",
       "    <tr>\n",
       "      <th>2017-04-03</th>\n",
       "      <td>erge coal dying nat gas fracking basically dea...</td>\n",
       "      <td>-1.0</td>\n",
       "    </tr>\n",
       "    <tr>\n",
       "      <th>2017-04-04</th>\n",
       "      <td>orin efcon exactly tesla absurdly overvalued b...</td>\n",
       "      <td>2.0</td>\n",
       "    </tr>\n",
       "    <tr>\n",
       "      <th>2017-04-05</th>\n",
       "      <td>robot spared humanity</td>\n",
       "      <td>NaN</td>\n",
       "    </tr>\n",
       "  </tbody>\n",
       "</table>\n",
       "<p>1731 rows × 2 columns</p>\n",
       "</div>"
      ],
      "text/plain": [
       "                                                         text  stock_rate\n",
       "date                                                                     \n",
       "2010-06-07  please ignore prior tweet someone pretending a...         NaN\n",
       "2010-06-30                                                NaN         1.0\n",
       "2010-07-01                                                NaN         1.0\n",
       "2010-07-02                                                NaN         1.0\n",
       "2010-07-06                                                NaN         1.0\n",
       "...                                                       ...         ...\n",
       "2017-03-30  made today tesla sketch pad z dfp nnjust downl...        -1.0\n",
       "2017-03-31  rt pacex more photo today xe x x falcon launch...        -1.0\n",
       "2017-04-03  erge coal dying nat gas fracking basically dea...        -1.0\n",
       "2017-04-04  orin efcon exactly tesla absurdly overvalued b...         2.0\n",
       "2017-04-05                              robot spared humanity         NaN\n",
       "\n",
       "[1731 rows x 2 columns]"
      ]
     },
     "execution_count": 85,
     "metadata": {},
     "output_type": "execute_result"
    }
   ],
   "source": [
    "Final_dataset"
   ]
  },
  {
   "cell_type": "code",
   "execution_count": 86,
   "id": "df259306",
   "metadata": {},
   "outputs": [
    {
     "name": "stdout",
     "output_type": "stream",
     "text": [
      "<class 'pandas.core.frame.DataFrame'>\n",
      "DatetimeIndex: 1731 entries, 2010-06-07 to 2017-04-05\n",
      "Data columns (total 2 columns):\n",
      " #   Column      Non-Null Count  Dtype  \n",
      "---  ------      --------------  -----  \n",
      " 0   text        760 non-null    object \n",
      " 1   stock_rate  1703 non-null   float64\n",
      "dtypes: float64(1), object(1)\n",
      "memory usage: 40.6+ KB\n"
     ]
    }
   ],
   "source": [
    "Final_dataset.info()"
   ]
  },
  {
   "cell_type": "code",
   "execution_count": 87,
   "id": "44cf93fa",
   "metadata": {},
   "outputs": [
    {
     "data": {
      "text/plain": [
       "28"
      ]
     },
     "execution_count": 87,
     "metadata": {},
     "output_type": "execute_result"
    }
   ],
   "source": [
    "Final_dataset['stock_rate'].isna().sum() # Checking counts of null values in stock_rate column"
   ]
  },
  {
   "cell_type": "code",
   "execution_count": 88,
   "id": "0f3f531a",
   "metadata": {},
   "outputs": [
    {
     "data": {
      "text/plain": [
       "971"
      ]
     },
     "execution_count": 88,
     "metadata": {},
     "output_type": "execute_result"
    }
   ],
   "source": [
    "Final_dataset['text'].isna().sum() # checking counts of null values in text column"
   ]
  },
  {
   "cell_type": "code",
   "execution_count": 89,
   "id": "2fecf272",
   "metadata": {},
   "outputs": [],
   "source": [
    "Final_dataset = Final_dataset[Final_dataset['text'].notna()] # Extracting only non null rows in text column"
   ]
  },
  {
   "cell_type": "code",
   "execution_count": 90,
   "id": "1d4f506a",
   "metadata": {},
   "outputs": [
    {
     "data": {
      "text/html": [
       "<div>\n",
       "<style scoped>\n",
       "    .dataframe tbody tr th:only-of-type {\n",
       "        vertical-align: middle;\n",
       "    }\n",
       "\n",
       "    .dataframe tbody tr th {\n",
       "        vertical-align: top;\n",
       "    }\n",
       "\n",
       "    .dataframe thead th {\n",
       "        text-align: right;\n",
       "    }\n",
       "</style>\n",
       "<table border=\"1\" class=\"dataframe\">\n",
       "  <thead>\n",
       "    <tr style=\"text-align: right;\">\n",
       "      <th></th>\n",
       "      <th>text</th>\n",
       "      <th>stock_rate</th>\n",
       "    </tr>\n",
       "    <tr>\n",
       "      <th>date</th>\n",
       "      <th></th>\n",
       "      <th></th>\n",
       "    </tr>\n",
       "  </thead>\n",
       "  <tbody>\n",
       "    <tr>\n",
       "      <th>2010-06-07</th>\n",
       "      <td>please ignore prior tweet someone pretending a...</td>\n",
       "      <td>NaN</td>\n",
       "    </tr>\n",
       "    <tr>\n",
       "      <th>2011-12-01</th>\n",
       "      <td>made volume model go now just need work miniat...</td>\n",
       "      <td>-1.0</td>\n",
       "    </tr>\n",
       "    <tr>\n",
       "      <th>2011-12-05</th>\n",
       "      <td>reading great biography ben franklin isaacson ...</td>\n",
       "      <td>-1.0</td>\n",
       "    </tr>\n",
       "    <tr>\n",
       "      <th>2011-12-21</th>\n",
       "      <td>yeah really mom ayemusk attest nnot sure can h...</td>\n",
       "      <td>-1.0</td>\n",
       "    </tr>\n",
       "    <tr>\n",
       "      <th>2011-12-22</th>\n",
       "      <td>model option performance red black deliver car...</td>\n",
       "      <td>-1.0</td>\n",
       "    </tr>\n",
       "    <tr>\n",
       "      <th>...</th>\n",
       "      <td>...</td>\n",
       "      <td>...</td>\n",
       "    </tr>\n",
       "    <tr>\n",
       "      <th>2017-03-30</th>\n",
       "      <td>made today tesla sketch pad z dfp nnjust downl...</td>\n",
       "      <td>-1.0</td>\n",
       "    </tr>\n",
       "    <tr>\n",
       "      <th>2017-03-31</th>\n",
       "      <td>rt pacex more photo today xe x x falcon launch...</td>\n",
       "      <td>-1.0</td>\n",
       "    </tr>\n",
       "    <tr>\n",
       "      <th>2017-04-03</th>\n",
       "      <td>erge coal dying nat gas fracking basically dea...</td>\n",
       "      <td>-1.0</td>\n",
       "    </tr>\n",
       "    <tr>\n",
       "      <th>2017-04-04</th>\n",
       "      <td>orin efcon exactly tesla absurdly overvalued b...</td>\n",
       "      <td>2.0</td>\n",
       "    </tr>\n",
       "    <tr>\n",
       "      <th>2017-04-05</th>\n",
       "      <td>robot spared humanity</td>\n",
       "      <td>NaN</td>\n",
       "    </tr>\n",
       "  </tbody>\n",
       "</table>\n",
       "<p>760 rows × 2 columns</p>\n",
       "</div>"
      ],
      "text/plain": [
       "                                                         text  stock_rate\n",
       "date                                                                     \n",
       "2010-06-07  please ignore prior tweet someone pretending a...         NaN\n",
       "2011-12-01  made volume model go now just need work miniat...        -1.0\n",
       "2011-12-05  reading great biography ben franklin isaacson ...        -1.0\n",
       "2011-12-21  yeah really mom ayemusk attest nnot sure can h...        -1.0\n",
       "2011-12-22  model option performance red black deliver car...        -1.0\n",
       "...                                                       ...         ...\n",
       "2017-03-30  made today tesla sketch pad z dfp nnjust downl...        -1.0\n",
       "2017-03-31  rt pacex more photo today xe x x falcon launch...        -1.0\n",
       "2017-04-03  erge coal dying nat gas fracking basically dea...        -1.0\n",
       "2017-04-04  orin efcon exactly tesla absurdly overvalued b...         2.0\n",
       "2017-04-05                              robot spared humanity         NaN\n",
       "\n",
       "[760 rows x 2 columns]"
      ]
     },
     "execution_count": 90,
     "metadata": {},
     "output_type": "execute_result"
    }
   ],
   "source": [
    "Final_dataset"
   ]
  },
  {
   "cell_type": "code",
   "execution_count": 91,
   "id": "2055ddeb",
   "metadata": {},
   "outputs": [
    {
     "name": "stdout",
     "output_type": "stream",
     "text": [
      "<class 'pandas.core.frame.DataFrame'>\n",
      "DatetimeIndex: 760 entries, 2010-06-07 to 2017-04-05\n",
      "Data columns (total 2 columns):\n",
      " #   Column      Non-Null Count  Dtype  \n",
      "---  ------      --------------  -----  \n",
      " 0   text        760 non-null    object \n",
      " 1   stock_rate  732 non-null    float64\n",
      "dtypes: float64(1), object(1)\n",
      "memory usage: 17.8+ KB\n"
     ]
    }
   ],
   "source": [
    "Final_dataset.info()"
   ]
  },
  {
   "cell_type": "code",
   "execution_count": 92,
   "id": "5da345f2",
   "metadata": {},
   "outputs": [
    {
     "data": {
      "text/plain": [
       "-1.0    387\n",
       " 1.0    342\n",
       " 0.0      2\n",
       " 2.0      1\n",
       "Name: stock_rate, dtype: int64"
      ]
     },
     "execution_count": 92,
     "metadata": {},
     "output_type": "execute_result"
    }
   ],
   "source": [
    "Final_dataset['stock_rate'].value_counts()"
   ]
  },
  {
   "cell_type": "code",
   "execution_count": 93,
   "id": "a8dfdc22",
   "metadata": {},
   "outputs": [],
   "source": [
    "Final_dataset = Final_dataset.drop(['2010-06-07','2011-12-26','2012-01-02',\n",
    "                                    '2012-01-16','2012-11-22','2014-04-18',\n",
    "                                    '2015-01-19','2016-01-18','2016-03-25',\n",
    "                                    '2017-02-20', '2017-04-05'], axis = 0) # Remove irrelevant tweets of specific dates "
   ]
  },
  {
   "cell_type": "code",
   "execution_count": 94,
   "id": "56750a83",
   "metadata": {},
   "outputs": [],
   "source": [
    "Final_dataset.at['2012-04-06','stock_rate'] = 1.0  # putting the stock data on empty location taking refrence from previous date on yahoo finance\n",
    "Final_dataset.at['2012-05-28','stock_rate'] = 1.0\n",
    "Final_dataset.at['2012-10-29','stock_rate'] = 1.0\n",
    "Final_dataset.at['2013-01-21','stock_rate'] = 1.0\n",
    "Final_dataset.at['2013-02-18','stock_rate'] = 1.0\n",
    "Final_dataset.at['2013-03-29','stock_rate'] = 1.0\n",
    "Final_dataset.at['2013-05-27','stock_rate'] = 1.0\n",
    "Final_dataset.at['2013-11-28','stock_rate'] = 1.0\n",
    "Final_dataset.at['2014-05-26','stock_rate'] = -1.0\n",
    "Final_dataset.at['2015-01-01','stock_rate'] = -1.0\n",
    "Final_dataset.at['2016-01-01','stock_rate'] = -1.0\n",
    "Final_dataset.at['2016-02-15','stock_rate'] = 1.0\n",
    "Final_dataset.at['2016-05-30','stock_rate'] = 1.0\n",
    "Final_dataset.at['2016-11-24','stock_rate'] = 1.0\n",
    "Final_dataset.at['2016-12-26','stock_rate'] = 1.0\n",
    "Final_dataset.at['2017-01-02','stock_rate'] = 1.0\n",
    "Final_dataset.at['2017-01-16','stock_rate'] = -1.0"
   ]
  },
  {
   "cell_type": "code",
   "execution_count": 95,
   "id": "8efe15e3",
   "metadata": {
    "scrolled": true
   },
   "outputs": [
    {
     "data": {
      "text/html": [
       "<div>\n",
       "<style scoped>\n",
       "    .dataframe tbody tr th:only-of-type {\n",
       "        vertical-align: middle;\n",
       "    }\n",
       "\n",
       "    .dataframe tbody tr th {\n",
       "        vertical-align: top;\n",
       "    }\n",
       "\n",
       "    .dataframe thead th {\n",
       "        text-align: right;\n",
       "    }\n",
       "</style>\n",
       "<table border=\"1\" class=\"dataframe\">\n",
       "  <thead>\n",
       "    <tr style=\"text-align: right;\">\n",
       "      <th></th>\n",
       "      <th>text</th>\n",
       "      <th>stock_rate</th>\n",
       "    </tr>\n",
       "    <tr>\n",
       "      <th>date</th>\n",
       "      <th></th>\n",
       "      <th></th>\n",
       "    </tr>\n",
       "  </thead>\n",
       "  <tbody>\n",
       "    <tr>\n",
       "      <th>2011-12-01</th>\n",
       "      <td>made volume model go now just need work miniat...</td>\n",
       "      <td>-1.0</td>\n",
       "    </tr>\n",
       "    <tr>\n",
       "      <th>2011-12-05</th>\n",
       "      <td>reading great biography ben franklin isaacson ...</td>\n",
       "      <td>-1.0</td>\n",
       "    </tr>\n",
       "    <tr>\n",
       "      <th>2011-12-21</th>\n",
       "      <td>yeah really mom ayemusk attest nnot sure can h...</td>\n",
       "      <td>-1.0</td>\n",
       "    </tr>\n",
       "    <tr>\n",
       "      <th>2011-12-22</th>\n",
       "      <td>model option performance red black deliver car...</td>\n",
       "      <td>-1.0</td>\n",
       "    </tr>\n",
       "    <tr>\n",
       "      <th>2011-12-27</th>\n",
       "      <td>walked around neighborhood recently rebuilt he...</td>\n",
       "      <td>1.0</td>\n",
       "    </tr>\n",
       "    <tr>\n",
       "      <th>...</th>\n",
       "      <td>...</td>\n",
       "      <td>...</td>\n",
       "    </tr>\n",
       "    <tr>\n",
       "      <th>2017-03-29</th>\n",
       "      <td>anahull very yet china europe launch modelusin...</td>\n",
       "      <td>-1.0</td>\n",
       "    </tr>\n",
       "    <tr>\n",
       "      <th>2017-03-30</th>\n",
       "      <td>made today tesla sketch pad z dfp nnjust downl...</td>\n",
       "      <td>-1.0</td>\n",
       "    </tr>\n",
       "    <tr>\n",
       "      <th>2017-03-31</th>\n",
       "      <td>rt pacex more photo today xe x x falcon launch...</td>\n",
       "      <td>-1.0</td>\n",
       "    </tr>\n",
       "    <tr>\n",
       "      <th>2017-04-03</th>\n",
       "      <td>erge coal dying nat gas fracking basically dea...</td>\n",
       "      <td>-1.0</td>\n",
       "    </tr>\n",
       "    <tr>\n",
       "      <th>2017-04-04</th>\n",
       "      <td>orin efcon exactly tesla absurdly overvalued b...</td>\n",
       "      <td>2.0</td>\n",
       "    </tr>\n",
       "  </tbody>\n",
       "</table>\n",
       "<p>749 rows × 2 columns</p>\n",
       "</div>"
      ],
      "text/plain": [
       "                                                         text  stock_rate\n",
       "date                                                                     \n",
       "2011-12-01  made volume model go now just need work miniat...        -1.0\n",
       "2011-12-05  reading great biography ben franklin isaacson ...        -1.0\n",
       "2011-12-21  yeah really mom ayemusk attest nnot sure can h...        -1.0\n",
       "2011-12-22  model option performance red black deliver car...        -1.0\n",
       "2011-12-27  walked around neighborhood recently rebuilt he...         1.0\n",
       "...                                                       ...         ...\n",
       "2017-03-29  anahull very yet china europe launch modelusin...        -1.0\n",
       "2017-03-30  made today tesla sketch pad z dfp nnjust downl...        -1.0\n",
       "2017-03-31  rt pacex more photo today xe x x falcon launch...        -1.0\n",
       "2017-04-03  erge coal dying nat gas fracking basically dea...        -1.0\n",
       "2017-04-04  orin efcon exactly tesla absurdly overvalued b...         2.0\n",
       "\n",
       "[749 rows x 2 columns]"
      ]
     },
     "execution_count": 95,
     "metadata": {},
     "output_type": "execute_result"
    }
   ],
   "source": [
    "Final_dataset"
   ]
  },
  {
   "cell_type": "code",
   "execution_count": 96,
   "id": "6f9658bb",
   "metadata": {},
   "outputs": [
    {
     "name": "stdout",
     "output_type": "stream",
     "text": [
      "<class 'pandas.core.frame.DataFrame'>\n",
      "DatetimeIndex: 749 entries, 2011-12-01 to 2017-04-04\n",
      "Data columns (total 2 columns):\n",
      " #   Column      Non-Null Count  Dtype  \n",
      "---  ------      --------------  -----  \n",
      " 0   text        749 non-null    object \n",
      " 1   stock_rate  749 non-null    float64\n",
      "dtypes: float64(1), object(1)\n",
      "memory usage: 33.7+ KB\n"
     ]
    }
   ],
   "source": [
    "Final_dataset.info()"
   ]
  },
  {
   "cell_type": "code",
   "execution_count": 97,
   "id": "5cb7ec2d",
   "metadata": {},
   "outputs": [
    {
     "data": {
      "text/html": [
       "<div>\n",
       "<style scoped>\n",
       "    .dataframe tbody tr th:only-of-type {\n",
       "        vertical-align: middle;\n",
       "    }\n",
       "\n",
       "    .dataframe tbody tr th {\n",
       "        vertical-align: top;\n",
       "    }\n",
       "\n",
       "    .dataframe thead th {\n",
       "        text-align: right;\n",
       "    }\n",
       "</style>\n",
       "<table border=\"1\" class=\"dataframe\">\n",
       "  <thead>\n",
       "    <tr style=\"text-align: right;\">\n",
       "      <th></th>\n",
       "      <th>text</th>\n",
       "      <th>stock_rate</th>\n",
       "    </tr>\n",
       "    <tr>\n",
       "      <th>date</th>\n",
       "      <th></th>\n",
       "      <th></th>\n",
       "    </tr>\n",
       "  </thead>\n",
       "  <tbody>\n",
       "    <tr>\n",
       "      <th>2012-04-19</th>\n",
       "      <td>rt minute sal khan hanacademy make ime list wa...</td>\n",
       "      <td>0.0</td>\n",
       "    </tr>\n",
       "    <tr>\n",
       "      <th>2012-08-29</th>\n",
       "      <td>icketwaxter extending life mar would ensure hu...</td>\n",
       "      <td>0.0</td>\n",
       "    </tr>\n",
       "    <tr>\n",
       "      <th>2017-04-04</th>\n",
       "      <td>orin efcon exactly tesla absurdly overvalued b...</td>\n",
       "      <td>2.0</td>\n",
       "    </tr>\n",
       "  </tbody>\n",
       "</table>\n",
       "</div>"
      ],
      "text/plain": [
       "                                                         text  stock_rate\n",
       "date                                                                     \n",
       "2012-04-19  rt minute sal khan hanacademy make ime list wa...         0.0\n",
       "2012-08-29  icketwaxter extending life mar would ensure hu...         0.0\n",
       "2017-04-04  orin efcon exactly tesla absurdly overvalued b...         2.0"
      ]
     },
     "execution_count": 97,
     "metadata": {},
     "output_type": "execute_result"
    }
   ],
   "source": [
    "Final_dataset.loc[Final_dataset['stock_rate'].isin([0.0, 2.0])] # extracting all rows whose stock rate value is not 1 or -1"
   ]
  },
  {
   "cell_type": "code",
   "execution_count": 98,
   "id": "04ddb59e",
   "metadata": {},
   "outputs": [],
   "source": [
    "Final_dataset.at['2012-04-19','stock_rate'] = 1.0  # reassigning values which are not -1 or 1\n",
    "Final_dataset.at['2012-08-29','stock_rate'] = -1.0\n",
    "Final_dataset.at['2017-04-04','stock_rate'] = 1.0"
   ]
  },
  {
   "cell_type": "code",
   "execution_count": 99,
   "id": "80ef98f4",
   "metadata": {},
   "outputs": [
    {
     "data": {
      "text/plain": [
       "-1.0    392\n",
       " 1.0    357\n",
       "Name: stock_rate, dtype: int64"
      ]
     },
     "execution_count": 99,
     "metadata": {},
     "output_type": "execute_result"
    }
   ],
   "source": [
    "Final_dataset['stock_rate'].value_counts() "
   ]
  },
  {
   "cell_type": "code",
   "execution_count": 100,
   "id": "7f439ae6",
   "metadata": {},
   "outputs": [
    {
     "data": {
      "text/plain": [
       "(-1.5, 1.5)"
      ]
     },
     "execution_count": 100,
     "metadata": {},
     "output_type": "execute_result"
    },
    {
     "data": {
      "image/png": "[encoded data removed]",
      "text/plain": [
       "<Figure size 432x288 with 1 Axes>"
      ]
     },
     "metadata": {
      "needs_background": "light"
     },
     "output_type": "display_data"
    }
   ],
   "source": [
    "Final_dataset.hist(column = 'stock_rate', bins = 5, grid = False)\n",
    "plt.xlim(-1.5,1.5)"
   ]
  },
  {
   "cell_type": "code",
   "execution_count": 101,
   "id": "eb704660",
   "metadata": {},
   "outputs": [
    {
     "data": {
      "text/html": [
       "<div>\n",
       "<style scoped>\n",
       "    .dataframe tbody tr th:only-of-type {\n",
       "        vertical-align: middle;\n",
       "    }\n",
       "\n",
       "    .dataframe tbody tr th {\n",
       "        vertical-align: top;\n",
       "    }\n",
       "\n",
       "    .dataframe thead th {\n",
       "        text-align: right;\n",
       "    }\n",
       "</style>\n",
       "<table border=\"1\" class=\"dataframe\">\n",
       "  <thead>\n",
       "    <tr style=\"text-align: right;\">\n",
       "      <th></th>\n",
       "      <th>text</th>\n",
       "      <th>stock_rate</th>\n",
       "    </tr>\n",
       "    <tr>\n",
       "      <th>date</th>\n",
       "      <th></th>\n",
       "      <th></th>\n",
       "    </tr>\n",
       "  </thead>\n",
       "  <tbody>\n",
       "    <tr>\n",
       "      <th>2011-12-01</th>\n",
       "      <td>made volume model go now just need work miniat...</td>\n",
       "      <td>-1.0</td>\n",
       "    </tr>\n",
       "    <tr>\n",
       "      <th>2011-12-05</th>\n",
       "      <td>reading great biography ben franklin isaacson ...</td>\n",
       "      <td>-1.0</td>\n",
       "    </tr>\n",
       "    <tr>\n",
       "      <th>2011-12-21</th>\n",
       "      <td>yeah really mom ayemusk attest nnot sure can h...</td>\n",
       "      <td>-1.0</td>\n",
       "    </tr>\n",
       "    <tr>\n",
       "      <th>2011-12-22</th>\n",
       "      <td>model option performance red black deliver car...</td>\n",
       "      <td>-1.0</td>\n",
       "    </tr>\n",
       "    <tr>\n",
       "      <th>2011-12-27</th>\n",
       "      <td>walked around neighborhood recently rebuilt he...</td>\n",
       "      <td>1.0</td>\n",
       "    </tr>\n",
       "    <tr>\n",
       "      <th>...</th>\n",
       "      <td>...</td>\n",
       "      <td>...</td>\n",
       "    </tr>\n",
       "    <tr>\n",
       "      <th>2017-03-29</th>\n",
       "      <td>anahull very yet china europe launch modelusin...</td>\n",
       "      <td>-1.0</td>\n",
       "    </tr>\n",
       "    <tr>\n",
       "      <th>2017-03-30</th>\n",
       "      <td>made today tesla sketch pad z dfp nnjust downl...</td>\n",
       "      <td>-1.0</td>\n",
       "    </tr>\n",
       "    <tr>\n",
       "      <th>2017-03-31</th>\n",
       "      <td>rt pacex more photo today xe x x falcon launch...</td>\n",
       "      <td>-1.0</td>\n",
       "    </tr>\n",
       "    <tr>\n",
       "      <th>2017-04-03</th>\n",
       "      <td>erge coal dying nat gas fracking basically dea...</td>\n",
       "      <td>-1.0</td>\n",
       "    </tr>\n",
       "    <tr>\n",
       "      <th>2017-04-04</th>\n",
       "      <td>orin efcon exactly tesla absurdly overvalued b...</td>\n",
       "      <td>1.0</td>\n",
       "    </tr>\n",
       "  </tbody>\n",
       "</table>\n",
       "<p>749 rows × 2 columns</p>\n",
       "</div>"
      ],
      "text/plain": [
       "                                                         text  stock_rate\n",
       "date                                                                     \n",
       "2011-12-01  made volume model go now just need work miniat...        -1.0\n",
       "2011-12-05  reading great biography ben franklin isaacson ...        -1.0\n",
       "2011-12-21  yeah really mom ayemusk attest nnot sure can h...        -1.0\n",
       "2011-12-22  model option performance red black deliver car...        -1.0\n",
       "2011-12-27  walked around neighborhood recently rebuilt he...         1.0\n",
       "...                                                       ...         ...\n",
       "2017-03-29  anahull very yet china europe launch modelusin...        -1.0\n",
       "2017-03-30  made today tesla sketch pad z dfp nnjust downl...        -1.0\n",
       "2017-03-31  rt pacex more photo today xe x x falcon launch...        -1.0\n",
       "2017-04-03  erge coal dying nat gas fracking basically dea...        -1.0\n",
       "2017-04-04  orin efcon exactly tesla absurdly overvalued b...         1.0\n",
       "\n",
       "[749 rows x 2 columns]"
      ]
     },
     "execution_count": 101,
     "metadata": {},
     "output_type": "execute_result"
    }
   ],
   "source": [
    "Final_dataset"
   ]
  },
  {
   "cell_type": "code",
   "execution_count": 102,
   "id": "6a96d518",
   "metadata": {},
   "outputs": [],
   "source": [
    "#Final = Final_dataset"
   ]
  },
  {
   "cell_type": "code",
   "execution_count": 103,
   "id": "3a191718",
   "metadata": {},
   "outputs": [],
   "source": [
    "#Final.reset_index(drop=True, inplace=True)"
   ]
  },
  {
   "cell_type": "code",
   "execution_count": 104,
   "id": "9b544dc2",
   "metadata": {},
   "outputs": [],
   "source": [
    "#Final_dataset.head()\n"
   ]
  },
  {
   "cell_type": "markdown",
   "id": "6e1e3a91",
   "metadata": {},
   "source": [
    "# Splitting the dataset into training and testing"
   ]
  },
  {
   "cell_type": "code",
   "execution_count": 147,
   "id": "f9abbfa7",
   "metadata": {},
   "outputs": [],
   "source": [
    "from sklearn.metrics import accuracy_score\n",
    "from sklearn.model_selection import train_test_split"
   ]
  },
  {
   "cell_type": "code",
   "execution_count": 148,
   "id": "3741a668",
   "metadata": {},
   "outputs": [],
   "source": [
    "x = Final_dataset[['text']]         # separated features from target values\n",
    "y = Final_dataset[['stock_rate']]   # separated target values from features"
   ]
  },
  {
   "cell_type": "code",
   "execution_count": 149,
   "id": "e1fd6f3c",
   "metadata": {},
   "outputs": [],
   "source": [
    "x_train, x_test, y_train, y_test = train_test_split(x, y, random_state=0)\n",
    "X_train = x_train\n",
    "X_test = x_test\n",
    "Y_train = y_train\n",
    "Y_test = y_test "
   ]
  },
  {
   "cell_type": "markdown",
   "id": "ade26de1",
   "metadata": {},
   "source": [
    "# Text Data Vectorization"
   ]
  },
  {
   "cell_type": "code",
   "execution_count": 153,
   "id": "4601306a",
   "metadata": {},
   "outputs": [],
   "source": [
    "from sklearn.feature_extraction.text import TfidfVectorizer    # imported tf-idf vectorization"
   ]
  },
  {
   "cell_type": "code",
   "execution_count": 154,
   "id": "57176e0c",
   "metadata": {},
   "outputs": [],
   "source": [
    "vectorizer = TfidfVectorizer(min_df = 5,max_df = 0.8, sublinear_tf = True, use_idf = True) # parameters setting of tf-idf"
   ]
  },
  {
   "cell_type": "code",
   "execution_count": 155,
   "id": "bd3151d6",
   "metadata": {},
   "outputs": [],
   "source": [
    "x_train = vectorizer.fit_transform(x_train['text'])\n",
    "x_test = vectorizer.transform(x_test['text'])"
   ]
  },
  {
   "cell_type": "code",
   "execution_count": 158,
   "id": "3b24f51f",
   "metadata": {},
   "outputs": [
    {
     "data": {
      "text/plain": [
       "<561x713 sparse matrix of type '<class 'numpy.float64'>'\n",
       "\twith 9505 stored elements in Compressed Sparse Row format>"
      ]
     },
     "execution_count": 158,
     "metadata": {},
     "output_type": "execute_result"
    }
   ],
   "source": [
    "x_train"
   ]
  },
  {
   "cell_type": "markdown",
   "id": "e6cd4eb5",
   "metadata": {},
   "source": [
    "# Model Training"
   ]
  },
  {
   "cell_type": "markdown",
   "id": "62fcbd27",
   "metadata": {},
   "source": [
    "## 1) SVM Model"
   ]
  },
  {
   "cell_type": "code",
   "execution_count": 111,
   "id": "1996169a",
   "metadata": {},
   "outputs": [
    {
     "data": {
      "text/plain": [
       "SVC(kernel='linear')"
      ]
     },
     "execution_count": 111,
     "metadata": {},
     "output_type": "execute_result"
    }
   ],
   "source": [
    "from sklearn.svm import SVC       \n",
    "svm = SVC(kernel = \"linear\")\n",
    "svm.fit(x_train, y_train['stock_rate'])"
   ]
  },
  {
   "cell_type": "code",
   "execution_count": 112,
   "id": "da370638",
   "metadata": {},
   "outputs": [
    {
     "data": {
      "text/plain": [
       "0.526595744680851"
      ]
     },
     "execution_count": 112,
     "metadata": {},
     "output_type": "execute_result"
    }
   ],
   "source": [
    "y_pred = svm.predict(x_test)\n",
    "accuracy_score(y_test, y_pred)"
   ]
  },
  {
   "cell_type": "code",
   "execution_count": 113,
   "id": "03640b63",
   "metadata": {},
   "outputs": [],
   "source": [
    "acc = accuracy_score(y_test, y_pred)\n",
    "f1 = f1_score(y_test, y_pred)\n",
    "prec = precision_score(y_test, y_pred)\n",
    "rec = recall_score(y_test, y_pred)"
   ]
  },
  {
   "cell_type": "code",
   "execution_count": 114,
   "id": "f7a01b22",
   "metadata": {},
   "outputs": [],
   "source": [
    "results = pd.DataFrame([['SVM',acc,f1,prec,rec]], columns = ['Model','Accuracy','F1_score','Precision_score','Recall'])"
   ]
  },
  {
   "cell_type": "code",
   "execution_count": 115,
   "id": "d105333e",
   "metadata": {},
   "outputs": [
    {
     "data": {
      "text/html": [
       "<div>\n",
       "<style scoped>\n",
       "    .dataframe tbody tr th:only-of-type {\n",
       "        vertical-align: middle;\n",
       "    }\n",
       "\n",
       "    .dataframe tbody tr th {\n",
       "        vertical-align: top;\n",
       "    }\n",
       "\n",
       "    .dataframe thead th {\n",
       "        text-align: right;\n",
       "    }\n",
       "</style>\n",
       "<table border=\"1\" class=\"dataframe\">\n",
       "  <thead>\n",
       "    <tr style=\"text-align: right;\">\n",
       "      <th></th>\n",
       "      <th>Model</th>\n",
       "      <th>Accuracy</th>\n",
       "      <th>F1_score</th>\n",
       "      <th>Precision_score</th>\n",
       "      <th>Recall</th>\n",
       "    </tr>\n",
       "  </thead>\n",
       "  <tbody>\n",
       "    <tr>\n",
       "      <th>0</th>\n",
       "      <td>SVM</td>\n",
       "      <td>0.526596</td>\n",
       "      <td>0.479532</td>\n",
       "      <td>0.493976</td>\n",
       "      <td>0.465909</td>\n",
       "    </tr>\n",
       "  </tbody>\n",
       "</table>\n",
       "</div>"
      ],
      "text/plain": [
       "  Model  Accuracy  F1_score  Precision_score    Recall\n",
       "0   SVM  0.526596  0.479532         0.493976  0.465909"
      ]
     },
     "execution_count": 115,
     "metadata": {},
     "output_type": "execute_result"
    }
   ],
   "source": [
    "results  # results of SVM"
   ]
  },
  {
   "cell_type": "code",
   "execution_count": 116,
   "id": "a0ec6b9d",
   "metadata": {},
   "outputs": [
    {
     "data": {
      "text/plain": [
       "<sklearn.metrics._plot.confusion_matrix.ConfusionMatrixDisplay at 0x1d81e996d00>"
      ]
     },
     "execution_count": 116,
     "metadata": {},
     "output_type": "execute_result"
    },
    {
     "data": {
      "image/png": "[encoded data removed]",
      "text/plain": [
       "<Figure size 432x288 with 2 Axes>"
      ]
     },
     "metadata": {
      "needs_background": "light"
     },
     "output_type": "display_data"
    }
   ],
   "source": [
    "plot_confusion_matrix(svm, x_test, y_test, cmap ='Blues')"
   ]
  },
  {
   "cell_type": "code",
   "execution_count": 117,
   "id": "65ce77c4",
   "metadata": {},
   "outputs": [],
   "source": [
    "accuracies = cross_val_score(estimator=svm, X = x_train, y = y_train['stock_rate'], cv=10) # SVM+Cross Validation method"
   ]
  },
  {
   "cell_type": "code",
   "execution_count": 118,
   "id": "02b5ced5",
   "metadata": {},
   "outputs": [
    {
     "name": "stdout",
     "output_type": "stream",
     "text": [
      "Accuracy is 50.96%\n",
      "Standard Deviation is 6.42%\n"
     ]
    }
   ],
   "source": [
    "print(\"Accuracy is {:.2f}%\".format(accuracies.mean()*100))\n",
    "print(\"Standard Deviation is {:.2f}%\".format(accuracies.std()*100))"
   ]
  },
  {
   "cell_type": "markdown",
   "id": "eeade0b3",
   "metadata": {},
   "source": [
    "## 2) Random Forest"
   ]
  },
  {
   "cell_type": "code",
   "execution_count": 119,
   "id": "0f976890",
   "metadata": {},
   "outputs": [
    {
     "data": {
      "text/plain": [
       "RandomForestClassifier(random_state=0)"
      ]
     },
     "execution_count": 119,
     "metadata": {},
     "output_type": "execute_result"
    }
   ],
   "source": [
    "from sklearn.ensemble import RandomForestClassifier\n",
    "rm = RandomForestClassifier(random_state=0)\n",
    "rm.fit(x_train, y_train['stock_rate'])"
   ]
  },
  {
   "cell_type": "code",
   "execution_count": 120,
   "id": "c6688a55",
   "metadata": {},
   "outputs": [
    {
     "data": {
      "text/plain": [
       "0.5212765957446809"
      ]
     },
     "execution_count": 120,
     "metadata": {},
     "output_type": "execute_result"
    }
   ],
   "source": [
    "y_pred = rm.predict(x_test)\n",
    "accuracy_score(y_test, y_pred)"
   ]
  },
  {
   "cell_type": "code",
   "execution_count": 121,
   "id": "1f874dfd",
   "metadata": {},
   "outputs": [],
   "source": [
    "acc = accuracy_score(y_test, y_pred)\n",
    "f1 = f1_score(y_test, y_pred)\n",
    "prec = precision_score(y_test, y_pred)\n",
    "rec = recall_score(y_test, y_pred)"
   ]
  },
  {
   "cell_type": "code",
   "execution_count": 122,
   "id": "7128496b",
   "metadata": {},
   "outputs": [],
   "source": [
    "results_rm= pd.DataFrame([['RandomForest',acc,f1,prec,rec]], columns = ['Model','Accuracy','F1_score','Precision_score','Recall'])"
   ]
  },
  {
   "cell_type": "code",
   "execution_count": 123,
   "id": "7cbdb3cc",
   "metadata": {},
   "outputs": [],
   "source": [
    "results = results.append(results_rm, ignore_index=True)"
   ]
  },
  {
   "cell_type": "code",
   "execution_count": 124,
   "id": "8ee0b42e",
   "metadata": {},
   "outputs": [
    {
     "data": {
      "text/html": [
       "<div>\n",
       "<style scoped>\n",
       "    .dataframe tbody tr th:only-of-type {\n",
       "        vertical-align: middle;\n",
       "    }\n",
       "\n",
       "    .dataframe tbody tr th {\n",
       "        vertical-align: top;\n",
       "    }\n",
       "\n",
       "    .dataframe thead th {\n",
       "        text-align: right;\n",
       "    }\n",
       "</style>\n",
       "<table border=\"1\" class=\"dataframe\">\n",
       "  <thead>\n",
       "    <tr style=\"text-align: right;\">\n",
       "      <th></th>\n",
       "      <th>Model</th>\n",
       "      <th>Accuracy</th>\n",
       "      <th>F1_score</th>\n",
       "      <th>Precision_score</th>\n",
       "      <th>Recall</th>\n",
       "    </tr>\n",
       "  </thead>\n",
       "  <tbody>\n",
       "    <tr>\n",
       "      <th>0</th>\n",
       "      <td>SVM</td>\n",
       "      <td>0.526596</td>\n",
       "      <td>0.479532</td>\n",
       "      <td>0.493976</td>\n",
       "      <td>0.465909</td>\n",
       "    </tr>\n",
       "    <tr>\n",
       "      <th>1</th>\n",
       "      <td>RandomForest</td>\n",
       "      <td>0.521277</td>\n",
       "      <td>0.494382</td>\n",
       "      <td>0.488889</td>\n",
       "      <td>0.500000</td>\n",
       "    </tr>\n",
       "  </tbody>\n",
       "</table>\n",
       "</div>"
      ],
      "text/plain": [
       "          Model  Accuracy  F1_score  Precision_score    Recall\n",
       "0           SVM  0.526596  0.479532         0.493976  0.465909\n",
       "1  RandomForest  0.521277  0.494382         0.488889  0.500000"
      ]
     },
     "execution_count": 124,
     "metadata": {},
     "output_type": "execute_result"
    }
   ],
   "source": [
    "results"
   ]
  },
  {
   "cell_type": "code",
   "execution_count": 125,
   "id": "34b90c64",
   "metadata": {},
   "outputs": [
    {
     "data": {
      "text/plain": [
       "<sklearn.metrics._plot.confusion_matrix.ConfusionMatrixDisplay at 0x1d81ea92ac0>"
      ]
     },
     "execution_count": 125,
     "metadata": {},
     "output_type": "execute_result"
    },
    {
     "data": {
      "image/png": "[encoded data removed]",
      "text/plain": [
       "<Figure size 432x288 with 2 Axes>"
      ]
     },
     "metadata": {
      "needs_background": "light"
     },
     "output_type": "display_data"
    }
   ],
   "source": [
    "plot_confusion_matrix(rm, x_test, y_test, cmap ='Blues')"
   ]
  },
  {
   "cell_type": "code",
   "execution_count": 126,
   "id": "e0843b97",
   "metadata": {},
   "outputs": [],
   "source": [
    "accuracies = cross_val_score(estimator=rm, X = x_train, y = y_train['stock_rate'], cv=10) # random forest+Cross Validation method"
   ]
  },
  {
   "cell_type": "code",
   "execution_count": 127,
   "id": "cb19e2e2",
   "metadata": {},
   "outputs": [
    {
     "name": "stdout",
     "output_type": "stream",
     "text": [
      "Accuracy is 52.57%\n",
      "Standard Deviation is 5.49%\n"
     ]
    }
   ],
   "source": [
    "print(\"Accuracy is {:.2f}%\".format(accuracies.mean()*100))\n",
    "print(\"Standard Deviation is {:.2f}%\".format(accuracies.std()*100))"
   ]
  },
  {
   "cell_type": "code",
   "execution_count": null,
   "id": "723dca27",
   "metadata": {},
   "outputs": [],
   "source": []
  }
 ],
 "metadata": {
  "kernelspec": {
   "display_name": "Python 3 (ipykernel)",
   "language": "python",
   "name": "python3"
  },
  "language_info": {
   "codemirror_mode": {
    "name": "ipython",
    "version": 3
   },
   "file_extension": ".py",
   "mimetype": "text/x-python",
   "name": "python",
   "nbconvert_exporter": "python",
   "pygments_lexer": "ipython3",
   "version": "3.9.7"
  },
  "vscode": {
   "interpreter": {
    "hash": "a595e55eaafa01a9fd32a6217afd674d2b8ccd4b6df4a8210c9bf311c08bb403"
   }
  }
 },
 "nbformat": 4,
 "nbformat_minor": 5
}
